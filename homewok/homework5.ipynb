{
 "cells": [
  {
   "cell_type": "code",
   "execution_count": 1,
   "id": "5bbf0e6d",
   "metadata": {},
   "outputs": [],
   "source": [
    "import pyspark\n",
    "from pyspark.sql import SparkSession"
   ]
  },
  {
   "cell_type": "code",
   "execution_count": 2,
   "id": "52a43c54",
   "metadata": {
    "scrolled": true
   },
   "outputs": [
    {
     "name": "stderr",
     "output_type": "stream",
     "text": [
      "24/02/27 20:27:21 WARN Utils: Your hostname, Desktop-Gar resolves to a loopback address: 127.0.1.1; using 172.25.243.204 instead (on interface eth0)\n",
      "24/02/27 20:27:21 WARN Utils: Set SPARK_LOCAL_IP if you need to bind to another address\n",
      "Setting default log level to \"WARN\".\n",
      "To adjust logging level use sc.setLogLevel(newLevel). For SparkR, use setLogLevel(newLevel).\n",
      "24/02/27 20:27:24 WARN NativeCodeLoader: Unable to load native-hadoop library for your platform... using builtin-java classes where applicable\n"
     ]
    }
   ],
   "source": [
    "spark = SparkSession.builder \\\n",
    "    .master(\"local[*]\") \\\n",
    "    .appName('test') \\\n",
    "    .getOrCreate()"
   ]
  },
  {
   "cell_type": "markdown",
   "id": "33466713",
   "metadata": {},
   "source": [
    "## How many taxi trips were there on the 15th of October?"
   ]
  },
  {
   "cell_type": "code",
   "execution_count": 3,
   "id": "d458b2b8",
   "metadata": {},
   "outputs": [
    {
     "name": "stderr",
     "output_type": "stream",
     "text": [
      "                                                                                \r"
     ]
    }
   ],
   "source": [
    "df = spark.read \\\n",
    "    .option(\"header\", \"true\") \\\n",
    "    .csv('fhv_tripdata_2019-10.csv.gz')"
   ]
  },
  {
   "cell_type": "code",
   "execution_count": 4,
   "id": "daaa5817",
   "metadata": {},
   "outputs": [
    {
     "name": "stderr",
     "output_type": "stream",
     "text": [
      "                                                                                \r"
     ]
    }
   ],
   "source": [
    "# create 24 partitions in our dataframe\n",
    "df = df.repartition(6)\n",
    "# parquetize and write to fhvhv/2021/01/ folder\n",
    "df.write.parquet('fhvhv/2019/10/', mode='overwrite')"
   ]
  },
  {
   "cell_type": "code",
   "execution_count": 5,
   "id": "e53edd7d",
   "metadata": {},
   "outputs": [],
   "source": [
    "df = spark.read.parquet('fhvhv/2019/10/*')"
   ]
  },
  {
   "cell_type": "code",
   "execution_count": 6,
   "id": "00df8ce3",
   "metadata": {},
   "outputs": [
    {
     "name": "stdout",
     "output_type": "stream",
     "text": [
      "+--------------------+-------------------+-------------------+------------+------------+-------+----------------------+\n",
      "|dispatching_base_num|    pickup_datetime|   dropOff_datetime|PUlocationID|DOlocationID|SR_Flag|Affiliated_base_number|\n",
      "+--------------------+-------------------+-------------------+------------+------------+-------+----------------------+\n",
      "|              B01437|2019-10-18 16:58:08|2019-10-18 17:11:20|         264|         130|   null|                B01437|\n",
      "|              B03048|2019-10-11 09:20:25|2019-10-11 09:37:15|         264|         264|   null|                B03048|\n",
      "|              B01328|2019-10-08 09:02:00|2019-10-08 09:16:00|          78|         242|   null|                B02534|\n",
      "|              B00310|2019-10-17 14:52:53|2019-10-17 15:07:03|         264|          60|   null|                B00310|\n",
      "|              B01239|2019-10-04 12:15:42|2019-10-04 12:42:54|         264|         247|   null|                B03127|\n",
      "|              B01300|2019-10-30 12:06:20|2019-10-30 12:13:41|         264|         119|   null|                B01300|\n",
      "|              B03243|2019-10-18 07:57:37|2019-10-18 08:05:11|         264|          92|   null|                B03243|\n",
      "|              B00477|2019-10-08 08:45:39|2019-10-08 09:22:49|          61|         186|   null|                B00477|\n",
      "|              B00310|2019-10-07 09:42:59|2019-10-07 10:05:47|         264|          47|   null|                B00310|\n",
      "|              B03157|2019-10-19 07:40:52|2019-10-19 07:45:00|         264|         260|   null|                B03157|\n",
      "|              B01800|2019-10-28 15:12:00|2019-10-28 17:02:00|         264|         264|   null|                B01800|\n",
      "|              B00887|2019-10-10 10:59:09|2019-10-10 11:47:10|         264|         265|   null|                B02465|\n",
      "|              B00856|2019-10-28 04:58:35|2019-10-28 05:02:09|         264|          76|   null|                B00856|\n",
      "|              B00900|2019-10-20 04:44:45|2019-10-20 04:53:54|         264|          95|   null|                B00900|\n",
      "|              B02228|2019-10-16 14:29:15|2019-10-16 14:31:21|         264|         225|   null|                B02228|\n",
      "|              B03016|2019-10-26 19:57:12|2019-10-26 20:11:04|         264|         259|   null|                B02788|\n",
      "|              B02437|2019-10-21 07:12:17|2019-10-21 07:15:08|         264|         182|   null|                B02437|\n",
      "|              B03016|2019-10-24 18:46:51|2019-10-24 18:52:29|         264|          32|   null|                B03016|\n",
      "|              B03060|2019-10-25 11:59:35|2019-10-25 12:22:02|         264|          26|   null|                B02888|\n",
      "|              B03060|2019-10-25 13:27:48|2019-10-25 13:47:19|         264|         165|   null|                B03060|\n",
      "+--------------------+-------------------+-------------------+------------+------------+-------+----------------------+\n",
      "only showing top 20 rows\n",
      "\n"
     ]
    },
    {
     "name": "stderr",
     "output_type": "stream",
     "text": [
      "\r",
      "[Stage 5:>                                                          (0 + 1) / 1]\r",
      "\r",
      "                                                                                \r"
     ]
    }
   ],
   "source": [
    "df.show()"
   ]
  },
  {
   "cell_type": "code",
   "execution_count": 7,
   "id": "f3cdc344",
   "metadata": {
    "scrolled": false
   },
   "outputs": [
    {
     "name": "stdout",
     "output_type": "stream",
     "text": [
      "root\n",
      " |-- dispatching_base_num: string (nullable = true)\n",
      " |-- pickup_datetime: string (nullable = true)\n",
      " |-- dropOff_datetime: string (nullable = true)\n",
      " |-- PUlocationID: string (nullable = true)\n",
      " |-- DOlocationID: string (nullable = true)\n",
      " |-- SR_Flag: string (nullable = true)\n",
      " |-- Affiliated_base_number: string (nullable = true)\n",
      "\n"
     ]
    }
   ],
   "source": [
    "df.printSchema()"
   ]
  },
  {
   "cell_type": "code",
   "execution_count": 8,
   "id": "1cdf0614",
   "metadata": {
    "scrolled": false
   },
   "outputs": [
    {
     "name": "stderr",
     "output_type": "stream",
     "text": [
      "                                                                                \r"
     ]
    },
    {
     "data": {
      "text/plain": [
       "62610"
      ]
     },
     "execution_count": 8,
     "metadata": {},
     "output_type": "execute_result"
    }
   ],
   "source": [
    "df[df['pickup_datetime'].between('2019-10-15 00:00:00', '2019-10-15 59:59:59')].count()\n"
   ]
  },
  {
   "cell_type": "markdown",
   "id": "5827c875",
   "metadata": {},
   "source": [
    "## What is the length of the longest trip in the dataset in hours?"
   ]
  },
  {
   "cell_type": "code",
   "execution_count": 9,
   "id": "ee3fe11b",
   "metadata": {},
   "outputs": [],
   "source": [
    "from pyspark.sql.functions import *"
   ]
  },
  {
   "cell_type": "code",
   "execution_count": 10,
   "id": "977496ff",
   "metadata": {},
   "outputs": [],
   "source": [
    "df = df.withColumn('Result', to_timestamp('dropOff_datetime') - to_timestamp('pickup_datetime'))"
   ]
  },
  {
   "cell_type": "code",
   "execution_count": 11,
   "id": "df286b8d",
   "metadata": {},
   "outputs": [
    {
     "name": "stdout",
     "output_type": "stream",
     "text": [
      "+--------------------+-------------------+-------------------+------------+------------+-------+----------------------+--------------------+\n",
      "|dispatching_base_num|    pickup_datetime|   dropOff_datetime|PUlocationID|DOlocationID|SR_Flag|Affiliated_base_number|              Result|\n",
      "+--------------------+-------------------+-------------------+------------+------------+-------+----------------------+--------------------+\n",
      "|              B01437|2019-10-18 16:58:08|2019-10-18 17:11:20|         264|         130|   null|                B01437|INTERVAL '0 00:13...|\n",
      "|              B03048|2019-10-11 09:20:25|2019-10-11 09:37:15|         264|         264|   null|                B03048|INTERVAL '0 00:16...|\n",
      "|              B01328|2019-10-08 09:02:00|2019-10-08 09:16:00|          78|         242|   null|                B02534|INTERVAL '0 00:14...|\n",
      "|              B00310|2019-10-17 14:52:53|2019-10-17 15:07:03|         264|          60|   null|                B00310|INTERVAL '0 00:14...|\n",
      "|              B01239|2019-10-04 12:15:42|2019-10-04 12:42:54|         264|         247|   null|                B03127|INTERVAL '0 00:27...|\n",
      "|              B01300|2019-10-30 12:06:20|2019-10-30 12:13:41|         264|         119|   null|                B01300|INTERVAL '0 00:07...|\n",
      "|              B03243|2019-10-18 07:57:37|2019-10-18 08:05:11|         264|          92|   null|                B03243|INTERVAL '0 00:07...|\n",
      "|              B00477|2019-10-08 08:45:39|2019-10-08 09:22:49|          61|         186|   null|                B00477|INTERVAL '0 00:37...|\n",
      "|              B00310|2019-10-07 09:42:59|2019-10-07 10:05:47|         264|          47|   null|                B00310|INTERVAL '0 00:22...|\n",
      "|              B03157|2019-10-19 07:40:52|2019-10-19 07:45:00|         264|         260|   null|                B03157|INTERVAL '0 00:04...|\n",
      "|              B01800|2019-10-28 15:12:00|2019-10-28 17:02:00|         264|         264|   null|                B01800|INTERVAL '0 01:50...|\n",
      "|              B00887|2019-10-10 10:59:09|2019-10-10 11:47:10|         264|         265|   null|                B02465|INTERVAL '0 00:48...|\n",
      "|              B00856|2019-10-28 04:58:35|2019-10-28 05:02:09|         264|          76|   null|                B00856|INTERVAL '0 00:03...|\n",
      "|              B00900|2019-10-20 04:44:45|2019-10-20 04:53:54|         264|          95|   null|                B00900|INTERVAL '0 00:09...|\n",
      "|              B02228|2019-10-16 14:29:15|2019-10-16 14:31:21|         264|         225|   null|                B02228|INTERVAL '0 00:02...|\n",
      "|              B03016|2019-10-26 19:57:12|2019-10-26 20:11:04|         264|         259|   null|                B02788|INTERVAL '0 00:13...|\n",
      "|              B02437|2019-10-21 07:12:17|2019-10-21 07:15:08|         264|         182|   null|                B02437|INTERVAL '0 00:02...|\n",
      "|              B03016|2019-10-24 18:46:51|2019-10-24 18:52:29|         264|          32|   null|                B03016|INTERVAL '0 00:05...|\n",
      "|              B03060|2019-10-25 11:59:35|2019-10-25 12:22:02|         264|          26|   null|                B02888|INTERVAL '0 00:22...|\n",
      "|              B03060|2019-10-25 13:27:48|2019-10-25 13:47:19|         264|         165|   null|                B03060|INTERVAL '0 00:19...|\n",
      "+--------------------+-------------------+-------------------+------------+------------+-------+----------------------+--------------------+\n",
      "only showing top 20 rows\n",
      "\n"
     ]
    }
   ],
   "source": [
    "df.show()"
   ]
  },
  {
   "cell_type": "code",
   "execution_count": 12,
   "id": "be34561a",
   "metadata": {},
   "outputs": [],
   "source": [
    "df.createOrReplaceTempView('trips_data')"
   ]
  },
  {
   "cell_type": "code",
   "execution_count": 13,
   "id": "e804b7e8",
   "metadata": {},
   "outputs": [
    {
     "name": "stderr",
     "output_type": "stream",
     "text": [
      "\r",
      "[Stage 10:>                                                         (0 + 6) / 6]\r"
     ]
    },
    {
     "name": "stdout",
     "output_type": "stream",
     "text": [
      "+-------------------------+\n",
      "|((max(Result) / 60) / 60)|\n",
      "+-------------------------+\n",
      "|     INTERVAL '7 07:19...|\n",
      "+-------------------------+\n",
      "\n"
     ]
    },
    {
     "name": "stderr",
     "output_type": "stream",
     "text": [
      "\r",
      "                                                                                \r"
     ]
    }
   ],
   "source": [
    "spark.sql(\"\"\"\n",
    "SELECT\n",
    "    (max(Result)/60/60)\n",
    "FROM\n",
    "    trips_data\n",
    "\"\"\").show()"
   ]
  },
  {
   "cell_type": "markdown",
   "id": "169c7168",
   "metadata": {},
   "source": [
    "## Using the zone lookup data and the FHV October 2019 data, what is the name of the LEAST frequent pickup location Zone?"
   ]
  },
  {
   "cell_type": "code",
   "execution_count": 14,
   "id": "0515bec0",
   "metadata": {},
   "outputs": [],
   "source": [
    "dfzone = spark.read \\\n",
    "    .option(\"header\", \"true\") \\\n",
    "    .csv('taxi+_zone_lookup.csv')"
   ]
  },
  {
   "cell_type": "code",
   "execution_count": 15,
   "id": "db5bbf43",
   "metadata": {},
   "outputs": [],
   "source": [
    "dfzone.write.mode(\"overwrite\").parquet('zones')"
   ]
  },
  {
   "cell_type": "code",
   "execution_count": 16,
   "id": "f8bf09f0",
   "metadata": {},
   "outputs": [
    {
     "name": "stdout",
     "output_type": "stream",
     "text": [
      "total 8.0K\r\n",
      "-rwxrwxrwx 1 root root    0 Feb 27 20:28 _SUCCESS\r\n",
      "-rwxrwxrwx 1 root root 5.8K Feb 27 20:28 part-00000-cddfb760-302c-408b-8388-572929db314a-c000.snappy.parquet\r\n"
     ]
    }
   ],
   "source": [
    "!ls -lh zones"
   ]
  },
  {
   "cell_type": "code",
   "execution_count": 17,
   "id": "ac9a0da4",
   "metadata": {},
   "outputs": [
    {
     "name": "stdout",
     "output_type": "stream",
     "text": [
      "+----------+-------------+--------------------+------------+\n",
      "|LocationID|      Borough|                Zone|service_zone|\n",
      "+----------+-------------+--------------------+------------+\n",
      "|         1|          EWR|      Newark Airport|         EWR|\n",
      "|         2|       Queens|         Jamaica Bay|   Boro Zone|\n",
      "|         3|        Bronx|Allerton/Pelham G...|   Boro Zone|\n",
      "|         4|    Manhattan|       Alphabet City| Yellow Zone|\n",
      "|         5|Staten Island|       Arden Heights|   Boro Zone|\n",
      "|         6|Staten Island|Arrochar/Fort Wad...|   Boro Zone|\n",
      "|         7|       Queens|             Astoria|   Boro Zone|\n",
      "|         8|       Queens|        Astoria Park|   Boro Zone|\n",
      "|         9|       Queens|          Auburndale|   Boro Zone|\n",
      "|        10|       Queens|        Baisley Park|   Boro Zone|\n",
      "|        11|     Brooklyn|          Bath Beach|   Boro Zone|\n",
      "|        12|    Manhattan|        Battery Park| Yellow Zone|\n",
      "|        13|    Manhattan|   Battery Park City| Yellow Zone|\n",
      "|        14|     Brooklyn|           Bay Ridge|   Boro Zone|\n",
      "|        15|       Queens|Bay Terrace/Fort ...|   Boro Zone|\n",
      "|        16|       Queens|             Bayside|   Boro Zone|\n",
      "|        17|     Brooklyn|             Bedford|   Boro Zone|\n",
      "|        18|        Bronx|        Bedford Park|   Boro Zone|\n",
      "|        19|       Queens|           Bellerose|   Boro Zone|\n",
      "|        20|        Bronx|             Belmont|   Boro Zone|\n",
      "+----------+-------------+--------------------+------------+\n",
      "only showing top 20 rows\n",
      "\n"
     ]
    }
   ],
   "source": [
    "dfzone.show()"
   ]
  },
  {
   "cell_type": "code",
   "execution_count": 18,
   "id": "158f1298",
   "metadata": {},
   "outputs": [
    {
     "name": "stdout",
     "output_type": "stream",
     "text": [
      "+--------------------+-------------------+-------------------+------------+------------+-------+----------------------+--------------------+\n",
      "|dispatching_base_num|    pickup_datetime|   dropOff_datetime|PUlocationID|DOlocationID|SR_Flag|Affiliated_base_number|              Result|\n",
      "+--------------------+-------------------+-------------------+------------+------------+-------+----------------------+--------------------+\n",
      "|              B01437|2019-10-18 16:58:08|2019-10-18 17:11:20|         264|         130|   null|                B01437|INTERVAL '0 00:13...|\n",
      "|              B03048|2019-10-11 09:20:25|2019-10-11 09:37:15|         264|         264|   null|                B03048|INTERVAL '0 00:16...|\n",
      "|              B01328|2019-10-08 09:02:00|2019-10-08 09:16:00|          78|         242|   null|                B02534|INTERVAL '0 00:14...|\n",
      "|              B00310|2019-10-17 14:52:53|2019-10-17 15:07:03|         264|          60|   null|                B00310|INTERVAL '0 00:14...|\n",
      "|              B01239|2019-10-04 12:15:42|2019-10-04 12:42:54|         264|         247|   null|                B03127|INTERVAL '0 00:27...|\n",
      "|              B01300|2019-10-30 12:06:20|2019-10-30 12:13:41|         264|         119|   null|                B01300|INTERVAL '0 00:07...|\n",
      "|              B03243|2019-10-18 07:57:37|2019-10-18 08:05:11|         264|          92|   null|                B03243|INTERVAL '0 00:07...|\n",
      "|              B00477|2019-10-08 08:45:39|2019-10-08 09:22:49|          61|         186|   null|                B00477|INTERVAL '0 00:37...|\n",
      "|              B00310|2019-10-07 09:42:59|2019-10-07 10:05:47|         264|          47|   null|                B00310|INTERVAL '0 00:22...|\n",
      "|              B03157|2019-10-19 07:40:52|2019-10-19 07:45:00|         264|         260|   null|                B03157|INTERVAL '0 00:04...|\n",
      "|              B01800|2019-10-28 15:12:00|2019-10-28 17:02:00|         264|         264|   null|                B01800|INTERVAL '0 01:50...|\n",
      "|              B00887|2019-10-10 10:59:09|2019-10-10 11:47:10|         264|         265|   null|                B02465|INTERVAL '0 00:48...|\n",
      "|              B00856|2019-10-28 04:58:35|2019-10-28 05:02:09|         264|          76|   null|                B00856|INTERVAL '0 00:03...|\n",
      "|              B00900|2019-10-20 04:44:45|2019-10-20 04:53:54|         264|          95|   null|                B00900|INTERVAL '0 00:09...|\n",
      "|              B02228|2019-10-16 14:29:15|2019-10-16 14:31:21|         264|         225|   null|                B02228|INTERVAL '0 00:02...|\n",
      "|              B03016|2019-10-26 19:57:12|2019-10-26 20:11:04|         264|         259|   null|                B02788|INTERVAL '0 00:13...|\n",
      "|              B02437|2019-10-21 07:12:17|2019-10-21 07:15:08|         264|         182|   null|                B02437|INTERVAL '0 00:02...|\n",
      "|              B03016|2019-10-24 18:46:51|2019-10-24 18:52:29|         264|          32|   null|                B03016|INTERVAL '0 00:05...|\n",
      "|              B03060|2019-10-25 11:59:35|2019-10-25 12:22:02|         264|          26|   null|                B02888|INTERVAL '0 00:22...|\n",
      "|              B03060|2019-10-25 13:27:48|2019-10-25 13:47:19|         264|         165|   null|                B03060|INTERVAL '0 00:19...|\n",
      "+--------------------+-------------------+-------------------+------------+------------+-------+----------------------+--------------------+\n",
      "only showing top 20 rows\n",
      "\n"
     ]
    }
   ],
   "source": [
    "df.show()"
   ]
  },
  {
   "cell_type": "code",
   "execution_count": 19,
   "id": "0af525b6",
   "metadata": {},
   "outputs": [],
   "source": [
    "dfzone.createOrReplaceTempView('zone_data')"
   ]
  },
  {
   "cell_type": "code",
   "execution_count": 20,
   "id": "4bd07aaf",
   "metadata": {},
   "outputs": [
    {
     "name": "stderr",
     "output_type": "stream",
     "text": [
      "                                                                                \r"
     ]
    },
    {
     "name": "stdout",
     "output_type": "stream",
     "text": [
      "+-----------+\n",
      "|       zone|\n",
      "+-----------+\n",
      "|Jamaica Bay|\n",
      "+-----------+\n",
      "\n"
     ]
    }
   ],
   "source": [
    "spark.sql(\"\"\"\n",
    "WITH least as (\n",
    "    SELECT PUlocationID, count(*)\n",
    "    FROM trips_data\n",
    "    GROUP BY PUlocationID\n",
    "    ORDER BY count(*) LIMIT 1\n",
    ")\n",
    "SELECT zone \n",
    "FROM zone_data\n",
    "JOIN least ON PUlocationID = LocationID\n",
    "\"\"\").show()"
   ]
  },
  {
   "cell_type": "code",
   "execution_count": null,
   "id": "13c2fb3b",
   "metadata": {},
   "outputs": [],
   "source": []
  }
 ],
 "metadata": {
  "kernelspec": {
   "display_name": "Python 3 (ipykernel)",
   "language": "python",
   "name": "python3"
  },
  "language_info": {
   "codemirror_mode": {
    "name": "ipython",
    "version": 3
   },
   "file_extension": ".py",
   "mimetype": "text/x-python",
   "name": "python",
   "nbconvert_exporter": "python",
   "pygments_lexer": "ipython3",
   "version": "3.10.12"
  }
 },
 "nbformat": 4,
 "nbformat_minor": 5
}
