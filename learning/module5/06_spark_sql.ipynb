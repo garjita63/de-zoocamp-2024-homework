{
 "cells": [
  {
   "cell_type": "code",
   "execution_count": 1,
   "metadata": {},
   "outputs": [],
   "source": [
    "import pyspark\n",
    "from pyspark.sql import SparkSession"
   ]
  },
  {
   "cell_type": "code",
   "execution_count": 2,
   "metadata": {
    "scrolled": true
   },
   "outputs": [
    {
     "name": "stderr",
     "output_type": "stream",
     "text": [
      "24/03/02 14:16:55 WARN Utils: Your hostname, Desktop-Gar resolves to a loopback address: 127.0.1.1; using 172.25.243.204 instead (on interface eth0)\n",
      "24/03/02 14:16:55 WARN Utils: Set SPARK_LOCAL_IP if you need to bind to another address\n",
      "Setting default log level to \"WARN\".\n",
      "To adjust logging level use sc.setLogLevel(newLevel). For SparkR, use setLogLevel(newLevel).\n",
      "24/03/02 14:16:58 WARN NativeCodeLoader: Unable to load native-hadoop library for your platform... using builtin-java classes where applicable\n",
      "24/03/02 14:17:03 WARN Utils: Service 'SparkUI' could not bind on port 4040. Attempting port 4041.\n"
     ]
    }
   ],
   "source": [
    "# make sure close previose spark esssion opened\n",
    "spark = SparkSession.builder \\\n",
    "    .master(\"local[*]\") \\\n",
    "    .appName('sql') \\\n",
    "    .getOrCreate()"
   ]
  },
  {
   "cell_type": "markdown",
   "metadata": {},
   "source": [
    "# Creating the dataframes"
   ]
  },
  {
   "cell_type": "code",
   "execution_count": 3,
   "metadata": {},
   "outputs": [
    {
     "name": "stderr",
     "output_type": "stream",
     "text": [
      "                                                                                \r"
     ]
    }
   ],
   "source": [
    "df_green = spark.read.parquet('data/pq/green/2020/01')\n",
    "df_green = df_green \\\n",
    "    .withColumnRenamed('lpep_pickup_datetime', 'pickup_datetime') \\\n",
    "    .withColumnRenamed('lpep_dropoff_datetime', 'dropoff_datetime')"
   ]
  },
  {
   "cell_type": "code",
   "execution_count": 4,
   "metadata": {},
   "outputs": [
    {
     "name": "stderr",
     "output_type": "stream",
     "text": [
      "                                                                                \r"
     ]
    },
    {
     "name": "stdout",
     "output_type": "stream",
     "text": [
      "+--------+-------------------+-------------------+------------------+----------+------------+------------+---------------+-------------+-----------+-----+-------+----------+------------+---------+---------------------+------------+------------+---------+--------------------+\n",
      "|VendorID|    pickup_datetime|   dropoff_datetime|store_and_fwd_flag|RatecodeID|PULocationID|DOLocationID|passenger_count|trip_distance|fare_amount|extra|mta_tax|tip_amount|tolls_amount|ehail_fee|improvement_surcharge|total_amount|payment_type|trip_type|congestion_surcharge|\n",
      "+--------+-------------------+-------------------+------------------+----------+------------+------------+---------------+-------------+-----------+-----+-------+----------+------------+---------+---------------------+------------+------------+---------+--------------------+\n",
      "|       2|2020-01-19 03:36:12|2020-01-19 03:39:32|                 N|         5|          92|         264|              1|         0.78|        7.0|  0.0|    0.0|      1.46|         0.0|     null|                  0.3|        8.76|           1|        2|                 0.0|\n",
      "|       2|2020-01-24 15:46:13|2020-01-24 15:55:22|                 N|         1|         166|         152|              1|         1.32|        7.5|  0.0|    0.5|       0.0|         0.0|     null|                  0.3|         8.3|           2|        1|                 0.0|\n",
      "|       2|2020-01-22 09:31:34|2020-01-22 09:43:25|                 N|         1|          74|         116|              1|         1.83|       10.0|  0.0|    0.5|       1.0|         0.0|     null|                  0.3|        11.8|           1|        1|                 0.0|\n",
      "|       1|2020-01-16 18:43:55|2020-01-16 18:46:54|                 N|         1|         116|         116|              1|          0.4|        4.0|  1.0|    0.5|       0.0|         0.0|     null|                  0.3|         5.8|           2|        1|                 0.0|\n",
      "|       2|2020-01-01 02:17:55|2020-01-01 02:48:44|                 N|         1|         255|         246|              1|         8.09|       28.0|  0.5|    0.5|      6.41|         0.0|     null|                  0.3|       38.46|           1|        1|                2.75|\n",
      "|       2|2020-01-25 09:13:14|2020-01-25 09:37:28|                 N|         1|         166|          82|              1|         11.1|       32.5|  0.0|    0.5|       0.0|        6.12|     null|                  0.3|       39.42|           1|        1|                 0.0|\n",
      "|       2|2020-01-13 21:32:55|2020-01-13 21:45:14|                 N|         1|          82|          95|              1|         3.92|       13.5|  0.5|    0.5|       3.7|         0.0|     null|                  0.3|        18.5|           1|        1|                 0.0|\n",
      "|    null|2020-01-10 23:16:00|2020-01-10 23:35:00|              null|      null|          32|         159|           null|         5.02|      14.44|  0.0|    0.0|       0.0|         0.0|     null|                  0.3|       14.74|        null|     null|                null|\n",
      "|       1|2020-01-22 14:06:01|2020-01-22 14:28:31|                 N|         1|         236|         230|              1|          5.5|       21.0| 2.75|    0.5|      4.91|         0.0|     null|                  0.3|       29.46|           1|        1|                2.75|\n",
      "|       2|2020-01-13 08:34:30|2020-01-13 08:55:59|                 N|         1|          41|          43|              1|         2.07|       14.5|  0.0|    0.5|      4.51|         0.0|     null|                  0.3|       22.56|           1|        1|                2.75|\n",
      "|       2|2020-01-12 01:49:03|2020-01-12 01:53:25|                 N|         1|          40|         181|              1|          0.8|        5.0|  0.5|    0.5|       0.0|         0.0|     null|                  0.3|         6.3|           2|        1|                 0.0|\n",
      "|       2|2020-01-07 13:46:28|2020-01-07 13:59:06|                 N|         1|         130|         130|              1|         1.57|       10.0|  0.0|    0.5|       0.0|         0.0|     null|                  0.3|        10.8|           2|        1|                 0.0|\n",
      "|    null|2020-01-09 21:42:00|2020-01-09 22:04:00|              null|      null|          61|          76|           null|         4.21|      14.86|  0.0|    0.5|       0.0|         0.0|     null|                  0.0|       15.36|        null|     null|                null|\n",
      "|       2|2020-01-27 13:05:12|2020-01-27 13:18:43|                 N|         1|          75|          74|              1|         1.96|       10.5|  0.0|    0.5|       0.0|         0.0|     null|                  0.3|       14.05|           2|        1|                2.75|\n",
      "|    null|2020-01-29 11:25:00|2020-01-29 11:48:00|              null|      null|         155|          77|           null|         3.93|      23.79| 2.75|    0.0|       0.0|         0.0|     null|                  0.3|       26.84|        null|     null|                null|\n",
      "|       2|2020-01-04 10:36:44|2020-01-04 10:47:21|                 N|         1|          74|         152|              1|         1.62|        8.5|  0.0|    0.5|       0.0|         0.0|     null|                  0.3|         9.3|           2|        1|                 0.0|\n",
      "|       1|2020-01-04 19:37:51|2020-01-04 19:58:57|                 N|         1|          41|         250|              1|          0.0|       22.2|  0.0|    0.5|       0.0|         0.0|     null|                  0.3|        23.0|           1|        1|                 0.0|\n",
      "|       2|2020-01-08 12:20:07|2020-01-08 12:23:15|                 N|         1|          74|          41|              1|          0.5|        4.0|  0.0|    0.5|      0.96|         0.0|     null|                  0.3|        5.76|           1|        1|                 0.0|\n",
      "|       2|2020-01-29 15:37:30|2020-01-29 15:51:21|                 N|         1|          76|         150|              1|         7.68|       22.5|  0.0|    0.5|       0.0|         0.0|     null|                  0.3|        23.3|           2|        1|                 0.0|\n",
      "|    null|2020-01-12 15:25:00|2020-01-12 16:01:00|              null|      null|          46|          75|           null|        13.33|      33.35|  0.0|    0.0|       0.0|        6.12|     null|                  0.3|       39.77|        null|     null|                null|\n",
      "+--------+-------------------+-------------------+------------------+----------+------------+------------+---------------+-------------+-----------+-----+-------+----------+------------+---------+---------------------+------------+------------+---------+--------------------+\n",
      "only showing top 20 rows\n",
      "\n"
     ]
    }
   ],
   "source": [
    "df_green.show()"
   ]
  },
  {
   "cell_type": "code",
   "execution_count": 5,
   "metadata": {},
   "outputs": [],
   "source": [
    "df_yellow = spark.read.parquet('data/pq/yellow/2020/01')\n",
    "df_yellow = df_yellow \\\n",
    "    .withColumnRenamed('tpep_pickup_datetime', 'pickup_datetime') \\\n",
    "    .withColumnRenamed('tpep_dropoff_datetime', 'dropoff_datetime')"
   ]
  },
  {
   "cell_type": "code",
   "execution_count": 6,
   "metadata": {},
   "outputs": [
    {
     "data": {
      "text/plain": [
       "[Row(VendorID=2, pickup_datetime=datetime.datetime(2020, 1, 8, 21, 48, 33), dropoff_datetime=datetime.datetime(2020, 1, 8, 21, 54, 37), passenger_count=1, trip_distance=None, RatecodeID=1, store_and_fwd_flag=None, PULocationID=142, DOLocationID=None, payment_type=None, fare_amount=7.0, extra=0.5, mta_tax=0.5, tip_amount=2.16, tolls_amount=0.0, improvement_surcharge=0.3, total_amount=12.96, congestion_surcharge=None),\n",
       " Row(VendorID=1, pickup_datetime=datetime.datetime(2020, 1, 21, 18, 55, 2), dropoff_datetime=datetime.datetime(2020, 1, 21, 19, 11, 22), passenger_count=1, trip_distance=None, RatecodeID=1, store_and_fwd_flag=None, PULocationID=231, DOLocationID=None, payment_type=None, fare_amount=16.0, extra=3.5, mta_tax=0.5, tip_amount=0.0, tolls_amount=6.12, improvement_surcharge=0.3, total_amount=26.42, congestion_surcharge=None),\n",
       " Row(VendorID=2, pickup_datetime=datetime.datetime(2020, 1, 12, 22, 46), dropoff_datetime=datetime.datetime(2020, 1, 12, 22, 53, 41), passenger_count=5, trip_distance=None, RatecodeID=1, store_and_fwd_flag=None, PULocationID=144, DOLocationID=None, payment_type=None, fare_amount=7.5, extra=0.5, mta_tax=0.5, tip_amount=2.82, tolls_amount=0.0, improvement_surcharge=0.3, total_amount=14.12, congestion_surcharge=None),\n",
       " Row(VendorID=2, pickup_datetime=datetime.datetime(2020, 1, 4, 23, 57, 49), dropoff_datetime=datetime.datetime(2020, 1, 5, 0, 17, 37), passenger_count=1, trip_distance=None, RatecodeID=1, store_and_fwd_flag=None, PULocationID=114, DOLocationID=None, payment_type=None, fare_amount=18.5, extra=0.5, mta_tax=0.5, tip_amount=4.46, tolls_amount=0.0, improvement_surcharge=0.3, total_amount=26.76, congestion_surcharge=None),\n",
       " Row(VendorID=1, pickup_datetime=datetime.datetime(2020, 1, 21, 11, 44, 53), dropoff_datetime=datetime.datetime(2020, 1, 21, 11, 53, 29), passenger_count=1, trip_distance=None, RatecodeID=1, store_and_fwd_flag=None, PULocationID=90, DOLocationID=None, payment_type=None, fare_amount=7.5, extra=2.5, mta_tax=0.5, tip_amount=2.16, tolls_amount=0.0, improvement_surcharge=0.3, total_amount=12.96, congestion_surcharge=None)]"
      ]
     },
     "execution_count": 6,
     "metadata": {},
     "output_type": "execute_result"
    }
   ],
   "source": [
    "df_yellow.head(5)"
   ]
  },
  {
   "cell_type": "markdown",
   "metadata": {},
   "source": [
    "# Combined dataset"
   ]
  },
  {
   "cell_type": "code",
   "execution_count": 7,
   "metadata": {},
   "outputs": [],
   "source": [
    "common_colums = []\n",
    "\n",
    "yellow_columns = set(df_yellow.columns)\n",
    "\n",
    "for col in df_green.columns:\n",
    "    if col in yellow_columns:\n",
    "        common_colums.append(col)"
   ]
  },
  {
   "cell_type": "code",
   "execution_count": 8,
   "metadata": {},
   "outputs": [],
   "source": [
    "from pyspark.sql import functions as F"
   ]
  },
  {
   "cell_type": "code",
   "execution_count": 9,
   "metadata": {},
   "outputs": [],
   "source": [
    "df_green_sel = df_green \\\n",
    "    .select(common_colums) \\\n",
    "    .withColumn('service_type', F.lit('green'))\n",
    "\n",
    "df_yellow_sel = df_yellow \\\n",
    "    .select(common_colums) \\\n",
    "    .withColumn('service_type', F.lit('yellow'))"
   ]
  },
  {
   "cell_type": "code",
   "execution_count": 10,
   "metadata": {},
   "outputs": [],
   "source": [
    "df_trips_data = df_green_sel.unionAll(df_yellow_sel)"
   ]
  },
  {
   "cell_type": "code",
   "execution_count": 11,
   "metadata": {},
   "outputs": [
    {
     "name": "stderr",
     "output_type": "stream",
     "text": [
      "[Stage 4:==========================================>              (12 + 4) / 16]\r"
     ]
    },
    {
     "name": "stdout",
     "output_type": "stream",
     "text": [
      "+------------+-------+\n",
      "|service_type|  count|\n",
      "+------------+-------+\n",
      "|       green| 447746|\n",
      "|      yellow|6404912|\n",
      "+------------+-------+\n",
      "\n"
     ]
    },
    {
     "name": "stderr",
     "output_type": "stream",
     "text": [
      "\r",
      "                                                                                \r"
     ]
    }
   ],
   "source": [
    "df_trips_data.groupBy('service_type').count().show()\n"
   ]
  },
  {
   "cell_type": "code",
   "execution_count": 12,
   "metadata": {},
   "outputs": [
    {
     "name": "stdout",
     "output_type": "stream",
     "text": [
      "+--------+-------------------+-------------------+------------------+----------+------------+------------+---------------+-------------+-----------+-----+-------+----------+------------+---------------------+------------+------------+--------------------+------------+\n",
      "|VendorID|    pickup_datetime|   dropoff_datetime|store_and_fwd_flag|RatecodeID|PULocationID|DOLocationID|passenger_count|trip_distance|fare_amount|extra|mta_tax|tip_amount|tolls_amount|improvement_surcharge|total_amount|payment_type|congestion_surcharge|service_type|\n",
      "+--------+-------------------+-------------------+------------------+----------+------------+------------+---------------+-------------+-----------+-----+-------+----------+------------+---------------------+------------+------------+--------------------+------------+\n",
      "|       2|2020-01-19 03:36:12|2020-01-19 03:39:32|                 N|         5|          92|         264|              1|         0.78|        7.0|  0.0|    0.0|      1.46|         0.0|                  0.3|        8.76|           1|                 0.0|       green|\n",
      "|       2|2020-01-24 15:46:13|2020-01-24 15:55:22|                 N|         1|         166|         152|              1|         1.32|        7.5|  0.0|    0.5|       0.0|         0.0|                  0.3|         8.3|           2|                 0.0|       green|\n",
      "|       2|2020-01-22 09:31:34|2020-01-22 09:43:25|                 N|         1|          74|         116|              1|         1.83|       10.0|  0.0|    0.5|       1.0|         0.0|                  0.3|        11.8|           1|                 0.0|       green|\n",
      "|       1|2020-01-16 18:43:55|2020-01-16 18:46:54|                 N|         1|         116|         116|              1|          0.4|        4.0|  1.0|    0.5|       0.0|         0.0|                  0.3|         5.8|           2|                 0.0|       green|\n",
      "|       2|2020-01-01 02:17:55|2020-01-01 02:48:44|                 N|         1|         255|         246|              1|         8.09|       28.0|  0.5|    0.5|      6.41|         0.0|                  0.3|       38.46|           1|                2.75|       green|\n",
      "|       2|2020-01-25 09:13:14|2020-01-25 09:37:28|                 N|         1|         166|          82|              1|         11.1|       32.5|  0.0|    0.5|       0.0|        6.12|                  0.3|       39.42|           1|                 0.0|       green|\n",
      "|       2|2020-01-13 21:32:55|2020-01-13 21:45:14|                 N|         1|          82|          95|              1|         3.92|       13.5|  0.5|    0.5|       3.7|         0.0|                  0.3|        18.5|           1|                 0.0|       green|\n",
      "|    null|2020-01-10 23:16:00|2020-01-10 23:35:00|              null|      null|          32|         159|           null|         5.02|      14.44|  0.0|    0.0|       0.0|         0.0|                  0.3|       14.74|        null|                null|       green|\n",
      "|       1|2020-01-22 14:06:01|2020-01-22 14:28:31|                 N|         1|         236|         230|              1|          5.5|       21.0| 2.75|    0.5|      4.91|         0.0|                  0.3|       29.46|           1|                2.75|       green|\n",
      "|       2|2020-01-13 08:34:30|2020-01-13 08:55:59|                 N|         1|          41|          43|              1|         2.07|       14.5|  0.0|    0.5|      4.51|         0.0|                  0.3|       22.56|           1|                2.75|       green|\n",
      "|       2|2020-01-12 01:49:03|2020-01-12 01:53:25|                 N|         1|          40|         181|              1|          0.8|        5.0|  0.5|    0.5|       0.0|         0.0|                  0.3|         6.3|           2|                 0.0|       green|\n",
      "|       2|2020-01-07 13:46:28|2020-01-07 13:59:06|                 N|         1|         130|         130|              1|         1.57|       10.0|  0.0|    0.5|       0.0|         0.0|                  0.3|        10.8|           2|                 0.0|       green|\n",
      "|    null|2020-01-09 21:42:00|2020-01-09 22:04:00|              null|      null|          61|          76|           null|         4.21|      14.86|  0.0|    0.5|       0.0|         0.0|                  0.0|       15.36|        null|                null|       green|\n",
      "|       2|2020-01-27 13:05:12|2020-01-27 13:18:43|                 N|         1|          75|          74|              1|         1.96|       10.5|  0.0|    0.5|       0.0|         0.0|                  0.3|       14.05|           2|                2.75|       green|\n",
      "|    null|2020-01-29 11:25:00|2020-01-29 11:48:00|              null|      null|         155|          77|           null|         3.93|      23.79| 2.75|    0.0|       0.0|         0.0|                  0.3|       26.84|        null|                null|       green|\n",
      "|       2|2020-01-04 10:36:44|2020-01-04 10:47:21|                 N|         1|          74|         152|              1|         1.62|        8.5|  0.0|    0.5|       0.0|         0.0|                  0.3|         9.3|           2|                 0.0|       green|\n",
      "|       1|2020-01-04 19:37:51|2020-01-04 19:58:57|                 N|         1|          41|         250|              1|          0.0|       22.2|  0.0|    0.5|       0.0|         0.0|                  0.3|        23.0|           1|                 0.0|       green|\n",
      "|       2|2020-01-08 12:20:07|2020-01-08 12:23:15|                 N|         1|          74|          41|              1|          0.5|        4.0|  0.0|    0.5|      0.96|         0.0|                  0.3|        5.76|           1|                 0.0|       green|\n",
      "|       2|2020-01-29 15:37:30|2020-01-29 15:51:21|                 N|         1|          76|         150|              1|         7.68|       22.5|  0.0|    0.5|       0.0|         0.0|                  0.3|        23.3|           2|                 0.0|       green|\n",
      "|    null|2020-01-12 15:25:00|2020-01-12 16:01:00|              null|      null|          46|          75|           null|        13.33|      33.35|  0.0|    0.0|       0.0|        6.12|                  0.3|       39.77|        null|                null|       green|\n",
      "+--------+-------------------+-------------------+------------------+----------+------------+------------+---------------+-------------+-----------+-----+-------+----------+------------+---------------------+------------+------------+--------------------+------------+\n",
      "only showing top 20 rows\n",
      "\n"
     ]
    }
   ],
   "source": [
    "df_trips_data.show()"
   ]
  },
  {
   "cell_type": "code",
   "execution_count": 13,
   "metadata": {},
   "outputs": [
    {
     "data": {
      "text/plain": [
       "['VendorID',\n",
       " 'pickup_datetime',\n",
       " 'dropoff_datetime',\n",
       " 'store_and_fwd_flag',\n",
       " 'RatecodeID',\n",
       " 'PULocationID',\n",
       " 'DOLocationID',\n",
       " 'passenger_count',\n",
       " 'trip_distance',\n",
       " 'fare_amount',\n",
       " 'extra',\n",
       " 'mta_tax',\n",
       " 'tip_amount',\n",
       " 'tolls_amount',\n",
       " 'improvement_surcharge',\n",
       " 'total_amount',\n",
       " 'payment_type',\n",
       " 'congestion_surcharge',\n",
       " 'service_type']"
      ]
     },
     "execution_count": 13,
     "metadata": {},
     "output_type": "execute_result"
    }
   ],
   "source": [
    "df_trips_data.columns"
   ]
  },
  {
   "cell_type": "markdown",
   "metadata": {},
   "source": [
    "# SQL"
   ]
  },
  {
   "cell_type": "code",
   "execution_count": 14,
   "metadata": {},
   "outputs": [],
   "source": [
    "# df_trips_data.registerTempTable('trips_data')\n",
    "df_trips_data.createOrReplaceTempView('trips_data')"
   ]
  },
  {
   "cell_type": "code",
   "execution_count": 15,
   "metadata": {},
   "outputs": [
    {
     "name": "stderr",
     "output_type": "stream",
     "text": [
      "[Stage 8:================================>                         (9 + 7) / 16]\r"
     ]
    },
    {
     "name": "stdout",
     "output_type": "stream",
     "text": [
      "+------------+--------+\n",
      "|service_type|count(1)|\n",
      "+------------+--------+\n",
      "|       green|  447746|\n",
      "|      yellow| 6404912|\n",
      "+------------+--------+\n",
      "\n"
     ]
    },
    {
     "name": "stderr",
     "output_type": "stream",
     "text": [
      "\r",
      "                                                                                \r"
     ]
    }
   ],
   "source": [
    "spark.sql(\"\"\"\n",
    "SELECT\n",
    "    service_type,\n",
    "    count(1)\n",
    "FROM\n",
    "    trips_data\n",
    "GROUP BY \n",
    "    service_type\n",
    "\"\"\").show()"
   ]
  },
  {
   "cell_type": "code",
   "execution_count": 16,
   "metadata": {},
   "outputs": [],
   "source": [
    "df_result = spark.sql(\"\"\"\n",
    "SELECT \n",
    "    -- Reveneue grouping \n",
    "    PULocationID AS revenue_zone,\n",
    "    date_trunc('month', pickup_datetime) AS revenue_month, \n",
    "    service_type, \n",
    "\n",
    "    -- Revenue calculation \n",
    "    SUM(fare_amount) AS revenue_monthly_fare,\n",
    "    SUM(extra) AS revenue_monthly_extra,\n",
    "    SUM(mta_tax) AS revenue_monthly_mta_tax,\n",
    "    SUM(tip_amount) AS revenue_monthly_tip_amount,\n",
    "    SUM(tolls_amount) AS revenue_monthly_tolls_amount,\n",
    "    SUM(improvement_surcharge) AS revenue_monthly_improvement_surcharge,\n",
    "    SUM(total_amount) AS revenue_monthly_total_amount,\n",
    "    SUM(congestion_surcharge) AS revenue_monthly_congestion_surcharge,\n",
    "\n",
    "    -- Additional calculations\n",
    "    AVG(passenger_count) AS avg_montly_passenger_count,\n",
    "    AVG(trip_distance) AS avg_montly_trip_distance\n",
    "FROM\n",
    "    trips_data\n",
    "GROUP BY\n",
    "    1, 2, 3\n",
    "\"\"\")"
   ]
  },
  {
   "cell_type": "code",
   "execution_count": 17,
   "metadata": {},
   "outputs": [
    {
     "name": "stderr",
     "output_type": "stream",
     "text": [
      "[Stage 11:====================================================>   (15 + 1) / 16]\r"
     ]
    },
    {
     "name": "stdout",
     "output_type": "stream",
     "text": [
      "+------------+-------------------+------------+--------------------+---------------------+-----------------------+--------------------------+----------------------------+-------------------------------------+----------------------------+------------------------------------+--------------------------+------------------------+\n",
      "|revenue_zone|      revenue_month|service_type|revenue_monthly_fare|revenue_monthly_extra|revenue_monthly_mta_tax|revenue_monthly_tip_amount|revenue_monthly_tolls_amount|revenue_monthly_improvement_surcharge|revenue_monthly_total_amount|revenue_monthly_congestion_surcharge|avg_montly_passenger_count|avg_montly_trip_distance|\n",
      "+------------+-------------------+------------+--------------------+---------------------+-----------------------+--------------------------+----------------------------+-------------------------------------+----------------------------+------------------------------------+--------------------------+------------------------+\n",
      "|          35|2020-01-01 00:00:00|       green|   51364.22999999998|              3498.25|                  422.0|                     33.81|          1007.9800000000001|                    538.4999999999977|                    56871.42|                                 5.5|        1.1042183622828785|       5.437524084778421|\n",
      "|          29|2020-01-01 00:00:00|       green|  25023.049999999996|               1154.5|                  230.0|                    116.19|           802.9200000000001|                   225.00000000000037|          27554.410000000003|                                2.75|        1.1295681063122924|       7.838712753277713|\n",
      "|         265|2020-01-01 00:00:00|       green|  12497.060000000001|               251.25|                   84.5|         712.4899999999999|                      405.48|                    88.50000000000004|                    14043.18|                                2.75|        1.4027149321266967|       7.998323170731707|\n",
      "|         156|2020-01-01 00:00:00|       green|             3983.88|                 26.0|                   32.5|                       0.0|                      569.16|                   22.799999999999997|                     4634.34|                                 0.0|        1.4090909090909092|      17.990394736842106|\n",
      "|         244|2020-01-01 00:00:00|       green|  186710.71000000008|              6771.25|                 4931.5|         19214.64000000001|          3665.5700000000024|                   3243.3000000000766|          232568.41999999702|                              8992.0|        1.3383737232124975|      4.3552788037113785|\n",
      "|         216|2020-01-01 00:00:00|       green|  29464.289999999994|               1538.0|                  165.5|         88.11000000000001|           630.2399999999999|                   291.30000000000007|           32181.34000000002|                                2.75|                      1.28|      7.0060780487804895|\n",
      "|          19|2020-01-01 00:00:00|       green|   7798.879999999999|                377.0|                   42.0|                      6.66|                       174.4|                                 67.5|           8466.439999999999|                                 0.0|                  1.046875|      7.8507818930041156|\n",
      "|          18|2020-01-01 00:00:00|       green|  23890.940000000002|               1332.0|                  215.5|        154.95999999999998|          1081.1000000000004|                   248.70000000000036|          26964.250000000015|                                16.5|         1.176991150442478|         6.2981008583691|\n",
      "|         200|2020-01-01 00:00:00|       green|  16289.020000000004|                951.5|                  101.0|         63.82000000000001|           879.3299999999996|                   142.80000000000018|          18447.419999999995|                                8.25|        1.1477272727272727|       8.051478102189781|\n",
      "|         210|2020-01-01 00:00:00|       green|            41402.04|               2409.0|                  774.0|        1185.9300000000003|          1218.2500000000002|                     610.499999999997|           47612.67000000007|                                16.5|        1.2152091254752853|       4.500402169001356|\n",
      "|          66|2020-01-01 00:00:00|       green|            99963.99|               4168.0|                 3157.0|        16149.059999999994|                      228.81|                   1941.6000000000279|          131787.15999999922|                              7182.0|        1.4764687302590018|      3.8230822022266278|\n",
      "|          81|2020-01-01 00:00:00|       green|  23279.559999999994|               1241.5|                  166.5|                     13.35|          1400.1000000000006|                   204.30000000000035|           26309.21000000001|                                 0.0|        1.1524390243902438|       8.894953271028038|\n",
      "|         198|2020-01-01 00:00:00|       green|  10186.070000000002|               725.75|                   87.5|         94.03999999999999|                       244.8|                    113.7000000000001|          11485.909999999998|                                38.5|        1.0990990990990992|       4.824075829383887|\n",
      "|          95|2020-01-01 00:00:00|       green|           165364.12|               8056.0|                 6074.5|        13427.379999999996|           2529.820000000001|                    3999.600000000104|          200148.11999999653|                               722.5|        1.3753785708439061|      2.7897346502542932|\n",
      "|          62|2020-01-01 00:00:00|       green|            26734.57|               2084.0|                  273.5|        213.79000000000002|                      237.89|                    336.2999999999996|          29938.650000000027|                               13.75|        1.2145328719723183|        4.05235524256651|\n",
      "|         171|2020-01-01 00:00:00|       green|  14490.989999999998|                781.5|                   71.0|        48.980000000000004|           583.1700000000001|                   136.50000000000017|          16140.339999999998|                                16.5|        1.1031746031746033|       7.274491017964073|\n",
      "|          96|2020-01-01 00:00:00|       green|               628.8|                 27.5|                    4.0|                       0.0|                       55.08|                    5.699999999999999|           721.0800000000002|                                 0.0|        1.1428571428571428|      7.0195454545454545|\n",
      "|          41|2019-12-01 00:00:00|       green|                20.5|                  1.5|                    1.5|                       0.0|                         0.0|                   0.8999999999999999|          27.150000000000002|                                2.75|                       1.0|      1.2633333333333334|\n",
      "|          97|2020-01-01 00:00:00|       green|  165026.71000000005|               7922.0|                 5634.5|         16785.82999999999|                      530.51|                   3702.3000000000943|          202092.39999999723|                              2630.5|        1.1673425250067586|       2.708244014586968|\n",
      "|         112|2020-01-01 00:00:00|       green|  21761.030000000002|               1034.0|                  703.0|                   2487.42|                      308.61|                   452.69999999999857|           27470.11000000004|                              742.25|        1.2766407904022583|      3.4783365695792883|\n",
      "+------------+-------------------+------------+--------------------+---------------------+-----------------------+--------------------------+----------------------------+-------------------------------------+----------------------------+------------------------------------+--------------------------+------------------------+\n",
      "only showing top 20 rows\n",
      "\n"
     ]
    },
    {
     "name": "stderr",
     "output_type": "stream",
     "text": [
      "\r",
      "                                                                                \r"
     ]
    }
   ],
   "source": [
    "df_result.show()"
   ]
  },
  {
   "cell_type": "code",
   "execution_count": 18,
   "metadata": {},
   "outputs": [
    {
     "name": "stderr",
     "output_type": "stream",
     "text": [
      "                                                                                \r"
     ]
    }
   ],
   "source": [
    "df_result.coalesce(1).write.parquet('data/report/revenue/', mode='overwrite')\n"
   ]
  },
  {
   "cell_type": "code",
   "execution_count": 19,
   "metadata": {},
   "outputs": [
    {
     "name": "stdout",
     "output_type": "stream",
     "text": [
      "total 40K\r\n",
      "-rwxrwxrwx 1 root root   0 Mar  2 14:21 _SUCCESS\r\n",
      "-rwxrwxrwx 1 root root 38K Mar  2 14:21 part-00000-8f925e43-5011-4a3b-89d2-18dcb61141f5-c000.snappy.parquet\r\n"
     ]
    }
   ],
   "source": [
    "!ls -lh data/report/revenue/"
   ]
  },
  {
   "cell_type": "code",
   "execution_count": null,
   "metadata": {},
   "outputs": [],
   "source": []
  }
 ],
 "metadata": {
  "interpreter": {
   "hash": "1cc142a295aadb3a4a4b07e4cf623a190b887fd9d0099585537187a2dbcd9102"
  },
  "kernelspec": {
   "display_name": "Python 3 (ipykernel)",
   "language": "python",
   "name": "python3"
  },
  "language_info": {
   "codemirror_mode": {
    "name": "ipython",
    "version": 3
   },
   "file_extension": ".py",
   "mimetype": "text/x-python",
   "name": "python",
   "nbconvert_exporter": "python",
   "pygments_lexer": "ipython3",
   "version": "3.10.12"
  }
 },
 "nbformat": 4,
 "nbformat_minor": 2
}
