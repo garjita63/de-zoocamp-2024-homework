{
 "cells": [
  {
   "cell_type": "code",
   "execution_count": null,
   "id": "d7ebad1f",
   "metadata": {
    "collapsed": true
   },
   "outputs": [],
   "source": [
    "import pyspark\n",
    "from pyspark.sql import SparkSession\n",
    "from pyspark.conf import SparkConf\n",
    "from pyspark.context import SparkContext\n",
    "\n",
    "credentials_location = '/root/.google/credentials/dezoomcamp-ikg-764b429f1606.json'\n",
    "\n",
    "conf = SparkConf() \\\n",
    "    .setAppName('test') \\\n",
    "    .set(\"spark.jars\", \"/mnt/d/apache/spark-3.4.2-bin-hadoop3/jars/gcs-connector-hadoop3-latest.jar\") \\\n",
    "    .set(\"spark.hadoop.google.cloud.auth.service.account.enable\", \"true\") \\\n",
    "    .set(\"spark.hadoop.google.cloud.auth.service.account.json.keyfile\", credentials_location)\n",
    "\n",
    "spark = SparkSession.builder.config(conf=conf).getOrCreate()"
   ]
  },
  {
   "cell_type": "code",
   "execution_count": null,
   "id": "140695fc",
   "metadata": {
    "collapsed": true
   },
   "outputs": [],
   "source": [
    "df = spark.read.parquet(\"gs://nytaxi-dezoomcamp/pq/green/*/*\", header=True)\n"
   ]
  },
  {
   "cell_type": "code",
   "execution_count": null,
   "id": "39e6b5ba",
   "metadata": {
    "collapsed": true
   },
   "outputs": [],
   "source": [
    "project_id = \"dezoomcamp-ikg\"\n",
    "dataset_id = \"trips_data_all\"\n",
    "table_id = \"green_trips_data\"\n",
    "\n",
    "df.write \\\n",
    "    .format(\"bigquery\") \\\n",
    "    .option(\"temporaryGcsBucket\",\"dataproc-temp-asia-southeast2-79600360601-waczxn32\") \\\n",
    "    .option(\"table\", f\"{project_id}.{dataset_id}.{table_id}\") \\\n",
    "    .mode('Overwrite') \\\n",
    "    .save()\n"
   ]
  },
  {
   "cell_type": "code",
   "execution_count": null,
   "id": "e390a156",
   "metadata": {
    "collapsed": true
   },
   "outputs": [],
   "source": [
    "df = spark.read.parquet(\"gs://nytaxi-dezoomcamp/pq/yellow/*/*\", header=True)\n"
   ]
  },
  {
   "cell_type": "code",
   "execution_count": null,
   "id": "10eb4606",
   "metadata": {
    "collapsed": true
   },
   "outputs": [],
   "source": [
    "project_id = \"dezoomcamp-ikg\"\n",
    "dataset_id = \"trips_data_all\"\n",
    "table_id = \"yellow_trips_data\"\n",
    "\n",
    "df.write \\\n",
    "    .format(\"bigquery\") \\\n",
    "    .option(\"temporaryGcsBucket\",\"dataproc-temp-asia-southeast2-79600360601-waczxn32\") \\\n",
    "    .option(\"table\", f\"{project_id}.{dataset_id}.{table_id}\") \\\n",
    "    .mode('Overwrite') \\\n",
    "    .save('overwrite')\n"
   ]
  },
  {
   "cell_type": "code",
   "execution_count": null,
   "id": "31230bce",
   "metadata": {
    "collapsed": true
   },
   "outputs": [],
   "source": [
    "spark.stop()"
   ]
  }
 ],
 "metadata": {
  "kernelspec": {
   "display_name": "Python 3 (ipykernel)",
   "language": "python",
   "name": "python3"
  },
  "language_info": {
   "codemirror_mode": {
    "name": "ipython",
    "version": 3
   },
   "file_extension": ".py",
   "mimetype": "text/x-python",
   "name": "python",
   "nbconvert_exporter": "python",
   "pygments_lexer": "ipython3",
   "version": "3.10.12"
  }
 },
 "nbformat": 4,
 "nbformat_minor": 5
}
