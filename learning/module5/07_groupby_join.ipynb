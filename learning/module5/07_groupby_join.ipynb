{
 "cells": [
  {
   "cell_type": "code",
   "execution_count": 1,
   "id": "4341e0e6",
   "metadata": {},
   "outputs": [
    {
     "name": "stderr",
     "output_type": "stream",
     "text": [
      "24/03/02 16:18:07 WARN Utils: Your hostname, Desktop-Gar resolves to a loopback address: 127.0.1.1; using 172.25.243.204 instead (on interface eth0)\n",
      "24/03/02 16:18:07 WARN Utils: Set SPARK_LOCAL_IP if you need to bind to another address\n",
      "Setting default log level to \"WARN\".\n",
      "To adjust logging level use sc.setLogLevel(newLevel). For SparkR, use setLogLevel(newLevel).\n",
      "24/03/02 16:18:11 WARN NativeCodeLoader: Unable to load native-hadoop library for your platform... using builtin-java classes where applicable\n",
      "24/03/02 16:18:15 WARN Utils: Service 'SparkUI' could not bind on port 4040. Attempting port 4041.\n"
     ]
    }
   ],
   "source": [
    "import pyspark\n",
    "from pyspark.sql import SparkSession\n",
    "\n",
    "spark = SparkSession.builder \\\n",
    "    .master(\"local[*]\") \\\n",
    "    .appName('test') \\\n",
    "    .getOrCreate()"
   ]
  },
  {
   "cell_type": "code",
   "execution_count": 2,
   "id": "cd304aec",
   "metadata": {},
   "outputs": [
    {
     "name": "stderr",
     "output_type": "stream",
     "text": [
      "                                                                                \r"
     ]
    }
   ],
   "source": [
    "df_green = spark.read.parquet('data/pq/green/*/*')"
   ]
  },
  {
   "cell_type": "code",
   "execution_count": 3,
   "id": "243991f3",
   "metadata": {},
   "outputs": [],
   "source": [
    "df_green.createOrReplaceTempView ('green')"
   ]
  },
  {
   "cell_type": "code",
   "execution_count": 4,
   "id": "e43764a7",
   "metadata": {},
   "outputs": [],
   "source": [
    "df_green_revenue = spark.sql(\"\"\"\n",
    "SELECT \n",
    "    date_trunc('hour', lpep_pickup_datetime) AS hour, \n",
    "    PULocationID AS zone,\n",
    "    ROUND(SUM(total_amount), 2) AS amount,\n",
    "    COUNT(1) AS number_records\n",
    "FROM\n",
    "    green\n",
    "WHERE\n",
    "    lpep_pickup_datetime >= '2020-01-01 00:00:00'\n",
    "GROUP BY\n",
    "    1, 2\n",
    "\"\"\")"
   ]
  },
  {
   "cell_type": "code",
   "execution_count": 5,
   "id": "3e00310e",
   "metadata": {},
   "outputs": [
    {
     "name": "stderr",
     "output_type": "stream",
     "text": [
      "24/03/02 16:19:04 WARN MemoryManager: Total allocation exceeds 95.00% (1,020,054,720 bytes) of heap memory\n",
      "Scaling row group sizes to 95.00% for 8 writers\n",
      "24/03/02 16:19:05 WARN MemoryManager: Total allocation exceeds 95.00% (1,020,054,720 bytes) of heap memory\n",
      "Scaling row group sizes to 95.00% for 8 writers\n",
      "                                                                                \r"
     ]
    }
   ],
   "source": [
    "df_green_revenue \\\n",
    "    .repartition(20) \\\n",
    "    .write.parquet('data/report/revenue/green', mode='overwrite')"
   ]
  },
  {
   "cell_type": "code",
   "execution_count": 6,
   "id": "07ebb68c",
   "metadata": {},
   "outputs": [
    {
     "name": "stderr",
     "output_type": "stream",
     "text": [
      "/mnt/d/apache/spark-3.4.2-bin-hadoop3/python/pyspark/sql/dataframe.py:330: FutureWarning: Deprecated in 2.0, use createOrReplaceTempView instead.\n",
      "  warnings.warn(\"Deprecated in 2.0, use createOrReplaceTempView instead.\", FutureWarning)\n"
     ]
    }
   ],
   "source": [
    "df_yellow = spark.read.parquet('data/pq/yellow/*/*')\n",
    "df_yellow.registerTempTable('yellow')"
   ]
  },
  {
   "cell_type": "code",
   "execution_count": 7,
   "id": "9d5be29d",
   "metadata": {},
   "outputs": [],
   "source": [
    "df_yellow_revenue = spark.sql(\"\"\"\n",
    "SELECT \n",
    "    date_trunc('hour', tpep_pickup_datetime) AS hour, \n",
    "    PULocationID AS zone,\n",
    "    ROUND(SUM(total_amount), 2) AS amount,\n",
    "    COUNT(1) AS number_records\n",
    "FROM\n",
    "    yellow\n",
    "WHERE\n",
    "    tpep_pickup_datetime >= '2020-01-01 00:00:00'\n",
    "GROUP BY\n",
    "    1, 2\n",
    "\"\"\")"
   ]
  },
  {
   "cell_type": "code",
   "execution_count": 8,
   "id": "8bd9264e",
   "metadata": {},
   "outputs": [
    {
     "name": "stderr",
     "output_type": "stream",
     "text": [
      "24/03/02 16:19:49 WARN MemoryManager: Total allocation exceeds 95.00% (1,020,054,720 bytes) of heap memory\n",
      "Scaling row group sizes to 95.00% for 8 writers\n",
      "                                                                                \r"
     ]
    }
   ],
   "source": [
    "df_yellow_revenue \\\n",
    "    .repartition(20) \\\n",
    "    .write.parquet('data/report/revenue/yellow', mode='overwrite')"
   ]
  },
  {
   "cell_type": "code",
   "execution_count": 9,
   "id": "fd5d74d7",
   "metadata": {},
   "outputs": [],
   "source": [
    "df_green_revenue = spark.read.parquet('data/report/revenue/green')\n",
    "df_yellow_revenue = spark.read.parquet('data/report/revenue/yellow')"
   ]
  },
  {
   "cell_type": "code",
   "execution_count": 10,
   "id": "35015ee6",
   "metadata": {},
   "outputs": [],
   "source": [
    "df_green_revenue_tmp = df_green_revenue \\\n",
    "    .withColumnRenamed('amount', 'green_amount') \\\n",
    "    .withColumnRenamed('number_records', 'green_number_records')\n",
    "\n",
    "df_yellow_revenue_tmp = df_yellow_revenue \\\n",
    "    .withColumnRenamed('amount', 'yellow_amount') \\\n",
    "    .withColumnRenamed('number_records', 'yellow_number_records')"
   ]
  },
  {
   "cell_type": "code",
   "execution_count": 11,
   "id": "ec9f34ea",
   "metadata": {},
   "outputs": [],
   "source": [
    "df_join = df_green_revenue_tmp.join(df_yellow_revenue_tmp, on=['hour', 'zone'], how='outer')"
   ]
  },
  {
   "cell_type": "code",
   "execution_count": 12,
   "id": "10238be7",
   "metadata": {},
   "outputs": [
    {
     "name": "stderr",
     "output_type": "stream",
     "text": [
      "                                                                                \r"
     ]
    }
   ],
   "source": [
    "df_join.write.parquet('data/report/revenue/total', mode='overwrite')"
   ]
  },
  {
   "cell_type": "code",
   "execution_count": 13,
   "id": "c3af7169",
   "metadata": {},
   "outputs": [],
   "source": [
    "df_join = spark.read.parquet('data/report/revenue/total')"
   ]
  },
  {
   "cell_type": "code",
   "execution_count": 14,
   "id": "bc2a6680",
   "metadata": {},
   "outputs": [
    {
     "data": {
      "text/plain": [
       "DataFrame[hour: timestamp, zone: int, green_amount: double, green_number_records: bigint, yellow_amount: double, yellow_number_records: bigint]"
      ]
     },
     "execution_count": 14,
     "metadata": {},
     "output_type": "execute_result"
    }
   ],
   "source": [
    "df_join"
   ]
  },
  {
   "cell_type": "code",
   "execution_count": 15,
   "id": "abb46398",
   "metadata": {},
   "outputs": [],
   "source": [
    "df_zones = spark.read.parquet('zones/')"
   ]
  },
  {
   "cell_type": "code",
   "execution_count": 16,
   "id": "b3cf98a5",
   "metadata": {},
   "outputs": [],
   "source": [
    "df_result = df_join.join(df_zones, df_join.zone == df_zones.LocationID)"
   ]
  },
  {
   "cell_type": "code",
   "execution_count": 17,
   "id": "5e0614ba",
   "metadata": {},
   "outputs": [],
   "source": [
    "revenue_zones = df_result.drop('LocationID', 'zone').fillna(0)"
   ]
  },
  {
   "cell_type": "code",
   "execution_count": 18,
   "id": "9f5ca913",
   "metadata": {},
   "outputs": [
    {
     "name": "stdout",
     "output_type": "stream",
     "text": [
      "+-------------------+------------+--------------------+-------------+---------------------+---------+------------+\n",
      "|               hour|green_amount|green_number_records|yellow_amount|yellow_number_records|  Borough|service_zone|\n",
      "+-------------------+------------+--------------------+-------------+---------------------+---------+------------+\n",
      "|2020-01-01 00:00:00|         0.0|                   0|        42.41|                    2|   Queens|   Boro Zone|\n",
      "|2020-01-01 00:00:00|         0.0|                   0|          8.8|                    1| Brooklyn|   Boro Zone|\n",
      "|2020-01-01 00:00:00|         0.0|                   0|        34.09|                    1|   Queens|   Boro Zone|\n",
      "|2020-01-01 00:00:00|      195.03|                   9|       220.21|                    8| Brooklyn|   Boro Zone|\n",
      "|2020-01-01 00:00:00|        87.6|                   3|       754.95|                   45|Manhattan| Yellow Zone|\n",
      "|2020-01-01 00:00:00|        61.3|                   1|          0.0|                    0| Brooklyn|   Boro Zone|\n",
      "|2020-01-01 00:00:00|      317.27|                  11|       255.56|                    8| Brooklyn|   Boro Zone|\n",
      "|2020-01-01 00:00:00|      129.96|                   5|          0.0|                    0| Brooklyn|   Boro Zone|\n",
      "|2020-01-01 00:00:00|     1363.96|                  84|      1256.53|                   80|Manhattan|   Boro Zone|\n",
      "|2020-01-01 00:00:00|        13.3|                   1|          8.3|                    1|    Bronx|   Boro Zone|\n",
      "|2020-01-01 00:00:00|         0.0|                   0|     10773.36|                  455|Manhattan| Yellow Zone|\n",
      "|2020-01-01 00:00:00|      266.76|                  14|       185.65|                   10| Brooklyn|   Boro Zone|\n",
      "|2020-01-01 00:00:00|      129.29|                   4|          0.0|                    0| Brooklyn|   Boro Zone|\n",
      "|2020-01-01 00:00:00|      199.49|                  10|       409.35|                   19| Brooklyn|   Boro Zone|\n",
      "|2020-01-01 00:00:00|         0.0|                   0|      7825.07|                  396|Manhattan| Yellow Zone|\n",
      "|2020-01-01 00:00:00|        23.8|                   1|          0.0|                    0| Brooklyn|   Boro Zone|\n",
      "|2020-01-01 00:00:00|      317.09|                  24|       586.21|                   47|Manhattan|   Boro Zone|\n",
      "|2020-01-01 00:00:00|      143.78|                   4|        35.51|                    2| Brooklyn|   Boro Zone|\n",
      "|2020-01-01 00:00:00|      305.12|                  28|         29.8|                    1|   Queens|   Boro Zone|\n",
      "|2020-01-01 00:00:00|         0.0|                   0|        823.8|                   36|Manhattan| Yellow Zone|\n",
      "+-------------------+------------+--------------------+-------------+---------------------+---------+------------+\n",
      "only showing top 20 rows\n",
      "\n"
     ]
    }
   ],
   "source": [
    "revenue_zones.show()"
   ]
  },
  {
   "cell_type": "code",
   "execution_count": 19,
   "id": "88f55156",
   "metadata": {},
   "outputs": [
    {
     "name": "stderr",
     "output_type": "stream",
     "text": [
      "                                                                                \r"
     ]
    }
   ],
   "source": [
    "df_result.drop('LocationID', 'zone').write.parquet('data/report/revenue/revenue-zones', mode='overwrite')"
   ]
  },
  {
   "cell_type": "code",
   "execution_count": 20,
   "id": "df8fcf44",
   "metadata": {},
   "outputs": [
    {
     "name": "stdout",
     "output_type": "stream",
     "text": [
      "total 1260\r\n",
      "drwxrwxrwx 1 root root   4096 Mar  2 16:20 .\r\n",
      "drwxrwxrwx 1 root root   4096 Mar  2 16:20 ..\r\n",
      "-rwxrwxrwx 1 root root      8 Mar  2 16:20 ._SUCCESS.crc\r\n",
      "-rwxrwxrwx 1 root root   2484 Mar  2 16:20 .part-00000-8b9b3bbd-e3f4-469b-b84e-279ee72169f8-c000.snappy.parquet.crc\r\n",
      "-rwxrwxrwx 1 root root   2480 Mar  2 16:20 .part-00001-8b9b3bbd-e3f4-469b-b84e-279ee72169f8-c000.snappy.parquet.crc\r\n",
      "-rwxrwxrwx 1 root root   2476 Mar  2 16:20 .part-00002-8b9b3bbd-e3f4-469b-b84e-279ee72169f8-c000.snappy.parquet.crc\r\n",
      "-rwxrwxrwx 1 root root   2452 Mar  2 16:20 .part-00003-8b9b3bbd-e3f4-469b-b84e-279ee72169f8-c000.snappy.parquet.crc\r\n",
      "-rwxrwxrwx 1 root root      0 Mar  2 16:20 _SUCCESS\r\n",
      "-rwxrwxrwx 1 root root 316513 Mar  2 16:20 part-00000-8b9b3bbd-e3f4-469b-b84e-279ee72169f8-c000.snappy.parquet\r\n",
      "-rwxrwxrwx 1 root root 316124 Mar  2 16:20 part-00001-8b9b3bbd-e3f4-469b-b84e-279ee72169f8-c000.snappy.parquet\r\n",
      "-rwxrwxrwx 1 root root 315898 Mar  2 16:20 part-00002-8b9b3bbd-e3f4-469b-b84e-279ee72169f8-c000.snappy.parquet\r\n",
      "-rwxrwxrwx 1 root root 312703 Mar  2 16:20 part-00003-8b9b3bbd-e3f4-469b-b84e-279ee72169f8-c000.snappy.parquet\r\n"
     ]
    }
   ],
   "source": [
    "!ls -la data/report/revenue/revenue-zones"
   ]
  },
  {
   "cell_type": "code",
   "execution_count": null,
   "id": "afc29653",
   "metadata": {},
   "outputs": [],
   "source": []
  }
 ],
 "metadata": {
  "kernelspec": {
   "display_name": "Python 3 (ipykernel)",
   "language": "python",
   "name": "python3"
  },
  "language_info": {
   "codemirror_mode": {
    "name": "ipython",
    "version": 3
   },
   "file_extension": ".py",
   "mimetype": "text/x-python",
   "name": "python",
   "nbconvert_exporter": "python",
   "pygments_lexer": "ipython3",
   "version": "3.10.12"
  }
 },
 "nbformat": 4,
 "nbformat_minor": 5
}
