{
 "cells": [
  {
   "cell_type": "markdown",
   "id": "4409c979",
   "metadata": {},
   "source": [
    "### Execute this in Cloud VM & successdull\n",
    "```\n",
    "import pyspark\n",
    "from pyspark.sql import SparkSession\n",
    "from pyspark.conf import SparkConf\n",
    "from pyspark.context import SparkContext\n",
    "\n",
    "conf = SparkConf() \\\n",
    "    .setMaster('spark://instance-dezoomcamp-ikg.asia-southeast2-a.c.dezoomcamp-ikg.internal:7077') \\\n",
    "    .setAppName('test') \\\n",
    "    .set(\"spark.jars\", \"/home/garjita_ds/spark-3.4.2-bin-hadoop3/jars/gcs-connector-hadoop3-latest.jar\") \\\n",
    "    .set(\"spark.hadoop.google.cloud.auth.service.account.enable\", \"true\") \n",
    "\n",
    "spark = SparkSession.builder.config(conf=conf).getOrCreate()\n",
    "\n",
    "df_green = spark.read.parquet('gs://nytaxi-dezoomcamp/pq/green/2020/01/', header=True) \n",
    "\n",
    "df_green.printSchema()\n",
    "df_green.count()\n",
    "df_green.show()\n",
    "```"
   ]
  },
  {
   "cell_type": "code",
   "execution_count": null,
   "id": "e2edcca3",
   "metadata": {},
   "outputs": [],
   "source": [
    "# It is doesn't work...\n",
    "\n",
    "import pyspark\n",
    "from pyspark.sql import SparkSession\n",
    "from pyspark.conf import SparkConf\n",
    "from pyspark.context import SparkContext\n",
    "\n",
    "credentials_location = '/root/.google/credentials/dezoomcamp-ikg-764b429f1606.json'\n",
    "\n",
    "conf = SparkConf() \\\n",
    "    .setMaster('spark://instance-dezoomcamp-ikg.asia-southeast2-a.c.dezoomcamp-ikg.internal:7077') \\\n",
    "    .setAppName('test') \\\n",
    "    .set(\"spark.jars\", \"/mnt/d/apache/spark-3.4.2-bin-hadoop3/jars/gcs-connector-hadoop3-latest.jar\") \\\n",
    "    .set(\"spark.hadoop.google.cloud.auth.service.account.enable\", \"true\") \\\n",
    "    .set(\"spark.hadoop.google.cloud.auth.service.account.json.keyfile\", credentials_location)\n",
    "\n",
    "spark = SparkSession.builder.config(conf=conf).getOrCreate()\n",
    "\n",
    "df_green = spark.read.parquet('gs://nytaxi-dezoomcamp/pq/green/2020/01/', header=True) \n",
    "\n",
    "df_green.printSchema()\n",
    "df_green.count()\n",
    "df_green.show()"
   ]
  },
  {
   "cell_type": "code",
   "execution_count": null,
   "id": "31da59e9",
   "metadata": {},
   "outputs": [],
   "source": []
  }
 ],
 "metadata": {
  "kernelspec": {
   "display_name": "Python 3 (ipykernel)",
   "language": "python",
   "name": "python3"
  },
  "language_info": {
   "codemirror_mode": {
    "name": "ipython",
    "version": 3
   },
   "file_extension": ".py",
   "mimetype": "text/x-python",
   "name": "python",
   "nbconvert_exporter": "python",
   "pygments_lexer": "ipython3",
   "version": "3.10.12"
  }
 },
 "nbformat": 4,
 "nbformat_minor": 5
}
