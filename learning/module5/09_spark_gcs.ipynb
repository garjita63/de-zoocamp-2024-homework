{
 "cells": [
  {
   "cell_type": "code",
   "execution_count": 1,
   "id": "3307b886",
   "metadata": {},
   "outputs": [],
   "source": [
    "import pyspark\n",
    "from pyspark.sql import SparkSession\n",
    "from pyspark.conf import SparkConf\n",
    "from pyspark.context import SparkContext"
   ]
  },
  {
   "cell_type": "code",
   "execution_count": 2,
   "id": "9f0ddbff",
   "metadata": {},
   "outputs": [],
   "source": [
    "credentials_location = '/root/.google/credentials/dezoomcamp-ikg-764b429f1606.json'\n",
    "\n",
    "conf = SparkConf() \\\n",
    "    .setMaster('local[*]') \\\n",
    "    .setAppName('test') \\\n",
    "    .set(\"spark.jars\", \"/mnt/d/apache/spark-3.4.2-bin-hadoop3/jars/gcs-connector-hadoop3-latest.jar\") \\\n",
    "    .set(\"spark.hadoop.google.cloud.auth.service.account.enable\", \"true\") \\\n",
    "    .set(\"spark.hadoop.google.cloud.auth.service.account.json.keyfile\", credentials_location)"
   ]
  },
  {
   "cell_type": "code",
   "execution_count": 3,
   "id": "b83404e8",
   "metadata": {},
   "outputs": [
    {
     "name": "stderr",
     "output_type": "stream",
     "text": [
      "24/03/02 15:56:33 WARN Utils: Your hostname, Desktop-Gar resolves to a loopback address: 127.0.1.1; using 172.25.243.204 instead (on interface eth0)\n",
      "24/03/02 15:56:33 WARN Utils: Set SPARK_LOCAL_IP if you need to bind to another address\n",
      "24/03/02 15:56:36 WARN NativeCodeLoader: Unable to load native-hadoop library for your platform... using builtin-java classes where applicable\n",
      "Setting default log level to \"WARN\".\n",
      "To adjust logging level use sc.setLogLevel(newLevel). For SparkR, use setLogLevel(newLevel).\n",
      "24/03/02 15:56:42 WARN Utils: Service 'SparkUI' could not bind on port 4040. Attempting port 4041.\n"
     ]
    }
   ],
   "source": [
    "sc = SparkContext(conf=conf)\n",
    "\n",
    "hadoop_conf = sc._jsc.hadoopConfiguration()\n",
    "\n",
    "hadoop_conf.set(\"fs.AbstractFileSystem.gs.impl\",  \"com.google.cloud.hadoop.fs.gcs.GoogleHadoopFS\")\n",
    "hadoop_conf.set(\"fs.gs.impl\", \"com.google.cloud.hadoop.fs.gcs.GoogleHadoopFileSystem\")\n",
    "hadoop_conf.set(\"fs.gs.auth.service.account.json.keyfile\", credentials_location)\n",
    "hadoop_conf.set(\"fs.gs.auth.service.account.enable\", \"true\")"
   ]
  },
  {
   "cell_type": "code",
   "execution_count": 4,
   "id": "c4713e2b",
   "metadata": {},
   "outputs": [],
   "source": [
    "spark = SparkSession.builder \\\n",
    "    .config(conf=sc.getConf()) \\\n",
    "    .getOrCreate()"
   ]
  },
  {
   "cell_type": "code",
   "execution_count": 5,
   "id": "1ee1eb1d",
   "metadata": {},
   "outputs": [
    {
     "name": "stderr",
     "output_type": "stream",
     "text": [
      "                                                                                \r"
     ]
    }
   ],
   "source": [
    "df_green = spark.read.csv('gs://nytaxi-dezoomcamp/green_tripdata_2020-01.csv.gz', header=True) \n"
   ]
  },
  {
   "cell_type": "code",
   "execution_count": 6,
   "id": "104b40ab",
   "metadata": {},
   "outputs": [
    {
     "name": "stderr",
     "output_type": "stream",
     "text": [
      "                                                                                \r"
     ]
    },
    {
     "data": {
      "text/plain": [
       "447770"
      ]
     },
     "execution_count": 6,
     "metadata": {},
     "output_type": "execute_result"
    }
   ],
   "source": [
    "df_green.count()"
   ]
  },
  {
   "cell_type": "code",
   "execution_count": 7,
   "id": "f56a885d",
   "metadata": {
    "scrolled": true
   },
   "outputs": [
    {
     "name": "stdout",
     "output_type": "stream",
     "text": [
      "+--------+--------------------+---------------------+------------------+----------+------------+------------+---------------+-------------+-----------+-----+-------+----------+------------+---------+---------------------+------------+------------+---------+--------------------+\n",
      "|VendorID|lpep_pickup_datetime|lpep_dropoff_datetime|store_and_fwd_flag|RatecodeID|PULocationID|DOLocationID|passenger_count|trip_distance|fare_amount|extra|mta_tax|tip_amount|tolls_amount|ehail_fee|improvement_surcharge|total_amount|payment_type|trip_type|congestion_surcharge|\n",
      "+--------+--------------------+---------------------+------------------+----------+------------+------------+---------------+-------------+-----------+-----+-------+----------+------------+---------+---------------------+------------+------------+---------+--------------------+\n",
      "|       2| 2019-12-18 15:52:30|  2019-12-18 15:54:39|                 N|         1|         264|         264|              5|          .00|        3.5|  0.5|    0.5|      0.01|           0|     null|                  0.3|        4.81|           1|        1|                   0|\n",
      "|       2| 2020-01-01 00:45:58|  2020-01-01 00:56:39|                 N|         5|          66|          65|              2|         1.28|         20|    0|      0|      4.06|           0|     null|                  0.3|       24.36|           1|        2|                   0|\n",
      "|       2| 2020-01-01 00:41:38|  2020-01-01 00:52:49|                 N|         1|         181|         228|              1|         2.47|       10.5|  0.5|    0.5|      3.54|           0|     null|                  0.3|       15.34|           1|        1|                   0|\n",
      "|       1| 2020-01-01 00:52:46|  2020-01-01 01:14:21|                 N|         1|         129|         263|              2|         6.30|         21| 3.25|    0.5|         0|           0|     null|                  0.3|       25.05|           2|        1|                2.75|\n",
      "|       1| 2020-01-01 00:19:57|  2020-01-01 00:30:56|                 N|         1|         210|         150|              1|         2.30|         10|  0.5|    0.5|         0|           0|     null|                  0.3|        11.3|           1|        1|                   0|\n",
      "|       1| 2020-01-01 00:52:33|  2020-01-01 01:09:54|                 N|         1|          35|          39|              1|         3.00|       13.5|  0.5|    0.5|         0|           0|     null|                  0.3|        14.8|           1|        1|                   0|\n",
      "|       2| 2020-01-01 00:10:18|  2020-01-01 00:22:16|                 N|         1|          25|          61|              1|         2.77|         11|  0.5|    0.5|         0|           0|     null|                  0.3|        12.3|           2|        1|                   0|\n",
      "|       2| 2020-01-01 01:03:14|  2020-01-01 01:29:45|                 N|         1|         225|          89|              1|         4.98|       20.5|  0.5|    0.5|         0|           0|     null|                  0.3|        21.8|           2|        1|                   0|\n",
      "|       2| 2020-01-01 00:04:11|  2020-01-01 00:09:48|                 N|         1|         129|         129|              1|          .71|        5.5|  0.5|    0.5|         0|           0|     null|                  0.3|         6.8|           2|        1|                   0|\n",
      "|       2| 2020-01-01 00:25:52|  2020-01-01 00:32:16|                 N|         1|         129|          83|              1|          .80|        5.5|  0.5|    0.5|         0|           0|     null|                  0.3|         6.8|           2|        1|                   0|\n",
      "|       2| 2020-01-01 00:47:32|  2020-01-01 00:59:25|                 N|         1|          82|         173|              1|         1.52|        9.5|  0.5|    0.5|         0|           0|     null|                  0.3|        10.8|           2|        1|                   0|\n",
      "|       1| 2020-01-01 00:26:40|  2020-01-01 00:40:42|                 N|         1|          74|          69|              1|         3.80|         14|  0.5|    0.5|         0|           0|     null|                  0.3|        15.3|           2|        1|                   0|\n",
      "|       2| 2020-01-01 00:38:47|  2020-01-01 00:46:02|                 N|         1|          74|          41|              1|         1.12|        6.5|  0.5|    0.5|         0|           0|     null|                  0.3|         7.8|           1|        1|                   0|\n",
      "|       2| 2020-01-01 00:52:18|  2020-01-01 01:09:58|                 N|         1|          41|         127|              1|         5.67|         19|  0.5|    0.5|         0|           0|     null|                  0.3|        20.3|           2|        1|                   0|\n",
      "|       2| 2020-01-01 00:16:01|  2020-01-01 00:26:40|                 N|         1|           7|         260|              1|         1.86|        9.5|  0.5|    0.5|         0|           0|     null|                  0.3|        10.8|           2|        1|                   0|\n",
      "|       2| 2020-01-01 00:21:15|  2020-01-01 00:28:03|                 N|         1|           7|           7|              1|         1.42|          7|  0.5|    0.5|         0|           0|     null|                  0.3|         8.3|           2|        1|                   0|\n",
      "|       2| 2020-01-01 00:35:42|  2020-01-01 01:02:00|                 N|         1|           7|         133|              1|        15.48|         43|  0.5|    0.5|      8.86|           0|     null|                  0.3|       53.16|           1|        1|                   0|\n",
      "|       2| 2020-01-01 00:39:51|  2020-01-01 00:42:54|                 N|         1|         134|          28|              1|         1.15|        5.5|  0.5|    0.5|         1|           0|     null|                  0.3|         7.8|           1|        1|                   0|\n",
      "|       1| 2020-01-01 00:00:21|  2020-01-01 00:10:19|                 N|         1|          89|          39|              1|         2.30|         10|  0.5|    0.5|         0|           0|     null|                  0.3|        11.3|           2|        1|                   0|\n",
      "|       1| 2020-01-01 00:13:59|  2020-01-01 00:21:31|                 N|         1|          66|          65|              3|         1.00|        6.5|  0.5|    0.5|         0|           0|     null|                  0.3|         7.8|           2|        1|                   0|\n",
      "+--------+--------------------+---------------------+------------------+----------+------------+------------+---------------+-------------+-----------+-----+-------+----------+------------+---------+---------------------+------------+------------+---------+--------------------+\n",
      "only showing top 20 rows\n",
      "\n"
     ]
    }
   ],
   "source": [
    "df_green.show()"
   ]
  },
  {
   "cell_type": "code",
   "execution_count": 8,
   "id": "6d2429a7",
   "metadata": {},
   "outputs": [
    {
     "name": "stdout",
     "output_type": "stream",
     "text": [
      "root\n",
      " |-- VendorID: string (nullable = true)\n",
      " |-- lpep_pickup_datetime: string (nullable = true)\n",
      " |-- lpep_dropoff_datetime: string (nullable = true)\n",
      " |-- store_and_fwd_flag: string (nullable = true)\n",
      " |-- RatecodeID: string (nullable = true)\n",
      " |-- PULocationID: string (nullable = true)\n",
      " |-- DOLocationID: string (nullable = true)\n",
      " |-- passenger_count: string (nullable = true)\n",
      " |-- trip_distance: string (nullable = true)\n",
      " |-- fare_amount: string (nullable = true)\n",
      " |-- extra: string (nullable = true)\n",
      " |-- mta_tax: string (nullable = true)\n",
      " |-- tip_amount: string (nullable = true)\n",
      " |-- tolls_amount: string (nullable = true)\n",
      " |-- ehail_fee: string (nullable = true)\n",
      " |-- improvement_surcharge: string (nullable = true)\n",
      " |-- total_amount: string (nullable = true)\n",
      " |-- payment_type: string (nullable = true)\n",
      " |-- trip_type: string (nullable = true)\n",
      " |-- congestion_surcharge: string (nullable = true)\n",
      "\n"
     ]
    }
   ],
   "source": [
    "df_green.printSchema()"
   ]
  },
  {
   "cell_type": "code",
   "execution_count": 9,
   "id": "31e311e9",
   "metadata": {},
   "outputs": [],
   "source": [
    "df = spark.read.csv('gs://nytaxi-dezoomcamp/green_tripdata_2020-01.csv.gz', header=True) \n"
   ]
  },
  {
   "cell_type": "code",
   "execution_count": 10,
   "id": "20f0af0c",
   "metadata": {},
   "outputs": [],
   "source": [
    "df = df.repartition(16)"
   ]
  },
  {
   "cell_type": "code",
   "execution_count": 11,
   "id": "1a1ae715",
   "metadata": {
    "scrolled": true
   },
   "outputs": [
    {
     "name": "stderr",
     "output_type": "stream",
     "text": [
      "24/03/02 15:59:24 WARN MemoryManager: Total allocation exceeds 95.00% (1,020,054,720 bytes) of heap memory\n",
      "Scaling row group sizes to 95.00% for 8 writers\n",
      "24/03/02 15:59:31 WARN MemoryManager: Total allocation exceeds 95.00% (1,020,054,720 bytes) of heap memory\n",
      "Scaling row group sizes to 95.00% for 8 writers\n",
      "                                                                                \r"
     ]
    }
   ],
   "source": [
    "df.write.parquet('gs://nytaxi-dezoomcamp/pq/green/2020/01/', mode='overwrite')"
   ]
  },
  {
   "cell_type": "code",
   "execution_count": 12,
   "id": "1d889e23",
   "metadata": {},
   "outputs": [],
   "source": [
    "df = spark.read \\\n",
    "    .option(\"header\", \"true\") \\\n",
    "    .csv('gs://nytaxi-dezoomcamp/yellow_tripdata_2020-01.csv.gz')"
   ]
  },
  {
   "cell_type": "code",
   "execution_count": 13,
   "id": "38c8b3ba",
   "metadata": {},
   "outputs": [],
   "source": [
    "df = df.repartition(50)"
   ]
  },
  {
   "cell_type": "code",
   "execution_count": 14,
   "id": "c04572d0",
   "metadata": {},
   "outputs": [
    {
     "name": "stderr",
     "output_type": "stream",
     "text": [
      "24/03/02 16:02:32 WARN MemoryManager: Total allocation exceeds 95.00% (1,020,054,720 bytes) of heap memory\n",
      "Scaling row group sizes to 95.00% for 8 writers\n",
      "24/03/02 16:02:39 WARN MemoryManager: Total allocation exceeds 95.00% (1,020,054,720 bytes) of heap memory\n",
      "Scaling row group sizes to 95.00% for 8 writers\n",
      "24/03/02 16:02:56 WARN MemoryManager: Total allocation exceeds 95.00% (1,020,054,720 bytes) of heap memory\n",
      "Scaling row group sizes to 95.00% for 8 writers\n",
      "24/03/02 16:03:01 WARN MemoryManager: Total allocation exceeds 95.00% (1,020,054,720 bytes) of heap memory\n",
      "Scaling row group sizes to 95.00% for 8 writers\n",
      "24/03/02 16:03:05 WARN MemoryManager: Total allocation exceeds 95.00% (1,020,054,720 bytes) of heap memory\n",
      "Scaling row group sizes to 95.00% for 8 writers\n",
      "24/03/02 16:03:08 WARN MemoryManager: Total allocation exceeds 95.00% (1,020,054,720 bytes) of heap memory\n",
      "Scaling row group sizes to 95.00% for 8 writers\n",
      "24/03/02 16:03:11 WARN MemoryManager: Total allocation exceeds 95.00% (1,020,054,720 bytes) of heap memory\n",
      "Scaling row group sizes to 95.00% for 8 writers\n",
      "24/03/02 16:03:18 WARN MemoryManager: Total allocation exceeds 95.00% (1,020,054,720 bytes) of heap memory\n",
      "Scaling row group sizes to 95.00% for 8 writers\n",
      "24/03/02 16:03:23 WARN MemoryManager: Total allocation exceeds 95.00% (1,020,054,720 bytes) of heap memory\n",
      "Scaling row group sizes to 95.00% for 8 writers\n",
      "24/03/02 16:03:24 WARN MemoryManager: Total allocation exceeds 95.00% (1,020,054,720 bytes) of heap memory\n",
      "Scaling row group sizes to 95.00% for 8 writers\n",
      "24/03/02 16:03:27 WARN MemoryManager: Total allocation exceeds 95.00% (1,020,054,720 bytes) of heap memory\n",
      "Scaling row group sizes to 95.00% for 8 writers\n",
      "24/03/02 16:03:32 WARN MemoryManager: Total allocation exceeds 95.00% (1,020,054,720 bytes) of heap memory\n",
      "Scaling row group sizes to 95.00% for 8 writers\n",
      "24/03/02 16:03:33 WARN MemoryManager: Total allocation exceeds 95.00% (1,020,054,720 bytes) of heap memory\n",
      "Scaling row group sizes to 95.00% for 8 writers\n",
      "24/03/02 16:03:38 WARN MemoryManager: Total allocation exceeds 95.00% (1,020,054,720 bytes) of heap memory\n",
      "Scaling row group sizes to 95.00% for 8 writers\n",
      "24/03/02 16:03:42 WARN MemoryManager: Total allocation exceeds 95.00% (1,020,054,720 bytes) of heap memory\n",
      "Scaling row group sizes to 95.00% for 8 writers\n",
      "                                                                                \r"
     ]
    }
   ],
   "source": [
    "df.write.parquet('gs://nytaxi-dezoomcamp/pq/yellow/2020/01/', mode='overwrite')"
   ]
  },
  {
   "cell_type": "code",
   "execution_count": 15,
   "id": "31da59e9",
   "metadata": {},
   "outputs": [
    {
     "name": "stdout",
     "output_type": "stream",
     "text": [
      "\n",
      "\n",
      "Updates are available for some Google Cloud CLI components.  To install them,\n",
      "please run:\n",
      "  $ gcloud components update\n",
      "\n",
      "       0 B  2024-03-02T08:59:41Z  gs://nytaxi-dezoomcamp/pq/green/2020/01/\n",
      "       0 B  2024-03-02T08:59:41Z  gs://nytaxi-dezoomcamp/pq/green/2020/01/_SUCCESS\n",
      "782.37 KiB  2024-03-02T08:59:35Z  gs://nytaxi-dezoomcamp/pq/green/2020/01/part-00000-5072de0d-765e-49bd-afbb-3c8abf3c21c7-c000.snappy.parquet\n",
      " 784.9 KiB  2024-03-02T08:59:35Z  gs://nytaxi-dezoomcamp/pq/green/2020/01/part-00001-5072de0d-765e-49bd-afbb-3c8abf3c21c7-c000.snappy.parquet\n",
      "785.52 KiB  2024-03-02T08:59:36Z  gs://nytaxi-dezoomcamp/pq/green/2020/01/part-00002-5072de0d-765e-49bd-afbb-3c8abf3c21c7-c000.snappy.parquet\n",
      "784.99 KiB  2024-03-02T08:59:36Z  gs://nytaxi-dezoomcamp/pq/green/2020/01/part-00003-5072de0d-765e-49bd-afbb-3c8abf3c21c7-c000.snappy.parquet\n",
      " 783.9 KiB  2024-03-02T08:59:36Z  gs://nytaxi-dezoomcamp/pq/green/2020/01/part-00004-5072de0d-765e-49bd-afbb-3c8abf3c21c7-c000.snappy.parquet\n",
      "782.79 KiB  2024-03-02T08:59:37Z  gs://nytaxi-dezoomcamp/pq/green/2020/01/part-00005-5072de0d-765e-49bd-afbb-3c8abf3c21c7-c000.snappy.parquet\n",
      "781.75 KiB  2024-03-02T08:59:37Z  gs://nytaxi-dezoomcamp/pq/green/2020/01/part-00006-5072de0d-765e-49bd-afbb-3c8abf3c21c7-c000.snappy.parquet\n",
      " 784.9 KiB  2024-03-02T08:59:37Z  gs://nytaxi-dezoomcamp/pq/green/2020/01/part-00007-5072de0d-765e-49bd-afbb-3c8abf3c21c7-c000.snappy.parquet\n",
      "786.27 KiB  2024-03-02T08:59:38Z  gs://nytaxi-dezoomcamp/pq/green/2020/01/part-00008-5072de0d-765e-49bd-afbb-3c8abf3c21c7-c000.snappy.parquet\n",
      "783.94 KiB  2024-03-02T08:59:38Z  gs://nytaxi-dezoomcamp/pq/green/2020/01/part-00009-5072de0d-765e-49bd-afbb-3c8abf3c21c7-c000.snappy.parquet\n",
      "785.93 KiB  2024-03-02T08:59:39Z  gs://nytaxi-dezoomcamp/pq/green/2020/01/part-00010-5072de0d-765e-49bd-afbb-3c8abf3c21c7-c000.snappy.parquet\n",
      "782.69 KiB  2024-03-02T08:59:39Z  gs://nytaxi-dezoomcamp/pq/green/2020/01/part-00011-5072de0d-765e-49bd-afbb-3c8abf3c21c7-c000.snappy.parquet\n",
      "783.04 KiB  2024-03-02T08:59:39Z  gs://nytaxi-dezoomcamp/pq/green/2020/01/part-00012-5072de0d-765e-49bd-afbb-3c8abf3c21c7-c000.snappy.parquet\n",
      "785.79 KiB  2024-03-02T08:59:40Z  gs://nytaxi-dezoomcamp/pq/green/2020/01/part-00013-5072de0d-765e-49bd-afbb-3c8abf3c21c7-c000.snappy.parquet\n",
      "784.49 KiB  2024-03-02T08:59:40Z  gs://nytaxi-dezoomcamp/pq/green/2020/01/part-00014-5072de0d-765e-49bd-afbb-3c8abf3c21c7-c000.snappy.parquet\n",
      "784.77 KiB  2024-03-02T08:59:40Z  gs://nytaxi-dezoomcamp/pq/green/2020/01/part-00015-5072de0d-765e-49bd-afbb-3c8abf3c21c7-c000.snappy.parquet\n",
      "TOTAL: 18 objects, 12849219 bytes (12.25 MiB)\n"
     ]
    }
   ],
   "source": [
    "!gsutil ls -lh gs://nytaxi-dezoomcamp/pq/green/2020/01/"
   ]
  },
  {
   "cell_type": "code",
   "execution_count": 16,
   "id": "aefc7947",
   "metadata": {},
   "outputs": [
    {
     "name": "stdout",
     "output_type": "stream",
     "text": [
      "       0 B  2024-03-02T09:04:09Z  gs://nytaxi-dezoomcamp/pq/yellow/2020/01/\r\n",
      "       0 B  2024-03-02T09:04:09Z  gs://nytaxi-dezoomcamp/pq/yellow/2020/01/_SUCCESS\r\n",
      "   3.3 MiB  2024-03-02T09:03:53Z  gs://nytaxi-dezoomcamp/pq/yellow/2020/01/part-00000-4d90723b-db59-4a7c-a903-c9271b926eb3-c000.snappy.parquet\r\n",
      "  3.31 MiB  2024-03-02T09:03:53Z  gs://nytaxi-dezoomcamp/pq/yellow/2020/01/part-00001-4d90723b-db59-4a7c-a903-c9271b926eb3-c000.snappy.parquet\r\n",
      "  3.32 MiB  2024-03-02T09:03:54Z  gs://nytaxi-dezoomcamp/pq/yellow/2020/01/part-00002-4d90723b-db59-4a7c-a903-c9271b926eb3-c000.snappy.parquet\r\n",
      "  3.31 MiB  2024-03-02T09:03:54Z  gs://nytaxi-dezoomcamp/pq/yellow/2020/01/part-00003-4d90723b-db59-4a7c-a903-c9271b926eb3-c000.snappy.parquet\r\n",
      "   3.3 MiB  2024-03-02T09:03:54Z  gs://nytaxi-dezoomcamp/pq/yellow/2020/01/part-00004-4d90723b-db59-4a7c-a903-c9271b926eb3-c000.snappy.parquet\r\n",
      "  3.31 MiB  2024-03-02T09:03:54Z  gs://nytaxi-dezoomcamp/pq/yellow/2020/01/part-00005-4d90723b-db59-4a7c-a903-c9271b926eb3-c000.snappy.parquet\r\n",
      "  3.31 MiB  2024-03-02T09:03:55Z  gs://nytaxi-dezoomcamp/pq/yellow/2020/01/part-00006-4d90723b-db59-4a7c-a903-c9271b926eb3-c000.snappy.parquet\r\n",
      "  3.31 MiB  2024-03-02T09:03:55Z  gs://nytaxi-dezoomcamp/pq/yellow/2020/01/part-00007-4d90723b-db59-4a7c-a903-c9271b926eb3-c000.snappy.parquet\r\n",
      "  3.31 MiB  2024-03-02T09:03:55Z  gs://nytaxi-dezoomcamp/pq/yellow/2020/01/part-00008-4d90723b-db59-4a7c-a903-c9271b926eb3-c000.snappy.parquet\r\n",
      "  3.32 MiB  2024-03-02T09:03:56Z  gs://nytaxi-dezoomcamp/pq/yellow/2020/01/part-00009-4d90723b-db59-4a7c-a903-c9271b926eb3-c000.snappy.parquet\r\n",
      "  3.31 MiB  2024-03-02T09:03:56Z  gs://nytaxi-dezoomcamp/pq/yellow/2020/01/part-00010-4d90723b-db59-4a7c-a903-c9271b926eb3-c000.snappy.parquet\r\n",
      "  3.31 MiB  2024-03-02T09:03:56Z  gs://nytaxi-dezoomcamp/pq/yellow/2020/01/part-00011-4d90723b-db59-4a7c-a903-c9271b926eb3-c000.snappy.parquet\r\n",
      "  3.31 MiB  2024-03-02T09:03:57Z  gs://nytaxi-dezoomcamp/pq/yellow/2020/01/part-00012-4d90723b-db59-4a7c-a903-c9271b926eb3-c000.snappy.parquet\r\n",
      "  3.31 MiB  2024-03-02T09:03:57Z  gs://nytaxi-dezoomcamp/pq/yellow/2020/01/part-00013-4d90723b-db59-4a7c-a903-c9271b926eb3-c000.snappy.parquet\r\n",
      "  3.32 MiB  2024-03-02T09:03:57Z  gs://nytaxi-dezoomcamp/pq/yellow/2020/01/part-00014-4d90723b-db59-4a7c-a903-c9271b926eb3-c000.snappy.parquet\r\n",
      "  3.31 MiB  2024-03-02T09:03:58Z  gs://nytaxi-dezoomcamp/pq/yellow/2020/01/part-00015-4d90723b-db59-4a7c-a903-c9271b926eb3-c000.snappy.parquet\r\n",
      "  3.31 MiB  2024-03-02T09:03:58Z  gs://nytaxi-dezoomcamp/pq/yellow/2020/01/part-00016-4d90723b-db59-4a7c-a903-c9271b926eb3-c000.snappy.parquet\r\n",
      "  3.31 MiB  2024-03-02T09:03:58Z  gs://nytaxi-dezoomcamp/pq/yellow/2020/01/part-00017-4d90723b-db59-4a7c-a903-c9271b926eb3-c000.snappy.parquet\r\n",
      "  3.31 MiB  2024-03-02T09:03:59Z  gs://nytaxi-dezoomcamp/pq/yellow/2020/01/part-00018-4d90723b-db59-4a7c-a903-c9271b926eb3-c000.snappy.parquet\r\n",
      "  3.31 MiB  2024-03-02T09:03:59Z  gs://nytaxi-dezoomcamp/pq/yellow/2020/01/part-00019-4d90723b-db59-4a7c-a903-c9271b926eb3-c000.snappy.parquet\r\n",
      "  3.31 MiB  2024-03-02T09:03:59Z  gs://nytaxi-dezoomcamp/pq/yellow/2020/01/part-00020-4d90723b-db59-4a7c-a903-c9271b926eb3-c000.snappy.parquet\r\n",
      "  3.31 MiB  2024-03-02T09:04:00Z  gs://nytaxi-dezoomcamp/pq/yellow/2020/01/part-00021-4d90723b-db59-4a7c-a903-c9271b926eb3-c000.snappy.parquet\r\n",
      "  3.31 MiB  2024-03-02T09:04:00Z  gs://nytaxi-dezoomcamp/pq/yellow/2020/01/part-00022-4d90723b-db59-4a7c-a903-c9271b926eb3-c000.snappy.parquet\r\n",
      "  3.31 MiB  2024-03-02T09:04:00Z  gs://nytaxi-dezoomcamp/pq/yellow/2020/01/part-00023-4d90723b-db59-4a7c-a903-c9271b926eb3-c000.snappy.parquet\r\n",
      "   3.3 MiB  2024-03-02T09:04:01Z  gs://nytaxi-dezoomcamp/pq/yellow/2020/01/part-00024-4d90723b-db59-4a7c-a903-c9271b926eb3-c000.snappy.parquet\r\n",
      "  3.31 MiB  2024-03-02T09:04:01Z  gs://nytaxi-dezoomcamp/pq/yellow/2020/01/part-00025-4d90723b-db59-4a7c-a903-c9271b926eb3-c000.snappy.parquet\r\n",
      "  3.31 MiB  2024-03-02T09:04:01Z  gs://nytaxi-dezoomcamp/pq/yellow/2020/01/part-00026-4d90723b-db59-4a7c-a903-c9271b926eb3-c000.snappy.parquet\r\n",
      "  3.31 MiB  2024-03-02T09:04:02Z  gs://nytaxi-dezoomcamp/pq/yellow/2020/01/part-00027-4d90723b-db59-4a7c-a903-c9271b926eb3-c000.snappy.parquet\r\n",
      "  3.31 MiB  2024-03-02T09:04:02Z  gs://nytaxi-dezoomcamp/pq/yellow/2020/01/part-00028-4d90723b-db59-4a7c-a903-c9271b926eb3-c000.snappy.parquet\r\n",
      "  3.31 MiB  2024-03-02T09:04:02Z  gs://nytaxi-dezoomcamp/pq/yellow/2020/01/part-00029-4d90723b-db59-4a7c-a903-c9271b926eb3-c000.snappy.parquet\r\n",
      "  3.31 MiB  2024-03-02T09:04:02Z  gs://nytaxi-dezoomcamp/pq/yellow/2020/01/part-00030-4d90723b-db59-4a7c-a903-c9271b926eb3-c000.snappy.parquet\r\n",
      "  3.31 MiB  2024-03-02T09:04:03Z  gs://nytaxi-dezoomcamp/pq/yellow/2020/01/part-00031-4d90723b-db59-4a7c-a903-c9271b926eb3-c000.snappy.parquet\r\n",
      "  3.31 MiB  2024-03-02T09:04:03Z  gs://nytaxi-dezoomcamp/pq/yellow/2020/01/part-00032-4d90723b-db59-4a7c-a903-c9271b926eb3-c000.snappy.parquet\r\n",
      "  3.31 MiB  2024-03-02T09:04:03Z  gs://nytaxi-dezoomcamp/pq/yellow/2020/01/part-00033-4d90723b-db59-4a7c-a903-c9271b926eb3-c000.snappy.parquet\r\n",
      "  3.31 MiB  2024-03-02T09:04:04Z  gs://nytaxi-dezoomcamp/pq/yellow/2020/01/part-00034-4d90723b-db59-4a7c-a903-c9271b926eb3-c000.snappy.parquet\r\n",
      "  3.31 MiB  2024-03-02T09:04:04Z  gs://nytaxi-dezoomcamp/pq/yellow/2020/01/part-00035-4d90723b-db59-4a7c-a903-c9271b926eb3-c000.snappy.parquet\r\n",
      "  3.31 MiB  2024-03-02T09:04:04Z  gs://nytaxi-dezoomcamp/pq/yellow/2020/01/part-00036-4d90723b-db59-4a7c-a903-c9271b926eb3-c000.snappy.parquet\r\n",
      "  3.31 MiB  2024-03-02T09:04:05Z  gs://nytaxi-dezoomcamp/pq/yellow/2020/01/part-00037-4d90723b-db59-4a7c-a903-c9271b926eb3-c000.snappy.parquet\r\n",
      "   3.3 MiB  2024-03-02T09:04:05Z  gs://nytaxi-dezoomcamp/pq/yellow/2020/01/part-00038-4d90723b-db59-4a7c-a903-c9271b926eb3-c000.snappy.parquet\r\n",
      "  3.31 MiB  2024-03-02T09:04:05Z  gs://nytaxi-dezoomcamp/pq/yellow/2020/01/part-00039-4d90723b-db59-4a7c-a903-c9271b926eb3-c000.snappy.parquet\r\n",
      "  3.31 MiB  2024-03-02T09:04:06Z  gs://nytaxi-dezoomcamp/pq/yellow/2020/01/part-00040-4d90723b-db59-4a7c-a903-c9271b926eb3-c000.snappy.parquet\r\n",
      "   3.3 MiB  2024-03-02T09:04:06Z  gs://nytaxi-dezoomcamp/pq/yellow/2020/01/part-00041-4d90723b-db59-4a7c-a903-c9271b926eb3-c000.snappy.parquet\r\n",
      "   3.3 MiB  2024-03-02T09:04:06Z  gs://nytaxi-dezoomcamp/pq/yellow/2020/01/part-00042-4d90723b-db59-4a7c-a903-c9271b926eb3-c000.snappy.parquet\r\n",
      "  3.31 MiB  2024-03-02T09:04:06Z  gs://nytaxi-dezoomcamp/pq/yellow/2020/01/part-00043-4d90723b-db59-4a7c-a903-c9271b926eb3-c000.snappy.parquet\r\n",
      "  3.31 MiB  2024-03-02T09:04:07Z  gs://nytaxi-dezoomcamp/pq/yellow/2020/01/part-00044-4d90723b-db59-4a7c-a903-c9271b926eb3-c000.snappy.parquet\r\n",
      "  3.31 MiB  2024-03-02T09:04:07Z  gs://nytaxi-dezoomcamp/pq/yellow/2020/01/part-00045-4d90723b-db59-4a7c-a903-c9271b926eb3-c000.snappy.parquet\r\n",
      "  3.31 MiB  2024-03-02T09:04:07Z  gs://nytaxi-dezoomcamp/pq/yellow/2020/01/part-00046-4d90723b-db59-4a7c-a903-c9271b926eb3-c000.snappy.parquet\r\n",
      "   3.3 MiB  2024-03-02T09:04:08Z  gs://nytaxi-dezoomcamp/pq/yellow/2020/01/part-00047-4d90723b-db59-4a7c-a903-c9271b926eb3-c000.snappy.parquet\r\n",
      "  3.31 MiB  2024-03-02T09:04:08Z  gs://nytaxi-dezoomcamp/pq/yellow/2020/01/part-00048-4d90723b-db59-4a7c-a903-c9271b926eb3-c000.snappy.parquet\r\n",
      "  3.31 MiB  2024-03-02T09:04:08Z  gs://nytaxi-dezoomcamp/pq/yellow/2020/01/part-00049-4d90723b-db59-4a7c-a903-c9271b926eb3-c000.snappy.parquet\r\n",
      "TOTAL: 52 objects, 173477349 bytes (165.44 MiB)\r\n"
     ]
    }
   ],
   "source": [
    "!gsutil ls -lh gs://nytaxi-dezoomcamp/pq/yellow/2020/01/"
   ]
  },
  {
   "cell_type": "code",
   "execution_count": null,
   "id": "55eed88b",
   "metadata": {},
   "outputs": [],
   "source": []
  }
 ],
 "metadata": {
  "kernelspec": {
   "display_name": "Python 3 (ipykernel)",
   "language": "python",
   "name": "python3"
  },
  "language_info": {
   "codemirror_mode": {
    "name": "ipython",
    "version": 3
   },
   "file_extension": ".py",
   "mimetype": "text/x-python",
   "name": "python",
   "nbconvert_exporter": "python",
   "pygments_lexer": "ipython3",
   "version": "3.10.12"
  }
 },
 "nbformat": 4,
 "nbformat_minor": 5
}
