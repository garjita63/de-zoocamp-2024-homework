{
 "cells": [
  {
   "cell_type": "markdown",
   "metadata": {},
   "source": [
    "# Instancing Spark"
   ]
  },
  {
   "cell_type": "code",
   "execution_count": 1,
   "metadata": {},
   "outputs": [],
   "source": [
    "# Import the PySpark library and the `SparkSession` class\n",
    "\n",
    "import pyspark\n",
    "from pyspark.sql import SparkSession"
   ]
  },
  {
   "cell_type": "code",
   "execution_count": 2,
   "metadata": {},
   "outputs": [
    {
     "name": "stderr",
     "output_type": "stream",
     "text": [
      "24/03/02 13:32:55 WARN Utils: Your hostname, Desktop-Gar resolves to a loopback address: 127.0.1.1; using 172.25.243.204 instead (on interface eth0)\n",
      "24/03/02 13:32:55 WARN Utils: Set SPARK_LOCAL_IP if you need to bind to another address\n",
      "Setting default log level to \"WARN\".\n",
      "To adjust logging level use sc.setLogLevel(newLevel). For SparkR, use setLogLevel(newLevel).\n",
      "24/03/02 13:32:58 WARN NativeCodeLoader: Unable to load native-hadoop library for your platform... using builtin-java classes where applicable\n"
     ]
    }
   ],
   "source": [
    "# Instance a session\n",
    "\n",
    "spark = SparkSession.builder \\\n",
    "    .master(\"local[*]\") \\\n",
    "    .appName('test') \\\n",
    "    .getOrCreate()"
   ]
  },
  {
   "cell_type": "markdown",
   "metadata": {},
   "source": [
    "# Read data"
   ]
  },
  {
   "cell_type": "code",
   "execution_count": null,
   "metadata": {},
   "outputs": [],
   "source": [
    "# Download some large data\n",
    "\n",
    "# !wget https://github.com/DataTalksClub/nyc-tlc-data/releases/download/green/green_tripdata_2020-01.csv.gz"
   ]
  },
  {
   "cell_type": "code",
   "execution_count": 3,
   "metadata": {},
   "outputs": [
    {
     "name": "stderr",
     "output_type": "stream",
     "text": [
      "                                                                                \r"
     ]
    }
   ],
   "source": [
    "# Read the data. Note that the datatypes are not inferred; everything is a string.\n",
    "\n",
    "df = spark.read \\\n",
    "    .option(\"header\", \"true\") \\\n",
    "    .csv('data/csv/green_tripdata_2020-01.csv.gz')"
   ]
  },
  {
   "cell_type": "code",
   "execution_count": 4,
   "metadata": {},
   "outputs": [
    {
     "name": "stdout",
     "output_type": "stream",
     "text": [
      "+--------+--------------------+---------------------+------------------+----------+------------+------------+---------------+-------------+-----------+-----+-------+----------+------------+---------+---------------------+------------+------------+---------+--------------------+\n",
      "|VendorID|lpep_pickup_datetime|lpep_dropoff_datetime|store_and_fwd_flag|RatecodeID|PULocationID|DOLocationID|passenger_count|trip_distance|fare_amount|extra|mta_tax|tip_amount|tolls_amount|ehail_fee|improvement_surcharge|total_amount|payment_type|trip_type|congestion_surcharge|\n",
      "+--------+--------------------+---------------------+------------------+----------+------------+------------+---------------+-------------+-----------+-----+-------+----------+------------+---------+---------------------+------------+------------+---------+--------------------+\n",
      "|       2| 2019-12-18 15:52:30|  2019-12-18 15:54:39|                 N|         1|         264|         264|              5|          .00|        3.5|  0.5|    0.5|      0.01|           0|     null|                  0.3|        4.81|           1|        1|                   0|\n",
      "|       2| 2020-01-01 00:45:58|  2020-01-01 00:56:39|                 N|         5|          66|          65|              2|         1.28|         20|    0|      0|      4.06|           0|     null|                  0.3|       24.36|           1|        2|                   0|\n",
      "|       2| 2020-01-01 00:41:38|  2020-01-01 00:52:49|                 N|         1|         181|         228|              1|         2.47|       10.5|  0.5|    0.5|      3.54|           0|     null|                  0.3|       15.34|           1|        1|                   0|\n",
      "|       1| 2020-01-01 00:52:46|  2020-01-01 01:14:21|                 N|         1|         129|         263|              2|         6.30|         21| 3.25|    0.5|         0|           0|     null|                  0.3|       25.05|           2|        1|                2.75|\n",
      "|       1| 2020-01-01 00:19:57|  2020-01-01 00:30:56|                 N|         1|         210|         150|              1|         2.30|         10|  0.5|    0.5|         0|           0|     null|                  0.3|        11.3|           1|        1|                   0|\n",
      "|       1| 2020-01-01 00:52:33|  2020-01-01 01:09:54|                 N|         1|          35|          39|              1|         3.00|       13.5|  0.5|    0.5|         0|           0|     null|                  0.3|        14.8|           1|        1|                   0|\n",
      "|       2| 2020-01-01 00:10:18|  2020-01-01 00:22:16|                 N|         1|          25|          61|              1|         2.77|         11|  0.5|    0.5|         0|           0|     null|                  0.3|        12.3|           2|        1|                   0|\n",
      "|       2| 2020-01-01 01:03:14|  2020-01-01 01:29:45|                 N|         1|         225|          89|              1|         4.98|       20.5|  0.5|    0.5|         0|           0|     null|                  0.3|        21.8|           2|        1|                   0|\n",
      "|       2| 2020-01-01 00:04:11|  2020-01-01 00:09:48|                 N|         1|         129|         129|              1|          .71|        5.5|  0.5|    0.5|         0|           0|     null|                  0.3|         6.8|           2|        1|                   0|\n",
      "|       2| 2020-01-01 00:25:52|  2020-01-01 00:32:16|                 N|         1|         129|          83|              1|          .80|        5.5|  0.5|    0.5|         0|           0|     null|                  0.3|         6.8|           2|        1|                   0|\n",
      "|       2| 2020-01-01 00:47:32|  2020-01-01 00:59:25|                 N|         1|          82|         173|              1|         1.52|        9.5|  0.5|    0.5|         0|           0|     null|                  0.3|        10.8|           2|        1|                   0|\n",
      "|       1| 2020-01-01 00:26:40|  2020-01-01 00:40:42|                 N|         1|          74|          69|              1|         3.80|         14|  0.5|    0.5|         0|           0|     null|                  0.3|        15.3|           2|        1|                   0|\n",
      "|       2| 2020-01-01 00:38:47|  2020-01-01 00:46:02|                 N|         1|          74|          41|              1|         1.12|        6.5|  0.5|    0.5|         0|           0|     null|                  0.3|         7.8|           1|        1|                   0|\n",
      "|       2| 2020-01-01 00:52:18|  2020-01-01 01:09:58|                 N|         1|          41|         127|              1|         5.67|         19|  0.5|    0.5|         0|           0|     null|                  0.3|        20.3|           2|        1|                   0|\n",
      "|       2| 2020-01-01 00:16:01|  2020-01-01 00:26:40|                 N|         1|           7|         260|              1|         1.86|        9.5|  0.5|    0.5|         0|           0|     null|                  0.3|        10.8|           2|        1|                   0|\n",
      "|       2| 2020-01-01 00:21:15|  2020-01-01 00:28:03|                 N|         1|           7|           7|              1|         1.42|          7|  0.5|    0.5|         0|           0|     null|                  0.3|         8.3|           2|        1|                   0|\n",
      "|       2| 2020-01-01 00:35:42|  2020-01-01 01:02:00|                 N|         1|           7|         133|              1|        15.48|         43|  0.5|    0.5|      8.86|           0|     null|                  0.3|       53.16|           1|        1|                   0|\n",
      "|       2| 2020-01-01 00:39:51|  2020-01-01 00:42:54|                 N|         1|         134|          28|              1|         1.15|        5.5|  0.5|    0.5|         1|           0|     null|                  0.3|         7.8|           1|        1|                   0|\n",
      "|       1| 2020-01-01 00:00:21|  2020-01-01 00:10:19|                 N|         1|          89|          39|              1|         2.30|         10|  0.5|    0.5|         0|           0|     null|                  0.3|        11.3|           2|        1|                   0|\n",
      "|       1| 2020-01-01 00:13:59|  2020-01-01 00:21:31|                 N|         1|          66|          65|              3|         1.00|        6.5|  0.5|    0.5|         0|           0|     null|                  0.3|         7.8|           2|        1|                   0|\n",
      "+--------+--------------------+---------------------+------------------+----------+------------+------------+---------------+-------------+-----------+-----+-------+----------+------------+---------+---------------------+------------+------------+---------+--------------------+\n",
      "only showing top 20 rows\n",
      "\n"
     ]
    }
   ],
   "source": [
    "df.show()"
   ]
  },
  {
   "cell_type": "code",
   "execution_count": 5,
   "metadata": {
    "scrolled": true
   },
   "outputs": [
    {
     "data": {
      "text/plain": [
       "[Row(VendorID='2', lpep_pickup_datetime='2019-12-18 15:52:30', lpep_dropoff_datetime='2019-12-18 15:54:39', store_and_fwd_flag='N', RatecodeID='1', PULocationID='264', DOLocationID='264', passenger_count='5', trip_distance='.00', fare_amount='3.5', extra='0.5', mta_tax='0.5', tip_amount='0.01', tolls_amount='0', ehail_fee=None, improvement_surcharge='0.3', total_amount='4.81', payment_type='1', trip_type='1', congestion_surcharge='0'),\n",
       " Row(VendorID='2', lpep_pickup_datetime='2020-01-01 00:45:58', lpep_dropoff_datetime='2020-01-01 00:56:39', store_and_fwd_flag='N', RatecodeID='5', PULocationID='66', DOLocationID='65', passenger_count='2', trip_distance='1.28', fare_amount='20', extra='0', mta_tax='0', tip_amount='4.06', tolls_amount='0', ehail_fee=None, improvement_surcharge='0.3', total_amount='24.36', payment_type='1', trip_type='2', congestion_surcharge='0'),\n",
       " Row(VendorID='2', lpep_pickup_datetime='2020-01-01 00:41:38', lpep_dropoff_datetime='2020-01-01 00:52:49', store_and_fwd_flag='N', RatecodeID='1', PULocationID='181', DOLocationID='228', passenger_count='1', trip_distance='2.47', fare_amount='10.5', extra='0.5', mta_tax='0.5', tip_amount='3.54', tolls_amount='0', ehail_fee=None, improvement_surcharge='0.3', total_amount='15.34', payment_type='1', trip_type='1', congestion_surcharge='0'),\n",
       " Row(VendorID='1', lpep_pickup_datetime='2020-01-01 00:52:46', lpep_dropoff_datetime='2020-01-01 01:14:21', store_and_fwd_flag='N', RatecodeID='1', PULocationID='129', DOLocationID='263', passenger_count='2', trip_distance='6.30', fare_amount='21', extra='3.25', mta_tax='0.5', tip_amount='0', tolls_amount='0', ehail_fee=None, improvement_surcharge='0.3', total_amount='25.05', payment_type='2', trip_type='1', congestion_surcharge='2.75'),\n",
       " Row(VendorID='1', lpep_pickup_datetime='2020-01-01 00:19:57', lpep_dropoff_datetime='2020-01-01 00:30:56', store_and_fwd_flag='N', RatecodeID='1', PULocationID='210', DOLocationID='150', passenger_count='1', trip_distance='2.30', fare_amount='10', extra='0.5', mta_tax='0.5', tip_amount='0', tolls_amount='0', ehail_fee=None, improvement_surcharge='0.3', total_amount='11.3', payment_type='1', trip_type='1', congestion_surcharge='0')]"
      ]
     },
     "execution_count": 5,
     "metadata": {},
     "output_type": "execute_result"
    }
   ],
   "source": [
    "df.head(5)"
   ]
  },
  {
   "cell_type": "code",
   "execution_count": 6,
   "metadata": {},
   "outputs": [
    {
     "name": "stdout",
     "output_type": "stream",
     "text": [
      "root\n",
      " |-- VendorID: string (nullable = true)\n",
      " |-- lpep_pickup_datetime: string (nullable = true)\n",
      " |-- lpep_dropoff_datetime: string (nullable = true)\n",
      " |-- store_and_fwd_flag: string (nullable = true)\n",
      " |-- RatecodeID: string (nullable = true)\n",
      " |-- PULocationID: string (nullable = true)\n",
      " |-- DOLocationID: string (nullable = true)\n",
      " |-- passenger_count: string (nullable = true)\n",
      " |-- trip_distance: string (nullable = true)\n",
      " |-- fare_amount: string (nullable = true)\n",
      " |-- extra: string (nullable = true)\n",
      " |-- mta_tax: string (nullable = true)\n",
      " |-- tip_amount: string (nullable = true)\n",
      " |-- tolls_amount: string (nullable = true)\n",
      " |-- ehail_fee: string (nullable = true)\n",
      " |-- improvement_surcharge: string (nullable = true)\n",
      " |-- total_amount: string (nullable = true)\n",
      " |-- payment_type: string (nullable = true)\n",
      " |-- trip_type: string (nullable = true)\n",
      " |-- congestion_surcharge: string (nullable = true)\n",
      "\n"
     ]
    }
   ],
   "source": [
    "# Read the schema\n",
    "\n",
    "df.printSchema()"
   ]
  },
  {
   "cell_type": "markdown",
   "metadata": {},
   "source": [
    "# Creating a schema with Pandas"
   ]
  },
  {
   "cell_type": "code",
   "execution_count": 7,
   "metadata": {},
   "outputs": [],
   "source": [
    "from pyspark.sql import types"
   ]
  },
  {
   "cell_type": "code",
   "execution_count": 8,
   "metadata": {},
   "outputs": [],
   "source": [
    "green_schema = types.StructType([\n",
    "    types.StructField(\"VendorID\", types.IntegerType(), True),\n",
    "    types.StructField(\"lpep_pickup_datetime\", types.TimestampType(), True),\n",
    "    types.StructField(\"lpep_dropoff_datetime\", types.TimestampType(), True),\n",
    "    types.StructField(\"store_and_fwd_flag\", types.StringType(), True),\n",
    "    types.StructField(\"RatecodeID\", types.IntegerType(), True),\n",
    "    types.StructField(\"PULocationID\", types.IntegerType(), True),\n",
    "    types.StructField(\"DOLocationID\", types.IntegerType(), True),\n",
    "    types.StructField(\"passenger_count\", types.IntegerType(), True),\n",
    "    types.StructField(\"trip_distance\", types.DoubleType(), True),\n",
    "    types.StructField(\"fare_amount\", types.DoubleType(), True),\n",
    "    types.StructField(\"extra\", types.DoubleType(), True),\n",
    "    types.StructField(\"mta_tax\", types.DoubleType(), True),\n",
    "    types.StructField(\"tip_amount\", types.DoubleType(), True),\n",
    "    types.StructField(\"tolls_amount\", types.DoubleType(), True),\n",
    "    types.StructField(\"ehail_fee\", types.DoubleType(), True),\n",
    "    types.StructField(\"improvement_surcharge\", types.DoubleType(), True),\n",
    "    types.StructField(\"total_amount\", types.DoubleType(), True),\n",
    "    types.StructField(\"payment_type\", types.IntegerType(), True),\n",
    "    types.StructField(\"trip_type\", types.IntegerType(), True),\n",
    "    types.StructField(\"congestion_surcharge\", types.DoubleType(), True)\n",
    "])"
   ]
  },
  {
   "cell_type": "code",
   "execution_count": 9,
   "metadata": {},
   "outputs": [],
   "source": [
    "# With this new schema, we can now create a dataframe with inferred datatypes.\n",
    "\n",
    "df = spark.read \\\n",
    "    .option(\"header\", \"true\") \\\n",
    "    .schema(green_schema) \\\n",
    "    .csv('data/csv/green_tripdata_2020-01.csv.gz')"
   ]
  },
  {
   "cell_type": "code",
   "execution_count": 10,
   "metadata": {},
   "outputs": [
    {
     "name": "stdout",
     "output_type": "stream",
     "text": [
      "+--------+--------------------+---------------------+------------------+----------+------------+------------+---------------+-------------+-----------+-----+-------+----------+------------+---------+---------------------+------------+------------+---------+--------------------+\n",
      "|VendorID|lpep_pickup_datetime|lpep_dropoff_datetime|store_and_fwd_flag|RatecodeID|PULocationID|DOLocationID|passenger_count|trip_distance|fare_amount|extra|mta_tax|tip_amount|tolls_amount|ehail_fee|improvement_surcharge|total_amount|payment_type|trip_type|congestion_surcharge|\n",
      "+--------+--------------------+---------------------+------------------+----------+------------+------------+---------------+-------------+-----------+-----+-------+----------+------------+---------+---------------------+------------+------------+---------+--------------------+\n",
      "|       2| 2019-12-18 15:52:30|  2019-12-18 15:54:39|                 N|         1|         264|         264|              5|          0.0|        3.5|  0.5|    0.5|      0.01|         0.0|     null|                  0.3|        4.81|           1|        1|                 0.0|\n",
      "|       2| 2020-01-01 00:45:58|  2020-01-01 00:56:39|                 N|         5|          66|          65|              2|         1.28|       20.0|  0.0|    0.0|      4.06|         0.0|     null|                  0.3|       24.36|           1|        2|                 0.0|\n",
      "|       2| 2020-01-01 00:41:38|  2020-01-01 00:52:49|                 N|         1|         181|         228|              1|         2.47|       10.5|  0.5|    0.5|      3.54|         0.0|     null|                  0.3|       15.34|           1|        1|                 0.0|\n",
      "|       1| 2020-01-01 00:52:46|  2020-01-01 01:14:21|                 N|         1|         129|         263|              2|          6.3|       21.0| 3.25|    0.5|       0.0|         0.0|     null|                  0.3|       25.05|           2|        1|                2.75|\n",
      "|       1| 2020-01-01 00:19:57|  2020-01-01 00:30:56|                 N|         1|         210|         150|              1|          2.3|       10.0|  0.5|    0.5|       0.0|         0.0|     null|                  0.3|        11.3|           1|        1|                 0.0|\n",
      "|       1| 2020-01-01 00:52:33|  2020-01-01 01:09:54|                 N|         1|          35|          39|              1|          3.0|       13.5|  0.5|    0.5|       0.0|         0.0|     null|                  0.3|        14.8|           1|        1|                 0.0|\n",
      "|       2| 2020-01-01 00:10:18|  2020-01-01 00:22:16|                 N|         1|          25|          61|              1|         2.77|       11.0|  0.5|    0.5|       0.0|         0.0|     null|                  0.3|        12.3|           2|        1|                 0.0|\n",
      "|       2| 2020-01-01 01:03:14|  2020-01-01 01:29:45|                 N|         1|         225|          89|              1|         4.98|       20.5|  0.5|    0.5|       0.0|         0.0|     null|                  0.3|        21.8|           2|        1|                 0.0|\n",
      "|       2| 2020-01-01 00:04:11|  2020-01-01 00:09:48|                 N|         1|         129|         129|              1|         0.71|        5.5|  0.5|    0.5|       0.0|         0.0|     null|                  0.3|         6.8|           2|        1|                 0.0|\n",
      "|       2| 2020-01-01 00:25:52|  2020-01-01 00:32:16|                 N|         1|         129|          83|              1|          0.8|        5.5|  0.5|    0.5|       0.0|         0.0|     null|                  0.3|         6.8|           2|        1|                 0.0|\n",
      "|       2| 2020-01-01 00:47:32|  2020-01-01 00:59:25|                 N|         1|          82|         173|              1|         1.52|        9.5|  0.5|    0.5|       0.0|         0.0|     null|                  0.3|        10.8|           2|        1|                 0.0|\n",
      "|       1| 2020-01-01 00:26:40|  2020-01-01 00:40:42|                 N|         1|          74|          69|              1|          3.8|       14.0|  0.5|    0.5|       0.0|         0.0|     null|                  0.3|        15.3|           2|        1|                 0.0|\n",
      "|       2| 2020-01-01 00:38:47|  2020-01-01 00:46:02|                 N|         1|          74|          41|              1|         1.12|        6.5|  0.5|    0.5|       0.0|         0.0|     null|                  0.3|         7.8|           1|        1|                 0.0|\n",
      "|       2| 2020-01-01 00:52:18|  2020-01-01 01:09:58|                 N|         1|          41|         127|              1|         5.67|       19.0|  0.5|    0.5|       0.0|         0.0|     null|                  0.3|        20.3|           2|        1|                 0.0|\n",
      "|       2| 2020-01-01 00:16:01|  2020-01-01 00:26:40|                 N|         1|           7|         260|              1|         1.86|        9.5|  0.5|    0.5|       0.0|         0.0|     null|                  0.3|        10.8|           2|        1|                 0.0|\n",
      "|       2| 2020-01-01 00:21:15|  2020-01-01 00:28:03|                 N|         1|           7|           7|              1|         1.42|        7.0|  0.5|    0.5|       0.0|         0.0|     null|                  0.3|         8.3|           2|        1|                 0.0|\n",
      "|       2| 2020-01-01 00:35:42|  2020-01-01 01:02:00|                 N|         1|           7|         133|              1|        15.48|       43.0|  0.5|    0.5|      8.86|         0.0|     null|                  0.3|       53.16|           1|        1|                 0.0|\n",
      "|       2| 2020-01-01 00:39:51|  2020-01-01 00:42:54|                 N|         1|         134|          28|              1|         1.15|        5.5|  0.5|    0.5|       1.0|         0.0|     null|                  0.3|         7.8|           1|        1|                 0.0|\n",
      "|       1| 2020-01-01 00:00:21|  2020-01-01 00:10:19|                 N|         1|          89|          39|              1|          2.3|       10.0|  0.5|    0.5|       0.0|         0.0|     null|                  0.3|        11.3|           2|        1|                 0.0|\n",
      "|       1| 2020-01-01 00:13:59|  2020-01-01 00:21:31|                 N|         1|          66|          65|              3|          1.0|        6.5|  0.5|    0.5|       0.0|         0.0|     null|                  0.3|         7.8|           2|        1|                 0.0|\n",
      "+--------+--------------------+---------------------+------------------+----------+------------+------------+---------------+-------------+-----------+-----+-------+----------+------------+---------+---------------------+------------+------------+---------+--------------------+\n",
      "only showing top 20 rows\n",
      "\n"
     ]
    }
   ],
   "source": [
    "df.show()"
   ]
  },
  {
   "cell_type": "code",
   "execution_count": 11,
   "metadata": {},
   "outputs": [
    {
     "name": "stdout",
     "output_type": "stream",
     "text": [
      "root\n",
      " |-- VendorID: integer (nullable = true)\n",
      " |-- lpep_pickup_datetime: timestamp (nullable = true)\n",
      " |-- lpep_dropoff_datetime: timestamp (nullable = true)\n",
      " |-- store_and_fwd_flag: string (nullable = true)\n",
      " |-- RatecodeID: integer (nullable = true)\n",
      " |-- PULocationID: integer (nullable = true)\n",
      " |-- DOLocationID: integer (nullable = true)\n",
      " |-- passenger_count: integer (nullable = true)\n",
      " |-- trip_distance: double (nullable = true)\n",
      " |-- fare_amount: double (nullable = true)\n",
      " |-- extra: double (nullable = true)\n",
      " |-- mta_tax: double (nullable = true)\n",
      " |-- tip_amount: double (nullable = true)\n",
      " |-- tolls_amount: double (nullable = true)\n",
      " |-- ehail_fee: double (nullable = true)\n",
      " |-- improvement_surcharge: double (nullable = true)\n",
      " |-- total_amount: double (nullable = true)\n",
      " |-- payment_type: integer (nullable = true)\n",
      " |-- trip_type: integer (nullable = true)\n",
      " |-- congestion_surcharge: double (nullable = true)\n",
      "\n"
     ]
    }
   ],
   "source": [
    "df.printSchema()"
   ]
  },
  {
   "cell_type": "markdown",
   "metadata": {},
   "source": [
    "# Partitions"
   ]
  },
  {
   "cell_type": "code",
   "execution_count": 12,
   "metadata": {},
   "outputs": [],
   "source": [
    "# We will now create 24 partitions in our dataframe\n",
    "\n",
    "df = df.repartition(24)"
   ]
  },
  {
   "cell_type": "code",
   "execution_count": 13,
   "metadata": {},
   "outputs": [
    {
     "name": "stderr",
     "output_type": "stream",
     "text": [
      "                                                                                \r"
     ]
    }
   ],
   "source": [
    "# Let's parquetize the dataframe. This will create 24 smaller parquet files.\n",
    "# This operation may take a while.\n",
    "\n",
    "df.write.csv('data/raw/green/2020/01/', mode='overwrite')"
   ]
  },
  {
   "cell_type": "markdown",
   "metadata": {},
   "source": [
    "Check the created files"
   ]
  },
  {
   "cell_type": "code",
   "execution_count": 14,
   "metadata": {},
   "outputs": [
    {
     "name": "stdout",
     "output_type": "stream",
     "text": [
      "total 51M\r\n",
      "-rwxrwxrwx 1 root root    0 Mar  2 13:35 _SUCCESS\r\n",
      "-rwxrwxrwx 1 root root 2.1M Mar  2 13:34 part-00000-4de89aaa-a710-43f9-b28d-fb5a2dc538fe-c000.csv\r\n",
      "-rwxrwxrwx 1 root root 2.1M Mar  2 13:34 part-00001-4de89aaa-a710-43f9-b28d-fb5a2dc538fe-c000.csv\r\n",
      "-rwxrwxrwx 1 root root 2.1M Mar  2 13:34 part-00002-4de89aaa-a710-43f9-b28d-fb5a2dc538fe-c000.csv\r\n",
      "-rwxrwxrwx 1 root root 2.1M Mar  2 13:34 part-00003-4de89aaa-a710-43f9-b28d-fb5a2dc538fe-c000.csv\r\n",
      "-rwxrwxrwx 1 root root 2.1M Mar  2 13:34 part-00004-4de89aaa-a710-43f9-b28d-fb5a2dc538fe-c000.csv\r\n",
      "-rwxrwxrwx 1 root root 2.1M Mar  2 13:34 part-00005-4de89aaa-a710-43f9-b28d-fb5a2dc538fe-c000.csv\r\n",
      "-rwxrwxrwx 1 root root 2.1M Mar  2 13:34 part-00006-4de89aaa-a710-43f9-b28d-fb5a2dc538fe-c000.csv\r\n",
      "-rwxrwxrwx 1 root root 2.1M Mar  2 13:34 part-00007-4de89aaa-a710-43f9-b28d-fb5a2dc538fe-c000.csv\r\n",
      "-rwxrwxrwx 1 root root 2.1M Mar  2 13:34 part-00008-4de89aaa-a710-43f9-b28d-fb5a2dc538fe-c000.csv\r\n",
      "-rwxrwxrwx 1 root root 2.1M Mar  2 13:34 part-00009-4de89aaa-a710-43f9-b28d-fb5a2dc538fe-c000.csv\r\n",
      "-rwxrwxrwx 1 root root 2.1M Mar  2 13:34 part-00010-4de89aaa-a710-43f9-b28d-fb5a2dc538fe-c000.csv\r\n",
      "-rwxrwxrwx 1 root root 2.1M Mar  2 13:34 part-00011-4de89aaa-a710-43f9-b28d-fb5a2dc538fe-c000.csv\r\n",
      "-rwxrwxrwx 1 root root 2.1M Mar  2 13:34 part-00012-4de89aaa-a710-43f9-b28d-fb5a2dc538fe-c000.csv\r\n",
      "-rwxrwxrwx 1 root root 2.1M Mar  2 13:34 part-00013-4de89aaa-a710-43f9-b28d-fb5a2dc538fe-c000.csv\r\n",
      "-rwxrwxrwx 1 root root 2.1M Mar  2 13:34 part-00014-4de89aaa-a710-43f9-b28d-fb5a2dc538fe-c000.csv\r\n",
      "-rwxrwxrwx 1 root root 2.1M Mar  2 13:34 part-00015-4de89aaa-a710-43f9-b28d-fb5a2dc538fe-c000.csv\r\n",
      "-rwxrwxrwx 1 root root 2.1M Mar  2 13:34 part-00016-4de89aaa-a710-43f9-b28d-fb5a2dc538fe-c000.csv\r\n",
      "-rwxrwxrwx 1 root root 2.1M Mar  2 13:34 part-00017-4de89aaa-a710-43f9-b28d-fb5a2dc538fe-c000.csv\r\n",
      "-rwxrwxrwx 1 root root 2.1M Mar  2 13:34 part-00018-4de89aaa-a710-43f9-b28d-fb5a2dc538fe-c000.csv\r\n",
      "-rwxrwxrwx 1 root root 2.1M Mar  2 13:34 part-00019-4de89aaa-a710-43f9-b28d-fb5a2dc538fe-c000.csv\r\n",
      "-rwxrwxrwx 1 root root 2.1M Mar  2 13:34 part-00020-4de89aaa-a710-43f9-b28d-fb5a2dc538fe-c000.csv\r\n",
      "-rwxrwxrwx 1 root root 2.1M Mar  2 13:34 part-00021-4de89aaa-a710-43f9-b28d-fb5a2dc538fe-c000.csv\r\n",
      "-rwxrwxrwx 1 root root 2.1M Mar  2 13:34 part-00022-4de89aaa-a710-43f9-b28d-fb5a2dc538fe-c000.csv\r\n",
      "-rwxrwxrwx 1 root root 2.1M Mar  2 13:34 part-00023-4de89aaa-a710-43f9-b28d-fb5a2dc538fe-c000.csv\r\n"
     ]
    }
   ],
   "source": [
    "!ls -lh data/raw/green/2020/01/"
   ]
  },
  {
   "cell_type": "markdown",
   "metadata": {},
   "source": [
    "# Spark Dataframes"
   ]
  },
  {
   "cell_type": "code",
   "execution_count": 15,
   "metadata": {},
   "outputs": [
    {
     "data": {
      "text/plain": [
       "DataFrame[_c0: string, _c1: string, _c2: string, _c3: string, _c4: string, _c5: string, _c6: string, _c7: string, _c8: string, _c9: string, _c10: string, _c11: string, _c12: string, _c13: string, _c14: string, _c15: string, _c16: string, _c17: string, _c18: string, _c19: string]"
      ]
     },
     "execution_count": 15,
     "metadata": {},
     "output_type": "execute_result"
    }
   ],
   "source": [
    "# # With this new schema, we can now create a dataframe with inferred datatypes.\n",
    "\n",
    "spark.read.csv('data/raw/green/2020/01/')"
   ]
  },
  {
   "cell_type": "code",
   "execution_count": 16,
   "metadata": {},
   "outputs": [
    {
     "name": "stdout",
     "output_type": "stream",
     "text": [
      "root\n",
      " |-- VendorID: integer (nullable = true)\n",
      " |-- lpep_pickup_datetime: timestamp (nullable = true)\n",
      " |-- lpep_dropoff_datetime: timestamp (nullable = true)\n",
      " |-- store_and_fwd_flag: string (nullable = true)\n",
      " |-- RatecodeID: integer (nullable = true)\n",
      " |-- PULocationID: integer (nullable = true)\n",
      " |-- DOLocationID: integer (nullable = true)\n",
      " |-- passenger_count: integer (nullable = true)\n",
      " |-- trip_distance: double (nullable = true)\n",
      " |-- fare_amount: double (nullable = true)\n",
      " |-- extra: double (nullable = true)\n",
      " |-- mta_tax: double (nullable = true)\n",
      " |-- tip_amount: double (nullable = true)\n",
      " |-- tolls_amount: double (nullable = true)\n",
      " |-- ehail_fee: double (nullable = true)\n",
      " |-- improvement_surcharge: double (nullable = true)\n",
      " |-- total_amount: double (nullable = true)\n",
      " |-- payment_type: integer (nullable = true)\n",
      " |-- trip_type: integer (nullable = true)\n",
      " |-- congestion_surcharge: double (nullable = true)\n",
      "\n"
     ]
    }
   ],
   "source": [
    "# # With this new schema, we can now create a dataframe with inferred datatypes.\n",
    "\n",
    "df.printSchema()"
   ]
  },
  {
   "cell_type": "markdown",
   "metadata": {},
   "source": [
    "# Functions and UDFs"
   ]
  },
  {
   "cell_type": "code",
   "execution_count": 17,
   "metadata": {},
   "outputs": [],
   "source": [
    "from pyspark.sql import functions as F"
   ]
  },
  {
   "cell_type": "code",
   "execution_count": 18,
   "metadata": {},
   "outputs": [
    {
     "name": "stderr",
     "output_type": "stream",
     "text": [
      "\r",
      "[Stage 8:>                                                          (0 + 1) / 1]\r"
     ]
    },
    {
     "name": "stdout",
     "output_type": "stream",
     "text": [
      "+--------+--------------------+---------------------+------------------+----------+------------+------------+---------------+-------------+-----------+-----+-------+----------+------------+---------+---------------------+------------+------------+---------+--------------------+\n",
      "|VendorID|lpep_pickup_datetime|lpep_dropoff_datetime|store_and_fwd_flag|RatecodeID|PULocationID|DOLocationID|passenger_count|trip_distance|fare_amount|extra|mta_tax|tip_amount|tolls_amount|ehail_fee|improvement_surcharge|total_amount|payment_type|trip_type|congestion_surcharge|\n",
      "+--------+--------------------+---------------------+------------------+----------+------------+------------+---------------+-------------+-----------+-----+-------+----------+------------+---------+---------------------+------------+------------+---------+--------------------+\n",
      "|       2| 2020-01-27 21:32:52|  2020-01-27 21:43:54|                 N|         1|          74|         213|              1|         5.93|       18.0|  0.5|    0.5|       0.0|         0.0|     null|                  0.3|        19.3|           2|        1|                 0.0|\n",
      "|       2| 2020-01-31 17:43:41|  2020-01-31 18:01:01|                 N|         1|          74|         262|              1|         2.44|       13.0|  1.0|    0.5|       0.0|         0.0|     null|                  0.3|       17.55|           2|        1|                2.75|\n",
      "|       2| 2020-01-19 12:41:41|  2020-01-19 12:56:31|                 N|         1|          65|         225|              1|         2.89|       13.0|  0.0|    0.5|      2.76|         0.0|     null|                  0.3|       16.56|           1|        1|                 0.0|\n",
      "|       1| 2020-01-14 10:03:59|  2020-01-14 10:11:10|                 N|         1|          75|          74|              2|          1.3|        7.0|  0.0|    0.5|       0.0|         0.0|     null|                  0.3|         7.8|           2|        1|                 0.0|\n",
      "|       2| 2020-01-07 18:30:29|  2020-01-07 18:44:46|                 N|         1|         244|         200|              1|         5.62|       18.0|  1.0|    0.5|       1.4|         2.8|     null|                  0.3|        24.0|           1|        1|                 0.0|\n",
      "|       2| 2020-01-09 13:52:29|  2020-01-09 13:57:22|                 N|         1|         181|         181|              2|         0.53|        5.0|  0.0|    0.5|       0.0|         0.0|     null|                  0.3|         5.8|           2|        1|                 0.0|\n",
      "|       2| 2020-01-08 12:21:45|  2020-01-08 12:39:10|                 N|         1|         257|         165|              1|         2.94|       14.0|  0.0|    0.5|      2.96|         0.0|     null|                  0.3|       17.76|           1|        1|                 0.0|\n",
      "|       2| 2020-01-11 17:42:18|  2020-01-11 17:56:11|                 N|         1|          97|         228|              1|         2.57|       12.0|  0.0|    0.5|       2.3|         0.0|     null|                  0.3|        15.1|           1|        1|                 0.0|\n",
      "|       2| 2020-01-18 11:05:49|  2020-01-18 11:25:12|                 N|         1|         129|          37|              1|         5.58|       19.5|  0.0|    0.5|       0.0|         0.0|     null|                  0.3|        20.3|           2|        1|                 0.0|\n",
      "|       1| 2020-01-14 09:29:33|  2020-01-14 09:52:26|                 N|         1|         145|         107|              1|          3.2|       16.0| 2.75|    0.5|       5.1|        6.12|     null|                  0.3|       30.77|           1|        1|                2.75|\n",
      "|       2| 2020-01-20 17:01:56|  2020-01-20 17:07:42|                 N|         1|          75|         262|              1|         1.02|        6.0|  0.0|    0.5|      1.91|         0.0|     null|                  0.3|       11.46|           1|        1|                2.75|\n",
      "|       2| 2020-01-13 17:24:06|  2020-01-13 17:27:25|                 N|         1|          75|          43|              1|         0.59|        4.5|  1.0|    0.5|      1.26|         0.0|     null|                  0.3|        7.56|           1|        1|                 0.0|\n",
      "|    null| 2020-01-09 12:45:00|  2020-01-09 13:08:00|              null|      null|         175|          95|           null|         5.29|      18.57|  0.0|    0.0|       0.0|         0.0|     null|                  0.3|       18.87|        null|     null|                null|\n",
      "|       2| 2020-01-15 22:14:57|  2020-01-15 22:19:56|                 N|         1|          74|          75|              1|          1.3|        6.0|  0.5|    0.5|       0.0|         0.0|     null|                  0.3|         7.3|           1|        1|                 0.0|\n",
      "|       2| 2020-01-17 16:12:54|  2020-01-17 16:22:14|                 N|         1|          95|          95|              1|         1.04|        7.5|  1.0|    0.5|       0.0|         0.0|     null|                  0.3|         9.3|           2|        1|                 0.0|\n",
      "|       2| 2020-01-20 20:22:34|  2020-01-20 20:24:54|                 N|         1|          75|          75|              1|         0.52|        4.0|  0.5|    0.5|       0.0|         0.0|     null|                  0.3|         5.3|           1|        1|                 0.0|\n",
      "|       2| 2020-01-11 05:15:27|  2020-01-11 05:23:54|                 N|         1|          42|         263|              1|         3.67|       12.0|  0.5|    0.5|       0.0|         0.0|     null|                  0.3|        13.3|           2|        1|                 0.0|\n",
      "|       2| 2020-01-31 01:30:43|  2020-01-31 01:35:34|                 N|         1|          40|          97|              1|         1.31|        6.0|  0.5|    0.5|       0.0|         0.0|     null|                  0.3|         7.3|           2|        1|                 0.0|\n",
      "|       2| 2020-01-31 17:18:48|  2020-01-31 17:21:38|                 N|         1|         226|           7|              1|         0.67|        4.5|  1.0|    0.5|       0.0|         0.0|     null|                  0.3|         6.3|           2|        1|                 0.0|\n",
      "|       1| 2020-01-11 01:31:20|  2020-01-11 01:36:32|                 N|         1|          25|         181|              1|          0.7|        5.5|  0.5|    0.5|       0.0|         0.0|     null|                  0.3|         6.8|           2|        1|                 0.0|\n",
      "+--------+--------------------+---------------------+------------------+----------+------------+------------+---------------+-------------+-----------+-----+-------+----------+------------+---------+---------------------+------------+------------+---------+--------------------+\n",
      "only showing top 20 rows\n",
      "\n"
     ]
    },
    {
     "name": "stderr",
     "output_type": "stream",
     "text": [
      "\r",
      "                                                                                \r"
     ]
    }
   ],
   "source": [
    "df.show()"
   ]
  },
  {
   "cell_type": "code",
   "execution_count": 19,
   "metadata": {},
   "outputs": [
    {
     "name": "stderr",
     "output_type": "stream",
     "text": [
      "\r",
      "[Stage 11:>                                                         (0 + 1) / 1]\r"
     ]
    },
    {
     "name": "stdout",
     "output_type": "stream",
     "text": [
      "+-----------+------------+------------+------------+\n",
      "|pickup_date|dropoff_date|PULocationID|DOLocationID|\n",
      "+-----------+------------+------------+------------+\n",
      "| 2020-01-12|  2020-01-12|         218|          95|\n",
      "| 2020-01-08|  2020-01-08|          41|         185|\n",
      "| 2020-01-26|  2020-01-26|          74|         166|\n",
      "| 2020-01-24|  2020-01-24|           7|           7|\n",
      "| 2020-01-04|  2020-01-04|         260|         173|\n",
      "| 2020-01-06|  2020-01-06|         242|         254|\n",
      "| 2020-01-26|  2020-01-26|          76|          61|\n",
      "| 2020-01-16|  2020-01-16|         159|         212|\n",
      "| 2020-01-27|  2020-01-27|          82|         258|\n",
      "| 2020-01-15|  2020-01-15|          37|          35|\n",
      "| 2020-01-17|  2020-01-17|          95|         216|\n",
      "| 2020-01-17|  2020-01-17|         198|         124|\n",
      "| 2020-01-07|  2020-01-07|          65|          52|\n",
      "| 2020-01-12|  2020-01-12|          69|          75|\n",
      "| 2020-01-23|  2020-01-23|          25|          17|\n",
      "| 2020-01-10|  2020-01-10|         265|         231|\n",
      "| 2020-01-11|  2020-01-11|         134|          95|\n",
      "| 2020-01-08|  2020-01-08|         226|         260|\n",
      "| 2020-01-31|  2020-01-31|          75|         236|\n",
      "| 2020-01-13|  2020-01-13|          56|         226|\n",
      "+-----------+------------+------------+------------+\n",
      "only showing top 20 rows\n",
      "\n"
     ]
    },
    {
     "name": "stderr",
     "output_type": "stream",
     "text": [
      "\r",
      "                                                                                \r"
     ]
    }
   ],
   "source": [
    "# # With this new schema, we can now create a dataframe with inferred datatypes.\n",
    "\n",
    "df \\\n",
    "    .withColumn('pickup_date', F.to_date(df.lpep_pickup_datetime)) \\\n",
    "    .withColumn('dropoff_date', F.to_date(df.lpep_dropoff_datetime)) \\\n",
    "    .select('pickup_date', 'dropoff_date', 'PULocationID', 'DOLocationID') \\\n",
    "    .show()"
   ]
  },
  {
   "cell_type": "code",
   "execution_count": 20,
   "metadata": {},
   "outputs": [
    {
     "name": "stderr",
     "output_type": "stream",
     "text": [
      "\r",
      "[Stage 14:>                                                         (0 + 1) / 1]\r"
     ]
    },
    {
     "name": "stdout",
     "output_type": "stream",
     "text": [
      "+--------+-----------+------------+------------+------------+\n",
      "|VendorID|pickup_date|dropoff_date|PULocationID|DOLocationID|\n",
      "+--------+-----------+------------+------------+------------+\n",
      "|       2| 2020-01-04|  2020-01-04|          41|          41|\n",
      "|    null| 2020-01-24|  2020-01-24|          72|          35|\n",
      "|       2| 2020-01-03|  2020-01-03|          75|         238|\n",
      "|       2| 2020-01-14|  2020-01-14|         145|         145|\n",
      "|       2| 2020-01-08|  2020-01-08|          74|         151|\n",
      "|       2| 2020-01-08|  2020-01-08|          95|         198|\n",
      "|       2| 2020-01-06|  2020-01-06|           7|         223|\n",
      "|       2| 2020-01-02|  2020-01-02|          82|         260|\n",
      "|       2| 2020-01-06|  2020-01-06|          33|          52|\n",
      "|       2| 2020-01-05|  2020-01-05|          82|          82|\n",
      "|       1| 2020-01-18|  2020-01-18|          82|          95|\n",
      "|       2| 2020-01-16|  2020-01-16|          75|         238|\n",
      "|       2| 2020-01-01|  2020-01-01|         189|          89|\n",
      "|       2| 2020-01-30|  2020-01-30|          74|         244|\n",
      "|       2| 2020-01-08|  2020-01-08|          29|          81|\n",
      "|       2| 2020-01-20|  2020-01-20|         215|         130|\n",
      "|       2| 2020-01-02|  2020-01-02|          42|          41|\n",
      "|       1| 2020-01-14|  2020-01-14|          74|          75|\n",
      "|       2| 2020-01-18|  2020-01-18|          74|          74|\n",
      "|       2| 2020-01-09|  2020-01-09|         223|           7|\n",
      "+--------+-----------+------------+------------+------------+\n",
      "only showing top 20 rows\n",
      "\n"
     ]
    },
    {
     "name": "stderr",
     "output_type": "stream",
     "text": [
      "\r",
      "                                                                                \r"
     ]
    }
   ],
   "source": [
    "# # With this new schema, we can now create a dataframe with inferred datatypes.\n",
    "\n",
    "df \\\n",
    "    .withColumn('pickup_date', F.to_date(df.lpep_pickup_datetime)) \\\n",
    "    .withColumn('dropoff_date', F.to_date(df.lpep_dropoff_datetime)) \\\n",
    "    .select('VendorID', 'pickup_date', 'dropoff_date', 'PULocationID', 'DOLocationID') \\\n",
    "    .show()"
   ]
  },
  {
   "cell_type": "code",
   "execution_count": null,
   "metadata": {},
   "outputs": [],
   "source": []
  }
 ],
 "metadata": {
  "interpreter": {
   "hash": "1cc142a295aadb3a4a4b07e4cf623a190b887fd9d0099585537187a2dbcd9102"
  },
  "kernelspec": {
   "display_name": "Python 3 (ipykernel)",
   "language": "python",
   "name": "python3"
  },
  "language_info": {
   "codemirror_mode": {
    "name": "ipython",
    "version": 3
   },
   "file_extension": ".py",
   "mimetype": "text/x-python",
   "name": "python",
   "nbconvert_exporter": "python",
   "pygments_lexer": "ipython3",
   "version": "3.10.12"
  }
 },
 "nbformat": 4,
 "nbformat_minor": 2
}
