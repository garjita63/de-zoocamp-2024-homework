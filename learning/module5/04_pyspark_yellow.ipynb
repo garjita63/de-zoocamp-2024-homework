{
 "cells": [
  {
   "cell_type": "markdown",
   "metadata": {},
   "source": [
    "# Instancing Spark"
   ]
  },
  {
   "cell_type": "code",
   "execution_count": 1,
   "metadata": {},
   "outputs": [],
   "source": [
    "# Import the PySpark library and the `SparkSession` class\n",
    "\n",
    "import pyspark\n",
    "from pyspark.sql import SparkSession"
   ]
  },
  {
   "cell_type": "code",
   "execution_count": 2,
   "metadata": {},
   "outputs": [
    {
     "name": "stderr",
     "output_type": "stream",
     "text": [
      "24/03/02 13:40:15 WARN Utils: Your hostname, Desktop-Gar resolves to a loopback address: 127.0.1.1; using 172.25.243.204 instead (on interface eth0)\n",
      "24/03/02 13:40:15 WARN Utils: Set SPARK_LOCAL_IP if you need to bind to another address\n",
      "Setting default log level to \"WARN\".\n",
      "To adjust logging level use sc.setLogLevel(newLevel). For SparkR, use setLogLevel(newLevel).\n",
      "24/03/02 13:40:18 WARN NativeCodeLoader: Unable to load native-hadoop library for your platform... using builtin-java classes where applicable\n",
      "24/03/02 13:40:22 WARN Utils: Service 'SparkUI' could not bind on port 4040. Attempting port 4041.\n"
     ]
    }
   ],
   "source": [
    "# Instance a session\n",
    "\n",
    "spark = SparkSession.builder \\\n",
    "    .master(\"local[*]\") \\\n",
    "    .appName('test') \\\n",
    "    .getOrCreate()"
   ]
  },
  {
   "cell_type": "markdown",
   "metadata": {},
   "source": [
    "# Read data"
   ]
  },
  {
   "cell_type": "code",
   "execution_count": null,
   "metadata": {},
   "outputs": [],
   "source": [
    "# Download some large data\n",
    "\n",
    "# !wget https://github.com/DataTalksClub/nyc-tlc-data/releases/download/yellow/yellow_tripdata_2020-01.csv.gz"
   ]
  },
  {
   "cell_type": "code",
   "execution_count": 3,
   "metadata": {},
   "outputs": [
    {
     "name": "stderr",
     "output_type": "stream",
     "text": [
      "                                                                                \r"
     ]
    }
   ],
   "source": [
    "# Read the data. Note that the datatypes are not inferred; everything is a string.\n",
    "\n",
    "df = spark.read \\\n",
    "    .option(\"header\", \"true\") \\\n",
    "    .csv('data/csv/yellow_tripdata_2020-01.csv.gz')"
   ]
  },
  {
   "cell_type": "code",
   "execution_count": 4,
   "metadata": {},
   "outputs": [
    {
     "name": "stdout",
     "output_type": "stream",
     "text": [
      "+--------+--------------------+---------------------+---------------+-------------+----------+------------------+------------+------------+------------+-----------+-----+-------+----------+------------+---------------------+------------+--------------------+\n",
      "|VendorID|tpep_pickup_datetime|tpep_dropoff_datetime|passenger_count|trip_distance|RatecodeID|store_and_fwd_flag|PULocationID|DOLocationID|payment_type|fare_amount|extra|mta_tax|tip_amount|tolls_amount|improvement_surcharge|total_amount|congestion_surcharge|\n",
      "+--------+--------------------+---------------------+---------------+-------------+----------+------------------+------------+------------+------------+-----------+-----+-------+----------+------------+---------------------+------------+--------------------+\n",
      "|       1| 2020-01-01 00:28:15|  2020-01-01 00:33:03|              1|         1.20|         1|                 N|         238|         239|           1|          6|    3|    0.5|      1.47|           0|                  0.3|       11.27|                 2.5|\n",
      "|       1| 2020-01-01 00:35:39|  2020-01-01 00:43:04|              1|         1.20|         1|                 N|         239|         238|           1|          7|    3|    0.5|       1.5|           0|                  0.3|        12.3|                 2.5|\n",
      "|       1| 2020-01-01 00:47:41|  2020-01-01 00:53:52|              1|          .60|         1|                 N|         238|         238|           1|          6|    3|    0.5|         1|           0|                  0.3|        10.8|                 2.5|\n",
      "|       1| 2020-01-01 00:55:23|  2020-01-01 01:00:14|              1|          .80|         1|                 N|         238|         151|           1|        5.5|  0.5|    0.5|      1.36|           0|                  0.3|        8.16|                   0|\n",
      "|       2| 2020-01-01 00:01:58|  2020-01-01 00:04:16|              1|          .00|         1|                 N|         193|         193|           2|        3.5|  0.5|    0.5|         0|           0|                  0.3|         4.8|                   0|\n",
      "|       2| 2020-01-01 00:09:44|  2020-01-01 00:10:37|              1|          .03|         1|                 N|           7|         193|           2|        2.5|  0.5|    0.5|         0|           0|                  0.3|         3.8|                   0|\n",
      "|       2| 2020-01-01 00:39:25|  2020-01-01 00:39:29|              1|          .00|         1|                 N|         193|         193|           1|        2.5|  0.5|    0.5|      0.01|           0|                  0.3|        3.81|                   0|\n",
      "|       2| 2019-12-18 15:27:49|  2019-12-18 15:28:59|              1|          .00|         5|                 N|         193|         193|           1|       0.01|    0|      0|         0|           0|                  0.3|        2.81|                 2.5|\n",
      "|       2| 2019-12-18 15:30:35|  2019-12-18 15:31:35|              4|          .00|         1|                 N|         193|         193|           1|        2.5|  0.5|    0.5|         0|           0|                  0.3|         6.3|                 2.5|\n",
      "|       1| 2020-01-01 00:29:01|  2020-01-01 00:40:28|              2|          .70|         1|                 N|         246|          48|           1|          8|    3|    0.5|      2.35|           0|                  0.3|       14.15|                 2.5|\n",
      "|       1| 2020-01-01 00:55:11|  2020-01-01 01:12:03|              2|         2.40|         1|                 N|         246|          79|           1|         12|    3|    0.5|      1.75|           0|                  0.3|       17.55|                 2.5|\n",
      "|       1| 2020-01-01 00:37:15|  2020-01-01 00:51:41|              1|          .80|         1|                 N|         163|         161|           2|        9.5|    3|    0.5|         0|           0|                  0.3|        13.3|                 2.5|\n",
      "|       1| 2020-01-01 00:56:27|  2020-01-01 01:21:44|              1|         3.30|         1|                 N|         161|         144|           1|         17|    3|    0.5|      4.15|           0|                  0.3|       24.95|                 2.5|\n",
      "|       2| 2020-01-01 00:21:54|  2020-01-01 00:27:31|              1|         1.07|         1|                 N|          43|         239|           1|          6|  0.5|    0.5|      1.96|           0|                  0.3|       11.76|                 2.5|\n",
      "|       2| 2020-01-01 00:38:01|  2020-01-01 01:15:21|              1|         7.76|         1|                 N|         143|          25|           1|       28.5|  0.5|    0.5|      4.84|           0|                  0.3|       37.14|                 2.5|\n",
      "|       1| 2020-01-01 00:15:35|  2020-01-01 00:27:06|              3|         1.60|         1|                 N|         211|         234|           2|          9|    3|    0.5|         0|           0|                  0.3|        12.8|                 2.5|\n",
      "|       1| 2020-01-01 00:41:20|  2020-01-01 00:44:22|              1|          .50|         1|                 Y|         234|          90|           1|          4|    3|    0.5|         1|           0|                  0.3|         8.8|                 2.5|\n",
      "|       1| 2020-01-01 00:56:38|  2020-01-01 01:13:34|              1|         1.70|         1|                 N|         246|         142|           2|       11.5|    3|    0.5|         0|           0|                  0.3|        15.3|                 2.5|\n",
      "|       2| 2020-01-01 00:08:21|  2020-01-01 00:25:29|              1|         8.45|         1|                 N|         138|         216|           2|       24.5|  0.5|    0.5|         0|           0|                  0.3|        25.8|                   0|\n",
      "|       1| 2020-01-01 00:25:39|  2020-01-01 00:27:05|              1|          .00|         1|                 N|         170|         162|           4|          3|    3|    0.5|         0|           0|                  0.3|         6.8|                 2.5|\n",
      "+--------+--------------------+---------------------+---------------+-------------+----------+------------------+------------+------------+------------+-----------+-----+-------+----------+------------+---------------------+------------+--------------------+\n",
      "only showing top 20 rows\n",
      "\n"
     ]
    }
   ],
   "source": [
    "df.show()"
   ]
  },
  {
   "cell_type": "code",
   "execution_count": 5,
   "metadata": {
    "scrolled": true
   },
   "outputs": [
    {
     "data": {
      "text/plain": [
       "[Row(VendorID='1', tpep_pickup_datetime='2020-01-01 00:28:15', tpep_dropoff_datetime='2020-01-01 00:33:03', passenger_count='1', trip_distance='1.20', RatecodeID='1', store_and_fwd_flag='N', PULocationID='238', DOLocationID='239', payment_type='1', fare_amount='6', extra='3', mta_tax='0.5', tip_amount='1.47', tolls_amount='0', improvement_surcharge='0.3', total_amount='11.27', congestion_surcharge='2.5'),\n",
       " Row(VendorID='1', tpep_pickup_datetime='2020-01-01 00:35:39', tpep_dropoff_datetime='2020-01-01 00:43:04', passenger_count='1', trip_distance='1.20', RatecodeID='1', store_and_fwd_flag='N', PULocationID='239', DOLocationID='238', payment_type='1', fare_amount='7', extra='3', mta_tax='0.5', tip_amount='1.5', tolls_amount='0', improvement_surcharge='0.3', total_amount='12.3', congestion_surcharge='2.5'),\n",
       " Row(VendorID='1', tpep_pickup_datetime='2020-01-01 00:47:41', tpep_dropoff_datetime='2020-01-01 00:53:52', passenger_count='1', trip_distance='.60', RatecodeID='1', store_and_fwd_flag='N', PULocationID='238', DOLocationID='238', payment_type='1', fare_amount='6', extra='3', mta_tax='0.5', tip_amount='1', tolls_amount='0', improvement_surcharge='0.3', total_amount='10.8', congestion_surcharge='2.5'),\n",
       " Row(VendorID='1', tpep_pickup_datetime='2020-01-01 00:55:23', tpep_dropoff_datetime='2020-01-01 01:00:14', passenger_count='1', trip_distance='.80', RatecodeID='1', store_and_fwd_flag='N', PULocationID='238', DOLocationID='151', payment_type='1', fare_amount='5.5', extra='0.5', mta_tax='0.5', tip_amount='1.36', tolls_amount='0', improvement_surcharge='0.3', total_amount='8.16', congestion_surcharge='0'),\n",
       " Row(VendorID='2', tpep_pickup_datetime='2020-01-01 00:01:58', tpep_dropoff_datetime='2020-01-01 00:04:16', passenger_count='1', trip_distance='.00', RatecodeID='1', store_and_fwd_flag='N', PULocationID='193', DOLocationID='193', payment_type='2', fare_amount='3.5', extra='0.5', mta_tax='0.5', tip_amount='0', tolls_amount='0', improvement_surcharge='0.3', total_amount='4.8', congestion_surcharge='0')]"
      ]
     },
     "execution_count": 5,
     "metadata": {},
     "output_type": "execute_result"
    }
   ],
   "source": [
    "df.head(5)"
   ]
  },
  {
   "cell_type": "code",
   "execution_count": 6,
   "metadata": {},
   "outputs": [
    {
     "name": "stdout",
     "output_type": "stream",
     "text": [
      "root\n",
      " |-- VendorID: string (nullable = true)\n",
      " |-- tpep_pickup_datetime: string (nullable = true)\n",
      " |-- tpep_dropoff_datetime: string (nullable = true)\n",
      " |-- passenger_count: string (nullable = true)\n",
      " |-- trip_distance: string (nullable = true)\n",
      " |-- RatecodeID: string (nullable = true)\n",
      " |-- store_and_fwd_flag: string (nullable = true)\n",
      " |-- PULocationID: string (nullable = true)\n",
      " |-- DOLocationID: string (nullable = true)\n",
      " |-- payment_type: string (nullable = true)\n",
      " |-- fare_amount: string (nullable = true)\n",
      " |-- extra: string (nullable = true)\n",
      " |-- mta_tax: string (nullable = true)\n",
      " |-- tip_amount: string (nullable = true)\n",
      " |-- tolls_amount: string (nullable = true)\n",
      " |-- improvement_surcharge: string (nullable = true)\n",
      " |-- total_amount: string (nullable = true)\n",
      " |-- congestion_surcharge: string (nullable = true)\n",
      "\n"
     ]
    }
   ],
   "source": [
    "# Read the schema\n",
    "\n",
    "df.printSchema()"
   ]
  },
  {
   "cell_type": "markdown",
   "metadata": {},
   "source": [
    "# Creating a schema with Pandas"
   ]
  },
  {
   "cell_type": "code",
   "execution_count": 7,
   "metadata": {},
   "outputs": [],
   "source": [
    "from pyspark.sql import types"
   ]
  },
  {
   "cell_type": "code",
   "execution_count": 8,
   "metadata": {},
   "outputs": [],
   "source": [
    "yellow_schema = types.StructType([\n",
    "    types.StructField(\"VendorID\", types.IntegerType(), True),\n",
    "    types.StructField(\"tpep_pickup_datetime\", types.TimestampType(), True),\n",
    "    types.StructField(\"tpep_dropoff_datetime\", types.TimestampType(), True),\n",
    "    types.StructField(\"store_and_fwd_flag\", types.StringType(), True),\n",
    "    types.StructField(\"RatecodeID\", types.IntegerType(), True),\n",
    "    types.StructField(\"PULocationID\", types.IntegerType(), True),\n",
    "    types.StructField(\"DOLocationID\", types.IntegerType(), True),\n",
    "    types.StructField(\"passenger_count\", types.IntegerType(), True),\n",
    "    types.StructField(\"trip_distance\", types.DoubleType(), True),\n",
    "    types.StructField(\"fare_amount\", types.DoubleType(), True),\n",
    "    types.StructField(\"extra\", types.DoubleType(), True),\n",
    "    types.StructField(\"mta_tax\", types.DoubleType(), True),\n",
    "    types.StructField(\"tip_amount\", types.DoubleType(), True),\n",
    "    types.StructField(\"tolls_amount\", types.DoubleType(), True),\n",
    "    types.StructField(\"ehail_fee\", types.DoubleType(), True),\n",
    "    types.StructField(\"improvement_surcharge\", types.DoubleType(), True),\n",
    "    types.StructField(\"total_amount\", types.DoubleType(), True),\n",
    "    types.StructField(\"payment_type\", types.IntegerType(), True),\n",
    "    types.StructField(\"trip_type\", types.IntegerType(), True),\n",
    "    types.StructField(\"congestion_surcharge\", types.DoubleType(), True)\n",
    "])"
   ]
  },
  {
   "cell_type": "code",
   "execution_count": 11,
   "metadata": {},
   "outputs": [],
   "source": [
    "# With this new schema, we can now create a dataframe with inferred datatypes.\n",
    "\n",
    "df = spark.read \\\n",
    "    .option(\"header\", \"true\") \\\n",
    "    .schema(yellow_schema) \\\n",
    "    .csv('data/csv/yellow_tripdata_2020-01.csv.gz')"
   ]
  },
  {
   "cell_type": "code",
   "execution_count": 12,
   "metadata": {},
   "outputs": [
    {
     "name": "stderr",
     "output_type": "stream",
     "text": [
      "24/03/02 13:42:48 WARN CSVHeaderChecker: Number of column in CSV header is not equal to number of fields in the schema:\n",
      " Header length: 18, schema size: 20\n",
      "CSV file: file:///mnt/e/projects/dezoomcamp/5_batch_processing/code/data/csv/yellow_tripdata_2020-01.csv.gz\n",
      "[Stage 3:>                                                          (0 + 1) / 1]\r"
     ]
    },
    {
     "name": "stdout",
     "output_type": "stream",
     "text": [
      "+--------+--------------------+---------------------+------------------+----------+------------+------------+---------------+-------------+-----------+-----+-------+----------+------------+---------+---------------------+------------+------------+---------+--------------------+\n",
      "|VendorID|tpep_pickup_datetime|tpep_dropoff_datetime|store_and_fwd_flag|RatecodeID|PULocationID|DOLocationID|passenger_count|trip_distance|fare_amount|extra|mta_tax|tip_amount|tolls_amount|ehail_fee|improvement_surcharge|total_amount|payment_type|trip_type|congestion_surcharge|\n",
      "+--------+--------------------+---------------------+------------------+----------+------------+------------+---------------+-------------+-----------+-----+-------+----------+------------+---------+---------------------+------------+------------+---------+--------------------+\n",
      "|       1| 2020-01-01 00:28:15|  2020-01-01 00:33:03|                 1|      null|           1|        null|            238|        239.0|        1.0|  6.0|    3.0|       0.5|        1.47|      0.0|                  0.3|       11.27|        null|     null|                null|\n",
      "|       1| 2020-01-01 00:35:39|  2020-01-01 00:43:04|                 1|      null|           1|        null|            239|        238.0|        1.0|  7.0|    3.0|       0.5|         1.5|      0.0|                  0.3|        12.3|        null|     null|                null|\n",
      "|       1| 2020-01-01 00:47:41|  2020-01-01 00:53:52|                 1|      null|           1|        null|            238|        238.0|        1.0|  6.0|    3.0|       0.5|         1.0|      0.0|                  0.3|        10.8|        null|     null|                null|\n",
      "|       1| 2020-01-01 00:55:23|  2020-01-01 01:00:14|                 1|      null|           1|        null|            238|        151.0|        1.0|  5.5|    0.5|       0.5|        1.36|      0.0|                  0.3|        8.16|           0|     null|                null|\n",
      "|       2| 2020-01-01 00:01:58|  2020-01-01 00:04:16|                 1|      null|           1|        null|            193|        193.0|        2.0|  3.5|    0.5|       0.5|         0.0|      0.0|                  0.3|         4.8|           0|     null|                null|\n",
      "|       2| 2020-01-01 00:09:44|  2020-01-01 00:10:37|                 1|      null|           1|        null|              7|        193.0|        2.0|  2.5|    0.5|       0.5|         0.0|      0.0|                  0.3|         3.8|           0|     null|                null|\n",
      "|       2| 2020-01-01 00:39:25|  2020-01-01 00:39:29|                 1|      null|           1|        null|            193|        193.0|        1.0|  2.5|    0.5|       0.5|        0.01|      0.0|                  0.3|        3.81|           0|     null|                null|\n",
      "|       2| 2019-12-18 15:27:49|  2019-12-18 15:28:59|                 1|      null|           5|        null|            193|        193.0|        1.0| 0.01|    0.0|       0.0|         0.0|      0.0|                  0.3|        2.81|        null|     null|                null|\n",
      "|       2| 2019-12-18 15:30:35|  2019-12-18 15:31:35|                 4|      null|           1|        null|            193|        193.0|        1.0|  2.5|    0.5|       0.5|         0.0|      0.0|                  0.3|         6.3|        null|     null|                null|\n",
      "|       1| 2020-01-01 00:29:01|  2020-01-01 00:40:28|                 2|      null|           1|        null|            246|         48.0|        1.0|  8.0|    3.0|       0.5|        2.35|      0.0|                  0.3|       14.15|        null|     null|                null|\n",
      "|       1| 2020-01-01 00:55:11|  2020-01-01 01:12:03|                 2|      null|           1|        null|            246|         79.0|        1.0| 12.0|    3.0|       0.5|        1.75|      0.0|                  0.3|       17.55|        null|     null|                null|\n",
      "|       1| 2020-01-01 00:37:15|  2020-01-01 00:51:41|                 1|      null|           1|        null|            163|        161.0|        2.0|  9.5|    3.0|       0.5|         0.0|      0.0|                  0.3|        13.3|        null|     null|                null|\n",
      "|       1| 2020-01-01 00:56:27|  2020-01-01 01:21:44|                 1|      null|           1|        null|            161|        144.0|        1.0| 17.0|    3.0|       0.5|        4.15|      0.0|                  0.3|       24.95|        null|     null|                null|\n",
      "|       2| 2020-01-01 00:21:54|  2020-01-01 00:27:31|                 1|      null|           1|        null|             43|        239.0|        1.0|  6.0|    0.5|       0.5|        1.96|      0.0|                  0.3|       11.76|        null|     null|                null|\n",
      "|       2| 2020-01-01 00:38:01|  2020-01-01 01:15:21|                 1|      null|           1|        null|            143|         25.0|        1.0| 28.5|    0.5|       0.5|        4.84|      0.0|                  0.3|       37.14|        null|     null|                null|\n",
      "|       1| 2020-01-01 00:15:35|  2020-01-01 00:27:06|                 3|      null|           1|        null|            211|        234.0|        2.0|  9.0|    3.0|       0.5|         0.0|      0.0|                  0.3|        12.8|        null|     null|                null|\n",
      "|       1| 2020-01-01 00:41:20|  2020-01-01 00:44:22|                 1|      null|           1|        null|            234|         90.0|        1.0|  4.0|    3.0|       0.5|         1.0|      0.0|                  0.3|         8.8|        null|     null|                null|\n",
      "|       1| 2020-01-01 00:56:38|  2020-01-01 01:13:34|                 1|      null|           1|        null|            246|        142.0|        2.0| 11.5|    3.0|       0.5|         0.0|      0.0|                  0.3|        15.3|        null|     null|                null|\n",
      "|       2| 2020-01-01 00:08:21|  2020-01-01 00:25:29|                 1|      null|           1|        null|            138|        216.0|        2.0| 24.5|    0.5|       0.5|         0.0|      0.0|                  0.3|        25.8|           0|     null|                null|\n",
      "|       1| 2020-01-01 00:25:39|  2020-01-01 00:27:05|                 1|      null|           1|        null|            170|        162.0|        4.0|  3.0|    3.0|       0.5|         0.0|      0.0|                  0.3|         6.8|        null|     null|                null|\n",
      "+--------+--------------------+---------------------+------------------+----------+------------+------------+---------------+-------------+-----------+-----+-------+----------+------------+---------+---------------------+------------+------------+---------+--------------------+\n",
      "only showing top 20 rows\n",
      "\n"
     ]
    },
    {
     "name": "stderr",
     "output_type": "stream",
     "text": [
      "\r",
      "                                                                                \r"
     ]
    }
   ],
   "source": [
    "df.show()"
   ]
  },
  {
   "cell_type": "code",
   "execution_count": 13,
   "metadata": {},
   "outputs": [
    {
     "name": "stdout",
     "output_type": "stream",
     "text": [
      "root\n",
      " |-- VendorID: integer (nullable = true)\n",
      " |-- tpep_pickup_datetime: timestamp (nullable = true)\n",
      " |-- tpep_dropoff_datetime: timestamp (nullable = true)\n",
      " |-- store_and_fwd_flag: string (nullable = true)\n",
      " |-- RatecodeID: integer (nullable = true)\n",
      " |-- PULocationID: integer (nullable = true)\n",
      " |-- DOLocationID: integer (nullable = true)\n",
      " |-- passenger_count: integer (nullable = true)\n",
      " |-- trip_distance: double (nullable = true)\n",
      " |-- fare_amount: double (nullable = true)\n",
      " |-- extra: double (nullable = true)\n",
      " |-- mta_tax: double (nullable = true)\n",
      " |-- tip_amount: double (nullable = true)\n",
      " |-- tolls_amount: double (nullable = true)\n",
      " |-- ehail_fee: double (nullable = true)\n",
      " |-- improvement_surcharge: double (nullable = true)\n",
      " |-- total_amount: double (nullable = true)\n",
      " |-- payment_type: integer (nullable = true)\n",
      " |-- trip_type: integer (nullable = true)\n",
      " |-- congestion_surcharge: double (nullable = true)\n",
      "\n"
     ]
    }
   ],
   "source": [
    "df.printSchema()"
   ]
  },
  {
   "cell_type": "markdown",
   "metadata": {},
   "source": [
    "# Partitions"
   ]
  },
  {
   "cell_type": "code",
   "execution_count": 14,
   "metadata": {},
   "outputs": [],
   "source": [
    "# We will now create 24 partitions in our dataframe\n",
    "\n",
    "df = df.repartition(96)"
   ]
  },
  {
   "cell_type": "code",
   "execution_count": 15,
   "metadata": {},
   "outputs": [
    {
     "name": "stderr",
     "output_type": "stream",
     "text": [
      "24/03/02 13:43:49 WARN CSVHeaderChecker: Number of column in CSV header is not equal to number of fields in the schema:\n",
      " Header length: 18, schema size: 20\n",
      "CSV file: file:///mnt/e/projects/dezoomcamp/5_batch_processing/code/data/csv/yellow_tripdata_2020-01.csv.gz\n",
      "                                                                                \r"
     ]
    }
   ],
   "source": [
    "# Let's parquetize the dataframe. This will create 24 smaller parquet files.\n",
    "# This operation may take a while.\n",
    "\n",
    "df.write.csv('data/raw/yellow/2020/01/', mode='overwrite')"
   ]
  },
  {
   "cell_type": "markdown",
   "metadata": {},
   "source": [
    "Check the created files"
   ]
  },
  {
   "cell_type": "code",
   "execution_count": 16,
   "metadata": {},
   "outputs": [
    {
     "name": "stdout",
     "output_type": "stream",
     "text": [
      "total 704M\r\n",
      "-rwxrwxrwx 1 root root    0 Mar  2 13:49 _SUCCESS\r\n",
      "-rwxrwxrwx 1 root root 7.4M Mar  2 13:49 part-00000-0e74354d-a4f8-47cf-a2a9-85fd33ea1095-c000.csv\r\n",
      "-rwxrwxrwx 1 root root 7.4M Mar  2 13:49 part-00001-0e74354d-a4f8-47cf-a2a9-85fd33ea1095-c000.csv\r\n",
      "-rwxrwxrwx 1 root root 7.4M Mar  2 13:49 part-00002-0e74354d-a4f8-47cf-a2a9-85fd33ea1095-c000.csv\r\n",
      "-rwxrwxrwx 1 root root 7.4M Mar  2 13:49 part-00003-0e74354d-a4f8-47cf-a2a9-85fd33ea1095-c000.csv\r\n",
      "-rwxrwxrwx 1 root root 7.4M Mar  2 13:49 part-00004-0e74354d-a4f8-47cf-a2a9-85fd33ea1095-c000.csv\r\n",
      "-rwxrwxrwx 1 root root 7.4M Mar  2 13:49 part-00005-0e74354d-a4f8-47cf-a2a9-85fd33ea1095-c000.csv\r\n",
      "-rwxrwxrwx 1 root root 7.4M Mar  2 13:49 part-00006-0e74354d-a4f8-47cf-a2a9-85fd33ea1095-c000.csv\r\n",
      "-rwxrwxrwx 1 root root 7.4M Mar  2 13:49 part-00007-0e74354d-a4f8-47cf-a2a9-85fd33ea1095-c000.csv\r\n",
      "-rwxrwxrwx 1 root root 7.4M Mar  2 13:49 part-00008-0e74354d-a4f8-47cf-a2a9-85fd33ea1095-c000.csv\r\n",
      "-rwxrwxrwx 1 root root 7.4M Mar  2 13:49 part-00009-0e74354d-a4f8-47cf-a2a9-85fd33ea1095-c000.csv\r\n",
      "-rwxrwxrwx 1 root root 7.4M Mar  2 13:49 part-00010-0e74354d-a4f8-47cf-a2a9-85fd33ea1095-c000.csv\r\n",
      "-rwxrwxrwx 1 root root 7.4M Mar  2 13:49 part-00011-0e74354d-a4f8-47cf-a2a9-85fd33ea1095-c000.csv\r\n",
      "-rwxrwxrwx 1 root root 7.4M Mar  2 13:49 part-00012-0e74354d-a4f8-47cf-a2a9-85fd33ea1095-c000.csv\r\n",
      "-rwxrwxrwx 1 root root 7.4M Mar  2 13:49 part-00013-0e74354d-a4f8-47cf-a2a9-85fd33ea1095-c000.csv\r\n",
      "-rwxrwxrwx 1 root root 7.4M Mar  2 13:49 part-00014-0e74354d-a4f8-47cf-a2a9-85fd33ea1095-c000.csv\r\n",
      "-rwxrwxrwx 1 root root 7.4M Mar  2 13:49 part-00015-0e74354d-a4f8-47cf-a2a9-85fd33ea1095-c000.csv\r\n",
      "-rwxrwxrwx 1 root root 7.4M Mar  2 13:49 part-00016-0e74354d-a4f8-47cf-a2a9-85fd33ea1095-c000.csv\r\n",
      "-rwxrwxrwx 1 root root 7.4M Mar  2 13:49 part-00017-0e74354d-a4f8-47cf-a2a9-85fd33ea1095-c000.csv\r\n",
      "-rwxrwxrwx 1 root root 7.4M Mar  2 13:49 part-00018-0e74354d-a4f8-47cf-a2a9-85fd33ea1095-c000.csv\r\n",
      "-rwxrwxrwx 1 root root 7.4M Mar  2 13:49 part-00019-0e74354d-a4f8-47cf-a2a9-85fd33ea1095-c000.csv\r\n",
      "-rwxrwxrwx 1 root root 7.4M Mar  2 13:49 part-00020-0e74354d-a4f8-47cf-a2a9-85fd33ea1095-c000.csv\r\n",
      "-rwxrwxrwx 1 root root 7.4M Mar  2 13:49 part-00021-0e74354d-a4f8-47cf-a2a9-85fd33ea1095-c000.csv\r\n",
      "-rwxrwxrwx 1 root root 7.4M Mar  2 13:49 part-00022-0e74354d-a4f8-47cf-a2a9-85fd33ea1095-c000.csv\r\n",
      "-rwxrwxrwx 1 root root 7.4M Mar  2 13:49 part-00023-0e74354d-a4f8-47cf-a2a9-85fd33ea1095-c000.csv\r\n",
      "-rwxrwxrwx 1 root root 7.4M Mar  2 13:49 part-00024-0e74354d-a4f8-47cf-a2a9-85fd33ea1095-c000.csv\r\n",
      "-rwxrwxrwx 1 root root 7.4M Mar  2 13:49 part-00025-0e74354d-a4f8-47cf-a2a9-85fd33ea1095-c000.csv\r\n",
      "-rwxrwxrwx 1 root root 7.4M Mar  2 13:49 part-00026-0e74354d-a4f8-47cf-a2a9-85fd33ea1095-c000.csv\r\n",
      "-rwxrwxrwx 1 root root 7.4M Mar  2 13:49 part-00027-0e74354d-a4f8-47cf-a2a9-85fd33ea1095-c000.csv\r\n",
      "-rwxrwxrwx 1 root root 7.4M Mar  2 13:49 part-00028-0e74354d-a4f8-47cf-a2a9-85fd33ea1095-c000.csv\r\n",
      "-rwxrwxrwx 1 root root 7.4M Mar  2 13:49 part-00029-0e74354d-a4f8-47cf-a2a9-85fd33ea1095-c000.csv\r\n",
      "-rwxrwxrwx 1 root root 7.4M Mar  2 13:49 part-00030-0e74354d-a4f8-47cf-a2a9-85fd33ea1095-c000.csv\r\n",
      "-rwxrwxrwx 1 root root 7.4M Mar  2 13:49 part-00031-0e74354d-a4f8-47cf-a2a9-85fd33ea1095-c000.csv\r\n",
      "-rwxrwxrwx 1 root root 7.4M Mar  2 13:49 part-00032-0e74354d-a4f8-47cf-a2a9-85fd33ea1095-c000.csv\r\n",
      "-rwxrwxrwx 1 root root 7.4M Mar  2 13:49 part-00033-0e74354d-a4f8-47cf-a2a9-85fd33ea1095-c000.csv\r\n",
      "-rwxrwxrwx 1 root root 7.4M Mar  2 13:49 part-00034-0e74354d-a4f8-47cf-a2a9-85fd33ea1095-c000.csv\r\n",
      "-rwxrwxrwx 1 root root 7.4M Mar  2 13:49 part-00035-0e74354d-a4f8-47cf-a2a9-85fd33ea1095-c000.csv\r\n",
      "-rwxrwxrwx 1 root root 7.4M Mar  2 13:49 part-00036-0e74354d-a4f8-47cf-a2a9-85fd33ea1095-c000.csv\r\n",
      "-rwxrwxrwx 1 root root 7.4M Mar  2 13:49 part-00037-0e74354d-a4f8-47cf-a2a9-85fd33ea1095-c000.csv\r\n",
      "-rwxrwxrwx 1 root root 7.4M Mar  2 13:49 part-00038-0e74354d-a4f8-47cf-a2a9-85fd33ea1095-c000.csv\r\n",
      "-rwxrwxrwx 1 root root 7.4M Mar  2 13:49 part-00039-0e74354d-a4f8-47cf-a2a9-85fd33ea1095-c000.csv\r\n",
      "-rwxrwxrwx 1 root root 7.4M Mar  2 13:49 part-00040-0e74354d-a4f8-47cf-a2a9-85fd33ea1095-c000.csv\r\n",
      "-rwxrwxrwx 1 root root 7.4M Mar  2 13:49 part-00041-0e74354d-a4f8-47cf-a2a9-85fd33ea1095-c000.csv\r\n",
      "-rwxrwxrwx 1 root root 7.4M Mar  2 13:49 part-00042-0e74354d-a4f8-47cf-a2a9-85fd33ea1095-c000.csv\r\n",
      "-rwxrwxrwx 1 root root 7.4M Mar  2 13:49 part-00043-0e74354d-a4f8-47cf-a2a9-85fd33ea1095-c000.csv\r\n",
      "-rwxrwxrwx 1 root root 7.4M Mar  2 13:49 part-00044-0e74354d-a4f8-47cf-a2a9-85fd33ea1095-c000.csv\r\n",
      "-rwxrwxrwx 1 root root 7.4M Mar  2 13:49 part-00045-0e74354d-a4f8-47cf-a2a9-85fd33ea1095-c000.csv\r\n",
      "-rwxrwxrwx 1 root root 7.4M Mar  2 13:49 part-00046-0e74354d-a4f8-47cf-a2a9-85fd33ea1095-c000.csv\r\n",
      "-rwxrwxrwx 1 root root 7.4M Mar  2 13:49 part-00047-0e74354d-a4f8-47cf-a2a9-85fd33ea1095-c000.csv\r\n",
      "-rwxrwxrwx 1 root root 7.4M Mar  2 13:49 part-00048-0e74354d-a4f8-47cf-a2a9-85fd33ea1095-c000.csv\r\n",
      "-rwxrwxrwx 1 root root 7.4M Mar  2 13:49 part-00049-0e74354d-a4f8-47cf-a2a9-85fd33ea1095-c000.csv\r\n",
      "-rwxrwxrwx 1 root root 7.4M Mar  2 13:49 part-00050-0e74354d-a4f8-47cf-a2a9-85fd33ea1095-c000.csv\r\n",
      "-rwxrwxrwx 1 root root 7.4M Mar  2 13:49 part-00051-0e74354d-a4f8-47cf-a2a9-85fd33ea1095-c000.csv\r\n",
      "-rwxrwxrwx 1 root root 7.4M Mar  2 13:49 part-00052-0e74354d-a4f8-47cf-a2a9-85fd33ea1095-c000.csv\r\n",
      "-rwxrwxrwx 1 root root 7.4M Mar  2 13:49 part-00053-0e74354d-a4f8-47cf-a2a9-85fd33ea1095-c000.csv\r\n",
      "-rwxrwxrwx 1 root root 7.4M Mar  2 13:49 part-00054-0e74354d-a4f8-47cf-a2a9-85fd33ea1095-c000.csv\r\n",
      "-rwxrwxrwx 1 root root 7.4M Mar  2 13:49 part-00055-0e74354d-a4f8-47cf-a2a9-85fd33ea1095-c000.csv\r\n",
      "-rwxrwxrwx 1 root root 7.4M Mar  2 13:49 part-00056-0e74354d-a4f8-47cf-a2a9-85fd33ea1095-c000.csv\r\n",
      "-rwxrwxrwx 1 root root 7.4M Mar  2 13:49 part-00057-0e74354d-a4f8-47cf-a2a9-85fd33ea1095-c000.csv\r\n",
      "-rwxrwxrwx 1 root root 7.4M Mar  2 13:49 part-00058-0e74354d-a4f8-47cf-a2a9-85fd33ea1095-c000.csv\r\n",
      "-rwxrwxrwx 1 root root 7.4M Mar  2 13:49 part-00059-0e74354d-a4f8-47cf-a2a9-85fd33ea1095-c000.csv\r\n",
      "-rwxrwxrwx 1 root root 7.4M Mar  2 13:49 part-00060-0e74354d-a4f8-47cf-a2a9-85fd33ea1095-c000.csv\r\n",
      "-rwxrwxrwx 1 root root 7.4M Mar  2 13:49 part-00061-0e74354d-a4f8-47cf-a2a9-85fd33ea1095-c000.csv\r\n",
      "-rwxrwxrwx 1 root root 7.4M Mar  2 13:49 part-00062-0e74354d-a4f8-47cf-a2a9-85fd33ea1095-c000.csv\r\n",
      "-rwxrwxrwx 1 root root 7.4M Mar  2 13:49 part-00063-0e74354d-a4f8-47cf-a2a9-85fd33ea1095-c000.csv\r\n",
      "-rwxrwxrwx 1 root root 7.4M Mar  2 13:49 part-00064-0e74354d-a4f8-47cf-a2a9-85fd33ea1095-c000.csv\r\n",
      "-rwxrwxrwx 1 root root 7.4M Mar  2 13:49 part-00065-0e74354d-a4f8-47cf-a2a9-85fd33ea1095-c000.csv\r\n",
      "-rwxrwxrwx 1 root root 7.4M Mar  2 13:49 part-00066-0e74354d-a4f8-47cf-a2a9-85fd33ea1095-c000.csv\r\n",
      "-rwxrwxrwx 1 root root 7.4M Mar  2 13:49 part-00067-0e74354d-a4f8-47cf-a2a9-85fd33ea1095-c000.csv\r\n",
      "-rwxrwxrwx 1 root root 7.4M Mar  2 13:49 part-00068-0e74354d-a4f8-47cf-a2a9-85fd33ea1095-c000.csv\r\n",
      "-rwxrwxrwx 1 root root 7.4M Mar  2 13:49 part-00069-0e74354d-a4f8-47cf-a2a9-85fd33ea1095-c000.csv\r\n",
      "-rwxrwxrwx 1 root root 7.4M Mar  2 13:49 part-00070-0e74354d-a4f8-47cf-a2a9-85fd33ea1095-c000.csv\r\n",
      "-rwxrwxrwx 1 root root 7.4M Mar  2 13:49 part-00071-0e74354d-a4f8-47cf-a2a9-85fd33ea1095-c000.csv\r\n",
      "-rwxrwxrwx 1 root root 7.4M Mar  2 13:49 part-00072-0e74354d-a4f8-47cf-a2a9-85fd33ea1095-c000.csv\r\n",
      "-rwxrwxrwx 1 root root 7.4M Mar  2 13:49 part-00073-0e74354d-a4f8-47cf-a2a9-85fd33ea1095-c000.csv\r\n",
      "-rwxrwxrwx 1 root root 7.4M Mar  2 13:49 part-00074-0e74354d-a4f8-47cf-a2a9-85fd33ea1095-c000.csv\r\n",
      "-rwxrwxrwx 1 root root 7.4M Mar  2 13:49 part-00075-0e74354d-a4f8-47cf-a2a9-85fd33ea1095-c000.csv\r\n",
      "-rwxrwxrwx 1 root root 7.4M Mar  2 13:49 part-00076-0e74354d-a4f8-47cf-a2a9-85fd33ea1095-c000.csv\r\n",
      "-rwxrwxrwx 1 root root 7.4M Mar  2 13:49 part-00077-0e74354d-a4f8-47cf-a2a9-85fd33ea1095-c000.csv\r\n",
      "-rwxrwxrwx 1 root root 7.4M Mar  2 13:49 part-00078-0e74354d-a4f8-47cf-a2a9-85fd33ea1095-c000.csv\r\n",
      "-rwxrwxrwx 1 root root 7.4M Mar  2 13:49 part-00079-0e74354d-a4f8-47cf-a2a9-85fd33ea1095-c000.csv\r\n",
      "-rwxrwxrwx 1 root root 7.4M Mar  2 13:49 part-00080-0e74354d-a4f8-47cf-a2a9-85fd33ea1095-c000.csv\r\n",
      "-rwxrwxrwx 1 root root 7.4M Mar  2 13:49 part-00081-0e74354d-a4f8-47cf-a2a9-85fd33ea1095-c000.csv\r\n",
      "-rwxrwxrwx 1 root root 7.4M Mar  2 13:49 part-00082-0e74354d-a4f8-47cf-a2a9-85fd33ea1095-c000.csv\r\n",
      "-rwxrwxrwx 1 root root 7.4M Mar  2 13:49 part-00083-0e74354d-a4f8-47cf-a2a9-85fd33ea1095-c000.csv\r\n",
      "-rwxrwxrwx 1 root root 7.4M Mar  2 13:49 part-00084-0e74354d-a4f8-47cf-a2a9-85fd33ea1095-c000.csv\r\n",
      "-rwxrwxrwx 1 root root 7.4M Mar  2 13:49 part-00085-0e74354d-a4f8-47cf-a2a9-85fd33ea1095-c000.csv\r\n",
      "-rwxrwxrwx 1 root root 7.4M Mar  2 13:49 part-00086-0e74354d-a4f8-47cf-a2a9-85fd33ea1095-c000.csv\r\n",
      "-rwxrwxrwx 1 root root 7.4M Mar  2 13:49 part-00087-0e74354d-a4f8-47cf-a2a9-85fd33ea1095-c000.csv\r\n",
      "-rwxrwxrwx 1 root root 7.4M Mar  2 13:49 part-00088-0e74354d-a4f8-47cf-a2a9-85fd33ea1095-c000.csv\r\n",
      "-rwxrwxrwx 1 root root 7.4M Mar  2 13:49 part-00089-0e74354d-a4f8-47cf-a2a9-85fd33ea1095-c000.csv\r\n",
      "-rwxrwxrwx 1 root root 7.4M Mar  2 13:49 part-00090-0e74354d-a4f8-47cf-a2a9-85fd33ea1095-c000.csv\r\n",
      "-rwxrwxrwx 1 root root 7.4M Mar  2 13:49 part-00091-0e74354d-a4f8-47cf-a2a9-85fd33ea1095-c000.csv\r\n",
      "-rwxrwxrwx 1 root root 7.4M Mar  2 13:49 part-00092-0e74354d-a4f8-47cf-a2a9-85fd33ea1095-c000.csv\r\n",
      "-rwxrwxrwx 1 root root 7.4M Mar  2 13:49 part-00093-0e74354d-a4f8-47cf-a2a9-85fd33ea1095-c000.csv\r\n",
      "-rwxrwxrwx 1 root root 7.4M Mar  2 13:49 part-00094-0e74354d-a4f8-47cf-a2a9-85fd33ea1095-c000.csv\r\n",
      "-rwxrwxrwx 1 root root 7.4M Mar  2 13:49 part-00095-0e74354d-a4f8-47cf-a2a9-85fd33ea1095-c000.csv\r\n"
     ]
    }
   ],
   "source": [
    "!ls -lh data/raw/yellow/2020/01/"
   ]
  },
  {
   "cell_type": "markdown",
   "metadata": {},
   "source": [
    "# Spark Dataframes"
   ]
  },
  {
   "cell_type": "code",
   "execution_count": 17,
   "metadata": {},
   "outputs": [
    {
     "name": "stderr",
     "output_type": "stream",
     "text": [
      "\r",
      "[Stage 7:=================================================>       (84 + 8) / 96]\r",
      "\r",
      "                                                                                \r"
     ]
    },
    {
     "data": {
      "text/plain": [
       "DataFrame[_c0: string, _c1: string, _c2: string, _c3: string, _c4: string, _c5: string, _c6: string, _c7: string, _c8: string, _c9: string, _c10: string, _c11: string, _c12: string, _c13: string, _c14: string, _c15: string, _c16: string, _c17: string, _c18: string, _c19: string]"
      ]
     },
     "execution_count": 17,
     "metadata": {},
     "output_type": "execute_result"
    }
   ],
   "source": [
    "# # With this new schema, we can now create a dataframe with inferred datatypes.\n",
    "\n",
    "spark.read.csv('data/raw/yellow/2020/01/')"
   ]
  },
  {
   "cell_type": "code",
   "execution_count": 18,
   "metadata": {},
   "outputs": [
    {
     "name": "stdout",
     "output_type": "stream",
     "text": [
      "root\n",
      " |-- VendorID: integer (nullable = true)\n",
      " |-- tpep_pickup_datetime: timestamp (nullable = true)\n",
      " |-- tpep_dropoff_datetime: timestamp (nullable = true)\n",
      " |-- store_and_fwd_flag: string (nullable = true)\n",
      " |-- RatecodeID: integer (nullable = true)\n",
      " |-- PULocationID: integer (nullable = true)\n",
      " |-- DOLocationID: integer (nullable = true)\n",
      " |-- passenger_count: integer (nullable = true)\n",
      " |-- trip_distance: double (nullable = true)\n",
      " |-- fare_amount: double (nullable = true)\n",
      " |-- extra: double (nullable = true)\n",
      " |-- mta_tax: double (nullable = true)\n",
      " |-- tip_amount: double (nullable = true)\n",
      " |-- tolls_amount: double (nullable = true)\n",
      " |-- ehail_fee: double (nullable = true)\n",
      " |-- improvement_surcharge: double (nullable = true)\n",
      " |-- total_amount: double (nullable = true)\n",
      " |-- payment_type: integer (nullable = true)\n",
      " |-- trip_type: integer (nullable = true)\n",
      " |-- congestion_surcharge: double (nullable = true)\n",
      "\n"
     ]
    }
   ],
   "source": [
    "# # With this new schema, we can now create a dataframe with inferred datatypes.\n",
    "\n",
    "df.printSchema()"
   ]
  },
  {
   "cell_type": "markdown",
   "metadata": {},
   "source": [
    "# Functions and UDFs"
   ]
  },
  {
   "cell_type": "code",
   "execution_count": 19,
   "metadata": {},
   "outputs": [],
   "source": [
    "from pyspark.sql import functions as F"
   ]
  },
  {
   "cell_type": "code",
   "execution_count": 20,
   "metadata": {},
   "outputs": [
    {
     "name": "stderr",
     "output_type": "stream",
     "text": [
      "24/03/02 13:51:05 WARN CSVHeaderChecker: Number of column in CSV header is not equal to number of fields in the schema:\n",
      " Header length: 18, schema size: 20\n",
      "CSV file: file:///mnt/e/projects/dezoomcamp/5_batch_processing/code/data/csv/yellow_tripdata_2020-01.csv.gz\n",
      "[Stage 9:>                                                          (0 + 1) / 1]\r"
     ]
    },
    {
     "name": "stdout",
     "output_type": "stream",
     "text": [
      "+--------+--------------------+---------------------+------------------+----------+------------+------------+---------------+-------------+-----------+-----+-------+----------+------------+---------+---------------------+------------+------------+---------+--------------------+\n",
      "|VendorID|tpep_pickup_datetime|tpep_dropoff_datetime|store_and_fwd_flag|RatecodeID|PULocationID|DOLocationID|passenger_count|trip_distance|fare_amount|extra|mta_tax|tip_amount|tolls_amount|ehail_fee|improvement_surcharge|total_amount|payment_type|trip_type|congestion_surcharge|\n",
      "+--------+--------------------+---------------------+------------------+----------+------------+------------+---------------+-------------+-----------+-----+-------+----------+------------+---------+---------------------+------------+------------+---------+--------------------+\n",
      "|       2| 2020-01-04 13:49:54|  2020-01-04 13:58:51|                 1|      null|           1|        null|            161|        113.0|        1.0|  8.5|    0.0|       0.5|        2.36|      0.0|                  0.3|       14.16|        null|     null|                null|\n",
      "|       2| 2020-01-29 09:18:36|  2020-01-29 09:26:35|                 1|      null|           1|        null|            263|        141.0|        1.0|  7.0|    0.0|       0.5|         0.0|      0.0|                  0.3|        10.3|        null|     null|                null|\n",
      "|       1| 2020-01-17 16:46:22|  2020-01-17 17:47:26|                 1|      null|           1|        null|            138|        181.0|        1.0| 42.0|    1.0|       0.5|        10.9|      0.0|                  0.3|        54.7|           0|     null|                null|\n",
      "|       2| 2020-01-24 18:24:19|  2020-01-24 18:40:54|                 1|      null|           1|        null|             65|        113.0|        1.0| 14.5|    1.0|       0.5|        3.76|      0.0|                  0.3|       22.56|        null|     null|                null|\n",
      "|       1| 2020-01-24 13:23:22|  2020-01-24 13:32:25|                 2|      null|           1|        null|            233|        140.0|        2.0|  8.5|    2.5|       0.5|         0.0|      0.0|                  0.3|        11.8|        null|     null|                null|\n",
      "|       2| 2020-01-25 14:17:32|  2020-01-25 14:36:21|                 1|      null|           1|        null|            141|        234.0|        1.0| 13.5|    0.0|       0.5|        3.36|      0.0|                  0.3|       20.16|        null|     null|                null|\n",
      "|       2| 2020-01-01 23:06:01|  2020-01-01 23:18:52|                 1|      null|           1|        null|            100|        146.0|        1.0| 13.0|    0.5|       0.5|        3.36|      0.0|                  0.3|       20.16|        null|     null|                null|\n",
      "|       2| 2020-01-01 13:05:06|  2020-01-01 13:24:49|                 1|      null|           1|        null|            249|         33.0|        1.0| 15.5|    0.0|       0.5|        3.76|      0.0|                  0.3|       22.56|        null|     null|                null|\n",
      "|       2| 2020-01-18 13:17:10|  2020-01-18 13:40:26|                 5|      null|           1|        null|            186|        100.0|        2.0| 14.0|    0.0|       0.5|         0.0|      0.0|                  0.3|        17.3|        null|     null|                null|\n",
      "|       2| 2020-01-31 12:13:31|  2020-01-31 12:37:25|                 1|      null|           1|        null|            100|         13.0|        1.0| 19.0|    0.0|       0.5|        4.46|      0.0|                  0.3|       26.76|        null|     null|                null|\n",
      "|       1| 2020-01-15 15:48:02|  2020-01-15 16:00:09|                 1|      null|           1|        null|            249|        137.0|        2.0| 10.0|    3.5|       0.5|         0.0|      0.0|                  0.3|        14.3|        null|     null|                null|\n",
      "|       1| 2020-01-31 01:19:16|  2020-01-31 01:23:57|                 1|      null|           1|        null|            137|         79.0|        1.0|  8.5|    3.0|       0.5|        2.45|      0.0|                  0.3|       14.75|        null|     null|                null|\n",
      "|       1| 2020-01-04 17:41:02|  2020-01-04 17:45:43|                 1|      null|           1|        null|            186|        246.0|        2.0|  5.5|    2.5|       0.5|         0.0|      0.0|                  0.3|         8.8|        null|     null|                null|\n",
      "|       2| 2020-01-30 13:22:12|  2020-01-30 13:47:17|                 5|      null|           1|        null|            162|        166.0|        2.0| 19.5|    0.0|       0.5|         0.0|      0.0|                  0.3|        22.8|        null|     null|                null|\n",
      "|       2| 2020-01-07 16:34:18|  2020-01-07 16:40:45|                 1|      null|           1|        null|            161|        230.0|        2.0|  6.0|    1.0|       0.5|         0.0|      0.0|                  0.3|        10.3|        null|     null|                null|\n",
      "|       2| 2020-01-29 16:04:40|  2020-01-29 16:15:12|                 2|      null|           1|        null|            170|        234.0|        1.0|  8.5|    1.0|       0.5|        2.56|      0.0|                  0.3|       15.36|        null|     null|                null|\n",
      "|       1| 2020-01-16 21:01:58|  2020-01-16 21:16:23|                 1|      null|           1|        null|            164|        239.0|        1.0| 11.5|    3.0|       0.5|        3.05|      0.0|                  0.3|       18.35|        null|     null|                null|\n",
      "|       2| 2020-01-24 12:27:37|  2020-01-24 12:50:19|                 1|      null|           1|        null|            163|        114.0|        2.0| 16.0|    0.0|       0.5|         0.0|      0.0|                  0.3|        19.3|        null|     null|                null|\n",
      "|       2| 2020-01-18 17:25:17|  2020-01-18 17:43:14|                 1|      null|           1|        null|             68|        232.0|        2.0| 15.0|    0.0|       0.5|         0.0|      0.0|                  0.3|        18.3|        null|     null|                null|\n",
      "|       2| 2020-01-17 08:58:07|  2020-01-17 09:09:02|                 1|      null|           1|        null|             90|        164.0|        2.0|  8.0|    0.0|       0.5|         0.0|      0.0|                  0.3|        11.3|        null|     null|                null|\n",
      "+--------+--------------------+---------------------+------------------+----------+------------+------------+---------------+-------------+-----------+-----+-------+----------+------------+---------+---------------------+------------+------------+---------+--------------------+\n",
      "only showing top 20 rows\n",
      "\n"
     ]
    },
    {
     "name": "stderr",
     "output_type": "stream",
     "text": [
      "\r",
      "                                                                                \r"
     ]
    }
   ],
   "source": [
    "df.show()"
   ]
  },
  {
   "cell_type": "code",
   "execution_count": 21,
   "metadata": {},
   "outputs": [
    {
     "name": "stderr",
     "output_type": "stream",
     "text": [
      "24/03/02 13:56:22 WARN CSVHeaderChecker: CSV header does not conform to the schema.\n",
      " Header: tpep_pickup_datetime, tpep_dropoff_datetime, RatecodeID, store_and_fwd_flag\n",
      " Schema: tpep_pickup_datetime, tpep_dropoff_datetime, PULocationID, DOLocationID\n",
      "Expected: PULocationID but found: RatecodeID\n",
      "CSV file: file:///mnt/e/projects/dezoomcamp/5_batch_processing/code/data/csv/yellow_tripdata_2020-01.csv.gz\n",
      "[Stage 12:>                                                         (0 + 1) / 1]\r"
     ]
    },
    {
     "name": "stdout",
     "output_type": "stream",
     "text": [
      "+-----------+------------+------------+------------+\n",
      "|pickup_date|dropoff_date|PULocationID|DOLocationID|\n",
      "+-----------+------------+------------+------------+\n",
      "| 2020-01-28|  2020-01-28|           1|        null|\n",
      "| 2020-01-23|  2020-01-23|           1|        null|\n",
      "| 2020-01-28|  2020-01-28|           1|        null|\n",
      "| 2020-01-08|  2020-01-08|           1|        null|\n",
      "| 2020-01-12|  2020-01-12|           1|        null|\n",
      "| 2020-01-22|  2020-01-22|           1|        null|\n",
      "| 2020-01-16|  2020-01-16|           1|        null|\n",
      "| 2020-01-31|  2020-01-31|           1|        null|\n",
      "| 2020-01-08|  2020-01-08|           1|        null|\n",
      "| 2020-01-05|  2020-01-05|           1|        null|\n",
      "| 2020-01-08|  2020-01-08|           1|        null|\n",
      "| 2020-01-11|  2020-01-11|           1|        null|\n",
      "| 2020-01-02|  2020-01-02|           1|        null|\n",
      "| 2020-01-24|  2020-01-24|           1|        null|\n",
      "| 2020-01-05|  2020-01-05|           1|        null|\n",
      "| 2020-01-12|  2020-01-12|           1|        null|\n",
      "| 2020-01-18|  2020-01-18|           1|        null|\n",
      "| 2020-01-07|  2020-01-07|           1|        null|\n",
      "| 2020-01-31|  2020-01-31|           1|        null|\n",
      "| 2020-01-16|  2020-01-16|           1|        null|\n",
      "+-----------+------------+------------+------------+\n",
      "only showing top 20 rows\n",
      "\n"
     ]
    },
    {
     "name": "stderr",
     "output_type": "stream",
     "text": [
      "\r",
      "                                                                                \r"
     ]
    }
   ],
   "source": [
    "# # With this new schema, we can now create a dataframe with inferred datatypes.\n",
    "\n",
    "df \\\n",
    "    .withColumn('pickup_date', F.to_date(df.tpep_pickup_datetime)) \\\n",
    "    .withColumn('dropoff_date', F.to_date(df.tpep_dropoff_datetime)) \\\n",
    "    .select('pickup_date', 'dropoff_date', 'PULocationID', 'DOLocationID') \\\n",
    "    .show()"
   ]
  },
  {
   "cell_type": "code",
   "execution_count": 23,
   "metadata": {},
   "outputs": [
    {
     "name": "stderr",
     "output_type": "stream",
     "text": [
      "24/03/02 13:58:55 WARN CSVHeaderChecker: CSV header does not conform to the schema.\n",
      " Header: VendorID, tpep_pickup_datetime, tpep_dropoff_datetime, RatecodeID, store_and_fwd_flag\n",
      " Schema: VendorID, tpep_pickup_datetime, tpep_dropoff_datetime, PULocationID, DOLocationID\n",
      "Expected: PULocationID but found: RatecodeID\n",
      "CSV file: file:///mnt/e/projects/dezoomcamp/5_batch_processing/code/data/csv/yellow_tripdata_2020-01.csv.gz\n",
      "[Stage 15:>                                                         (0 + 1) / 1]\r"
     ]
    },
    {
     "name": "stdout",
     "output_type": "stream",
     "text": [
      "+--------+-----------+------------+------------+------------+\n",
      "|VendorID|pickup_date|dropoff_date|PULocationID|DOLocationID|\n",
      "+--------+-----------+------------+------------+------------+\n",
      "|       1| 2020-01-24|  2020-01-24|           1|        null|\n",
      "|       1| 2020-01-31|  2020-01-31|           1|        null|\n",
      "|       2| 2020-01-01|  2020-01-01|           1|        null|\n",
      "|       2| 2020-01-20|  2020-01-20|           1|        null|\n",
      "|       2| 2020-01-29|  2020-01-29|           1|        null|\n",
      "|       2| 2020-01-28|  2020-01-28|           1|        null|\n",
      "|       2| 2020-01-30|  2020-01-30|           1|        null|\n",
      "|       2| 2020-01-08|  2020-01-08|           1|        null|\n",
      "|       2| 2020-01-15|  2020-01-15|           1|        null|\n",
      "|       2| 2020-01-14|  2020-01-14|           1|        null|\n",
      "|       2| 2020-01-05|  2020-01-05|           1|        null|\n",
      "|       2| 2020-01-31|  2020-01-31|           1|        null|\n",
      "|    null| 2020-01-10|  2020-01-10|        null|        null|\n",
      "|       2| 2020-01-14|  2020-01-14|           1|        null|\n",
      "|       1| 2020-01-14|  2020-01-14|           1|        null|\n",
      "|       2| 2020-01-29|  2020-01-29|           1|        null|\n",
      "|       1| 2020-01-24|  2020-01-24|           1|        null|\n",
      "|       2| 2020-01-18|  2020-01-18|           1|        null|\n",
      "|       2| 2020-01-05|  2020-01-05|           1|        null|\n",
      "|       1| 2020-01-28|  2020-01-28|           1|        null|\n",
      "+--------+-----------+------------+------------+------------+\n",
      "only showing top 20 rows\n",
      "\n"
     ]
    },
    {
     "name": "stderr",
     "output_type": "stream",
     "text": [
      "\r",
      "                                                                                \r"
     ]
    }
   ],
   "source": [
    "# # With this new schema, we can now create a dataframe with inferred datatypes.\n",
    "\n",
    "df \\\n",
    "    .withColumn('pickup_date', F.to_date(df.tpep_pickup_datetime)) \\\n",
    "    .withColumn('dropoff_date', F.to_date(df.tpep_dropoff_datetime)) \\\n",
    "    .select('VendorID', 'pickup_date', 'dropoff_date', 'PULocationID', 'DOLocationID') \\\n",
    "    .show()"
   ]
  },
  {
   "cell_type": "code",
   "execution_count": null,
   "metadata": {},
   "outputs": [],
   "source": []
  }
 ],
 "metadata": {
  "interpreter": {
   "hash": "1cc142a295aadb3a4a4b07e4cf623a190b887fd9d0099585537187a2dbcd9102"
  },
  "kernelspec": {
   "display_name": "Python 3 (ipykernel)",
   "language": "python",
   "name": "python3"
  },
  "language_info": {
   "codemirror_mode": {
    "name": "ipython",
    "version": 3
   },
   "file_extension": ".py",
   "mimetype": "text/x-python",
   "name": "python",
   "nbconvert_exporter": "python",
   "pygments_lexer": "ipython3",
   "version": "3.10.12"
  }
 },
 "nbformat": 4,
 "nbformat_minor": 2
}
